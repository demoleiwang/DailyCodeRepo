{
  "nbformat": 4,
  "nbformat_minor": 0,
  "metadata": {
    "colab": {
      "name": "01_1-assignment.ipynb",
      "provenance": [],
      "collapsed_sections": [],
      "authorship_tag": "ABX9TyNn+rMuI4tgROxRpHQnGTnf",
      "include_colab_link": true
    },
    "kernelspec": {
      "name": "python3",
      "display_name": "Python 3"
    }
  },
  "cells": [
    {
      "cell_type": "markdown",
      "metadata": {
        "id": "view-in-github",
        "colab_type": "text"
      },
      "source": [
        "<a href=\"https://colab.research.google.com/github/demoleiwang/DailyCodeRepo/blob/master/Courses/IS713/01_1_assignment.ipynb\" target=\"_parent\"><img src=\"https://colab.research.google.com/assets/colab-badge.svg\" alt=\"Open In Colab\"/></a>"
      ]
    },
    {
      "cell_type": "markdown",
      "metadata": {
        "id": "lTqvX4OUYti6",
        "colab_type": "text"
      },
      "source": [
        "Reference:\n",
        "- https://www.mathsisfun.com/data/confidence-interval.html\n",
        "- http://onlinestatbook.com/2/index.html\n",
        "- https://www.econometrics-with-r.org/\n",
        "\n"
      ]
    },
    {
      "cell_type": "markdown",
      "metadata": {
        "id": "sFpBtJR5Mk1w",
        "colab_type": "text"
      },
      "source": [
        "Download link of *data*: https://drive.google.com/file/d/1Y5Mm7cClpWIv5DaZ4eYjqAjvUc6-5SlJ/view?usp=sharing"
      ]
    },
    {
      "cell_type": "code",
      "metadata": {
        "id": "EaAYinfzMdtt",
        "colab_type": "code",
        "colab": {
          "base_uri": "https://localhost:8080/",
          "height": 85
        },
        "outputId": "a2241191-2065-42e6-a496-7e86b11e9321"
      },
      "source": [
        "!gdown --id '1Y5Mm7cClpWIv5DaZ4eYjqAjvUc6-5SlJ' --output Earnings_and_Height.xlsx"
      ],
      "execution_count": 1,
      "outputs": [
        {
          "output_type": "stream",
          "text": [
            "Downloading...\n",
            "From: https://drive.google.com/uc?id=1Y5Mm7cClpWIv5DaZ4eYjqAjvUc6-5SlJ\n",
            "To: /content/Earnings_and_Height.xlsx\n",
            "\r  0% 0.00/710k [00:00<?, ?B/s]\r100% 710k/710k [00:00<00:00, 45.2MB/s]\n"
          ],
          "name": "stdout"
        }
      ]
    },
    {
      "cell_type": "code",
      "metadata": {
        "id": "--1uQdy1NWfw",
        "colab_type": "code",
        "colab": {}
      },
      "source": [
        "import pandas as pd\n",
        "data = pd.read_excel(\"Earnings_and_Height.xlsx\")"
      ],
      "execution_count": 2,
      "outputs": []
    },
    {
      "cell_type": "markdown",
      "metadata": {
        "id": "z2aMEn3aNhlg",
        "colab_type": "text"
      },
      "source": [
        "~~~\n",
        "# import statsmodels.formula.api as sm\n",
        "# df = pd.DataFrame({\"A\": [10,20,30,40,50], \"B\": [20, 30, 10, 40, 50], \"C\": [32, 234, 23, 23, 42523]})\n",
        "# result = sm.ols(formula=\"A ~ B + C\", data=df).fit()\n",
        "# print(result.params)\n",
        "# print(result.summary())\n",
        "~~~\n"
      ]
    },
    {
      "cell_type": "code",
      "metadata": {
        "id": "YR2I2j7gNbH0",
        "colab_type": "code",
        "colab": {
          "base_uri": "https://localhost:8080/",
          "height": 419
        },
        "outputId": "1b3226dc-a15c-4f14-d1ee-cc7d72cbb159"
      },
      "source": [
        "data"
      ],
      "execution_count": 3,
      "outputs": [
        {
          "output_type": "execute_result",
          "data": {
            "text/html": [
              "<div>\n",
              "<style scoped>\n",
              "    .dataframe tbody tr th:only-of-type {\n",
              "        vertical-align: middle;\n",
              "    }\n",
              "\n",
              "    .dataframe tbody tr th {\n",
              "        vertical-align: top;\n",
              "    }\n",
              "\n",
              "    .dataframe thead th {\n",
              "        text-align: right;\n",
              "    }\n",
              "</style>\n",
              "<table border=\"1\" class=\"dataframe\">\n",
              "  <thead>\n",
              "    <tr style=\"text-align: right;\">\n",
              "      <th></th>\n",
              "      <th>sex</th>\n",
              "      <th>age</th>\n",
              "      <th>mrd</th>\n",
              "      <th>educ</th>\n",
              "      <th>cworker</th>\n",
              "      <th>region</th>\n",
              "      <th>race</th>\n",
              "      <th>earnings</th>\n",
              "      <th>height</th>\n",
              "      <th>weight</th>\n",
              "      <th>occupation</th>\n",
              "    </tr>\n",
              "  </thead>\n",
              "  <tbody>\n",
              "    <tr>\n",
              "      <th>0</th>\n",
              "      <td>0</td>\n",
              "      <td>48</td>\n",
              "      <td>1</td>\n",
              "      <td>13</td>\n",
              "      <td>1</td>\n",
              "      <td>3</td>\n",
              "      <td>1</td>\n",
              "      <td>84054.750000</td>\n",
              "      <td>65</td>\n",
              "      <td>133</td>\n",
              "      <td>1</td>\n",
              "    </tr>\n",
              "    <tr>\n",
              "      <th>1</th>\n",
              "      <td>0</td>\n",
              "      <td>41</td>\n",
              "      <td>6</td>\n",
              "      <td>12</td>\n",
              "      <td>1</td>\n",
              "      <td>2</td>\n",
              "      <td>1</td>\n",
              "      <td>14021.394531</td>\n",
              "      <td>65</td>\n",
              "      <td>155</td>\n",
              "      <td>1</td>\n",
              "    </tr>\n",
              "    <tr>\n",
              "      <th>2</th>\n",
              "      <td>0</td>\n",
              "      <td>26</td>\n",
              "      <td>1</td>\n",
              "      <td>16</td>\n",
              "      <td>1</td>\n",
              "      <td>1</td>\n",
              "      <td>1</td>\n",
              "      <td>84054.750000</td>\n",
              "      <td>60</td>\n",
              "      <td>108</td>\n",
              "      <td>1</td>\n",
              "    </tr>\n",
              "    <tr>\n",
              "      <th>3</th>\n",
              "      <td>0</td>\n",
              "      <td>37</td>\n",
              "      <td>1</td>\n",
              "      <td>16</td>\n",
              "      <td>1</td>\n",
              "      <td>2</td>\n",
              "      <td>1</td>\n",
              "      <td>84054.750000</td>\n",
              "      <td>67</td>\n",
              "      <td>150</td>\n",
              "      <td>1</td>\n",
              "    </tr>\n",
              "    <tr>\n",
              "      <th>4</th>\n",
              "      <td>0</td>\n",
              "      <td>35</td>\n",
              "      <td>6</td>\n",
              "      <td>16</td>\n",
              "      <td>1</td>\n",
              "      <td>1</td>\n",
              "      <td>1</td>\n",
              "      <td>28560.386719</td>\n",
              "      <td>68</td>\n",
              "      <td>180</td>\n",
              "      <td>1</td>\n",
              "    </tr>\n",
              "    <tr>\n",
              "      <th>...</th>\n",
              "      <td>...</td>\n",
              "      <td>...</td>\n",
              "      <td>...</td>\n",
              "      <td>...</td>\n",
              "      <td>...</td>\n",
              "      <td>...</td>\n",
              "      <td>...</td>\n",
              "      <td>...</td>\n",
              "      <td>...</td>\n",
              "      <td>...</td>\n",
              "      <td>...</td>\n",
              "    </tr>\n",
              "    <tr>\n",
              "      <th>17865</th>\n",
              "      <td>1</td>\n",
              "      <td>47</td>\n",
              "      <td>6</td>\n",
              "      <td>12</td>\n",
              "      <td>1</td>\n",
              "      <td>1</td>\n",
              "      <td>1</td>\n",
              "      <td>18168.841797</td>\n",
              "      <td>70</td>\n",
              "      <td>150</td>\n",
              "      <td>15</td>\n",
              "    </tr>\n",
              "    <tr>\n",
              "      <th>17866</th>\n",
              "      <td>1</td>\n",
              "      <td>44</td>\n",
              "      <td>1</td>\n",
              "      <td>12</td>\n",
              "      <td>2</td>\n",
              "      <td>4</td>\n",
              "      <td>1</td>\n",
              "      <td>84054.750000</td>\n",
              "      <td>74</td>\n",
              "      <td>230</td>\n",
              "      <td>15</td>\n",
              "    </tr>\n",
              "    <tr>\n",
              "      <th>17867</th>\n",
              "      <td>1</td>\n",
              "      <td>30</td>\n",
              "      <td>1</td>\n",
              "      <td>12</td>\n",
              "      <td>1</td>\n",
              "      <td>3</td>\n",
              "      <td>1</td>\n",
              "      <td>16081.587891</td>\n",
              "      <td>65</td>\n",
              "      <td>162</td>\n",
              "      <td>15</td>\n",
              "    </tr>\n",
              "    <tr>\n",
              "      <th>17868</th>\n",
              "      <td>1</td>\n",
              "      <td>46</td>\n",
              "      <td>3</td>\n",
              "      <td>12</td>\n",
              "      <td>4</td>\n",
              "      <td>4</td>\n",
              "      <td>1</td>\n",
              "      <td>84054.750000</td>\n",
              "      <td>68</td>\n",
              "      <td>190</td>\n",
              "      <td>15</td>\n",
              "    </tr>\n",
              "    <tr>\n",
              "      <th>17869</th>\n",
              "      <td>1</td>\n",
              "      <td>37</td>\n",
              "      <td>4</td>\n",
              "      <td>9</td>\n",
              "      <td>6</td>\n",
              "      <td>2</td>\n",
              "      <td>1</td>\n",
              "      <td>12954.765625</td>\n",
              "      <td>68</td>\n",
              "      <td>150</td>\n",
              "      <td>15</td>\n",
              "    </tr>\n",
              "  </tbody>\n",
              "</table>\n",
              "<p>17870 rows × 11 columns</p>\n",
              "</div>"
            ],
            "text/plain": [
              "       sex  age  mrd  educ  ...      earnings  height  weight  occupation\n",
              "0        0   48    1    13  ...  84054.750000      65     133           1\n",
              "1        0   41    6    12  ...  14021.394531      65     155           1\n",
              "2        0   26    1    16  ...  84054.750000      60     108           1\n",
              "3        0   37    1    16  ...  84054.750000      67     150           1\n",
              "4        0   35    6    16  ...  28560.386719      68     180           1\n",
              "...    ...  ...  ...   ...  ...           ...     ...     ...         ...\n",
              "17865    1   47    6    12  ...  18168.841797      70     150          15\n",
              "17866    1   44    1    12  ...  84054.750000      74     230          15\n",
              "17867    1   30    1    12  ...  16081.587891      65     162          15\n",
              "17868    1   46    3    12  ...  84054.750000      68     190          15\n",
              "17869    1   37    4     9  ...  12954.765625      68     150          15\n",
              "\n",
              "[17870 rows x 11 columns]"
            ]
          },
          "metadata": {
            "tags": []
          },
          "execution_count": 3
        }
      ]
    },
    {
      "cell_type": "markdown",
      "metadata": {
        "id": "xrTLFq8XPFh8",
        "colab_type": "text"
      },
      "source": [
        "(a) median value of height"
      ]
    },
    {
      "cell_type": "code",
      "metadata": {
        "id": "Br9pSy84OzDg",
        "colab_type": "code",
        "colab": {
          "base_uri": "https://localhost:8080/",
          "height": 34
        },
        "outputId": "3589ff02-a164-47f2-abc7-0db042adb5c3"
      },
      "source": [
        "data.median(axis=0)['height']"
      ],
      "execution_count": 4,
      "outputs": [
        {
          "output_type": "execute_result",
          "data": {
            "text/plain": [
              "67.0"
            ]
          },
          "metadata": {
            "tags": []
          },
          "execution_count": 4
        }
      ]
    },
    {
      "cell_type": "markdown",
      "metadata": {
        "id": "DA6Wa68Xa7vJ",
        "colab_type": "text"
      },
      "source": [
        "------"
      ]
    },
    {
      "cell_type": "markdown",
      "metadata": {
        "id": "l_HyobLsPhe8",
        "colab_type": "text"
      },
      "source": [
        "(b) tall workers > 67, short workers <= 67\n",
        "- i) averge earnings of short workers\n",
        "- ii) averge earnings of tall workers\n",
        "- iii) taller > shorter? how much? what is a 95% confidence value $\\bar{x} +/- 1.96 \\times \\frac{sd}{\\sqrt{n}}$\n",
        "\n",
        "Further, for difference, iii) should be $M_1-M_2 + or - (S_{M_1-M_2})$\n",
        "\n",
        "For , $S_{M_1-M_2} = \\sqrt{\\frac{\\sigma_1^2}{n_1} + \\frac{\\sigma_2^2}{n_2}}$ "
      ]
    },
    {
      "cell_type": "code",
      "metadata": {
        "id": "YG2tzm7qVSHw",
        "colab_type": "code",
        "colab": {
          "base_uri": "https://localhost:8080/",
          "height": 51
        },
        "outputId": "9b586b5a-51fa-40f7-b922-79ed7c8b46df"
      },
      "source": [
        "data_taller = data[data['height']>67]\n",
        "data_shorter = data[data['height']<=67]\n",
        "print (data_taller.shape)\n",
        "print (data_shorter.shape)"
      ],
      "execution_count": 5,
      "outputs": [
        {
          "output_type": "stream",
          "text": [
            "(7756, 11)\n",
            "(10114, 11)\n"
          ],
          "name": "stdout"
        }
      ]
    },
    {
      "cell_type": "code",
      "metadata": {
        "id": "d6DErD1MavQ_",
        "colab_type": "code",
        "colab": {
          "base_uri": "https://localhost:8080/",
          "height": 51
        },
        "outputId": "a25e339b-3399-4b2a-af69-99e47199fc52"
      },
      "source": [
        "print (data_taller.earnings.mean())\n",
        "print (data_shorter.earnings.mean())"
      ],
      "execution_count": 6,
      "outputs": [
        {
          "output_type": "stream",
          "text": [
            "49987.87583705357\n",
            "44488.43593526957\n"
          ],
          "name": "stdout"
        }
      ]
    },
    {
      "cell_type": "code",
      "metadata": {
        "id": "bsAifZutmogj",
        "colab_type": "code",
        "colab": {
          "base_uri": "https://localhost:8080/",
          "height": 34
        },
        "outputId": "baef61eb-e016-485f-adc2-52f8724b4035"
      },
      "source": [
        "data_taller.earnings.mean() - data_shorter.earnings.mean()"
      ],
      "execution_count": 7,
      "outputs": [
        {
          "output_type": "execute_result",
          "data": {
            "text/plain": [
              "5499.439901784004"
            ]
          },
          "metadata": {
            "tags": []
          },
          "execution_count": 7
        }
      ]
    },
    {
      "cell_type": "markdown",
      "metadata": {
        "id": "W2K_FuIXYZdF",
        "colab_type": "text"
      },
      "source": [
        "~~~\n",
        "import numpy as np, statsmodels.stats.api as sms\n",
        "\n",
        "X1, X2 = np.arange(10,21), np.arange(20,26.5,.5)\n",
        "\n",
        "cm = sms.CompareMeans(sms.DescrStatsW(X1), sms.DescrStatsW(X2))\n",
        "print cm.tconfint_diff(usevar='unequal')\n",
        "~~~"
      ]
    },
    {
      "cell_type": "markdown",
      "metadata": {
        "id": "2UHLS-mZof3O",
        "colab_type": "text"
      },
      "source": [
        "Refer to: http://onlinestatbook.com/2/estimation/difference_means.html"
      ]
    },
    {
      "cell_type": "code",
      "metadata": {
        "id": "O64E92ZFpLH3",
        "colab_type": "code",
        "colab": {
          "base_uri": "https://localhost:8080/",
          "height": 249
        },
        "outputId": "9a6f4f36-fdb1-4906-c492-5fed908c53a2"
      },
      "source": [
        "mean_ts = data_taller.earnings.mean() - data_shorter.earnings.mean()\n",
        "std1 = data_taller.earnings.std()\n",
        "std2 = data_shorter.earnings.std()\n",
        "print (mean_ts, std1, std2)\n",
        "s_m1_m2 = np.sqrt(std1*std1/data_taller.shape[0] + std2*std2/data_shorter.shape[0])\n",
        "print (s_m1_m2)\n",
        "lower_limit = mean_ts - 1.96*s_m1_m2\n",
        "upper_limit = mean_ts + 1.96*s_m1_m2\n",
        "print (lower_limit, upper_limit)"
      ],
      "execution_count": 8,
      "outputs": [
        {
          "output_type": "stream",
          "text": [
            "5499.439901784004 26896.557391403432 26700.386973094955\n"
          ],
          "name": "stdout"
        },
        {
          "output_type": "error",
          "ename": "NameError",
          "evalue": "ignored",
          "traceback": [
            "\u001b[0;31m---------------------------------------------------------------------------\u001b[0m",
            "\u001b[0;31mNameError\u001b[0m                                 Traceback (most recent call last)",
            "\u001b[0;32m<ipython-input-8-1cd488d35594>\u001b[0m in \u001b[0;36m<module>\u001b[0;34m()\u001b[0m\n\u001b[1;32m      3\u001b[0m \u001b[0mstd2\u001b[0m \u001b[0;34m=\u001b[0m \u001b[0mdata_shorter\u001b[0m\u001b[0;34m.\u001b[0m\u001b[0mearnings\u001b[0m\u001b[0;34m.\u001b[0m\u001b[0mstd\u001b[0m\u001b[0;34m(\u001b[0m\u001b[0;34m)\u001b[0m\u001b[0;34m\u001b[0m\u001b[0;34m\u001b[0m\u001b[0m\n\u001b[1;32m      4\u001b[0m \u001b[0mprint\u001b[0m \u001b[0;34m(\u001b[0m\u001b[0mmean_ts\u001b[0m\u001b[0;34m,\u001b[0m \u001b[0mstd1\u001b[0m\u001b[0;34m,\u001b[0m \u001b[0mstd2\u001b[0m\u001b[0;34m)\u001b[0m\u001b[0;34m\u001b[0m\u001b[0;34m\u001b[0m\u001b[0m\n\u001b[0;32m----> 5\u001b[0;31m \u001b[0ms_m1_m2\u001b[0m \u001b[0;34m=\u001b[0m \u001b[0mnp\u001b[0m\u001b[0;34m.\u001b[0m\u001b[0msqrt\u001b[0m\u001b[0;34m(\u001b[0m\u001b[0mstd1\u001b[0m\u001b[0;34m*\u001b[0m\u001b[0mstd1\u001b[0m\u001b[0;34m/\u001b[0m\u001b[0mdata_taller\u001b[0m\u001b[0;34m.\u001b[0m\u001b[0mshape\u001b[0m\u001b[0;34m[\u001b[0m\u001b[0;36m0\u001b[0m\u001b[0;34m]\u001b[0m \u001b[0;34m+\u001b[0m \u001b[0mstd2\u001b[0m\u001b[0;34m*\u001b[0m\u001b[0mstd2\u001b[0m\u001b[0;34m/\u001b[0m\u001b[0mdata_shorter\u001b[0m\u001b[0;34m.\u001b[0m\u001b[0mshape\u001b[0m\u001b[0;34m[\u001b[0m\u001b[0;36m0\u001b[0m\u001b[0;34m]\u001b[0m\u001b[0;34m)\u001b[0m\u001b[0;34m\u001b[0m\u001b[0;34m\u001b[0m\u001b[0m\n\u001b[0m\u001b[1;32m      6\u001b[0m \u001b[0mprint\u001b[0m \u001b[0;34m(\u001b[0m\u001b[0ms_m1_m2\u001b[0m\u001b[0;34m)\u001b[0m\u001b[0;34m\u001b[0m\u001b[0;34m\u001b[0m\u001b[0m\n\u001b[1;32m      7\u001b[0m \u001b[0mlower_limit\u001b[0m \u001b[0;34m=\u001b[0m \u001b[0mmean_ts\u001b[0m \u001b[0;34m-\u001b[0m \u001b[0;36m1.96\u001b[0m\u001b[0;34m*\u001b[0m\u001b[0ms_m1_m2\u001b[0m\u001b[0;34m\u001b[0m\u001b[0;34m\u001b[0m\u001b[0m\n",
            "\u001b[0;31mNameError\u001b[0m: name 'np' is not defined"
          ]
        }
      ]
    },
    {
      "cell_type": "code",
      "metadata": {
        "id": "lgMasTHEVZkh",
        "colab_type": "code",
        "colab": {}
      },
      "source": [
        "import numpy as np, statsmodels.stats.api as sms\n",
        "x1 = data_taller['earnings'].to_numpy()\n",
        "x2 = data_shorter['earnings'].to_numpy()\n",
        "cm = sms.CompareMeans(sms.DescrStatsW(x1), sms.DescrStatsW(x2))\n",
        "print (cm.tconfint_diff(usevar='unequal'))"
      ],
      "execution_count": null,
      "outputs": []
    },
    {
      "cell_type": "markdown",
      "metadata": {
        "id": "QFA6_wdGa4zg",
        "colab_type": "text"
      },
      "source": [
        "---------"
      ]
    },
    {
      "cell_type": "markdown",
      "metadata": {
        "id": "dwAoeNLTa_JH",
        "colab_type": "text"
      },
      "source": [
        "(c) Construct a scatter plot of earnings on heights.\n",
        "\n",
        "Reference: https://data36.com/scatter-plot-pandas-matplotlib/"
      ]
    },
    {
      "cell_type": "code",
      "metadata": {
        "id": "PcRjDEm6Uaqq",
        "colab_type": "code",
        "colab": {}
      },
      "source": [
        "import matplotlib.pyplot as plt\n",
        "%matplotlib inline"
      ],
      "execution_count": 9,
      "outputs": []
    },
    {
      "cell_type": "code",
      "metadata": {
        "id": "HDzFvrOCbwfH",
        "colab_type": "code",
        "colab": {
          "base_uri": "https://localhost:8080/",
          "height": 296
        },
        "outputId": "6d13ddbe-bc85-4211-b45a-ad1193767f06"
      },
      "source": [
        "data.plot.scatter(x='height', y='earnings')"
      ],
      "execution_count": 10,
      "outputs": [
        {
          "output_type": "execute_result",
          "data": {
            "text/plain": [
              "<matplotlib.axes._subplots.AxesSubplot at 0x7fad859c1e80>"
            ]
          },
          "metadata": {
            "tags": []
          },
          "execution_count": 10
        },
        {
          "output_type": "display_data",
          "data": {
            "image/png": "[encoded data removed]",
            "text/plain": [
              "<Figure size 432x288 with 1 Axes>"
            ]
          },
          "metadata": {
            "tags": [],
            "needs_background": "light"
          }
        }
      ]
    },
    {
      "cell_type": "markdown",
      "metadata": {
        "id": "XZV60p7EcT5E",
        "colab_type": "text"
      },
      "source": [
        "----"
      ]
    },
    {
      "cell_type": "markdown",
      "metadata": {
        "id": "VH5ki-gJcUzf",
        "colab_type": "text"
      },
      "source": [
        "(d) Run a regression of earnings and height."
      ]
    },
    {
      "cell_type": "code",
      "metadata": {
        "id": "nxx7aCRwb-3I",
        "colab_type": "code",
        "colab": {
          "base_uri": "https://localhost:8080/",
          "height": 581
        },
        "outputId": "4ead248f-5087-4771-f64f-b958f014e6de"
      },
      "source": [
        "import statsmodels.formula.api as sm\n",
        "result = sm.ols(formula=\"earnings ~ height\", data=data).fit()\n",
        "print(result.params)\n",
        "print(result.summary())"
      ],
      "execution_count": 11,
      "outputs": [
        {
          "output_type": "stream",
          "text": [
            "/usr/local/lib/python3.6/dist-packages/statsmodels/tools/_testing.py:19: FutureWarning: pandas.util.testing is deprecated. Use the functions in the public API at pandas.testing instead.\n",
            "  import pandas.util.testing as tm\n"
          ],
          "name": "stderr"
        },
        {
          "output_type": "stream",
          "text": [
            "Intercept   -512.733592\n",
            "height       707.671558\n",
            "dtype: float64\n",
            "                            OLS Regression Results                            \n",
            "==============================================================================\n",
            "Dep. Variable:               earnings   R-squared:                       0.011\n",
            "Model:                            OLS   Adj. R-squared:                  0.011\n",
            "Method:                 Least Squares   F-statistic:                     196.5\n",
            "Date:                Mon, 14 Sep 2020   Prob (F-statistic):           2.13e-44\n",
            "Time:                        10:15:49   Log-Likelihood:            -2.0755e+05\n",
            "No. Observations:               17870   AIC:                         4.151e+05\n",
            "Df Residuals:                   17868   BIC:                         4.151e+05\n",
            "Df Model:                           1                                         \n",
            "Covariance Type:            nonrobust                                         \n",
            "==============================================================================\n",
            "                 coef    std err          t      P>|t|      [0.025      0.975]\n",
            "------------------------------------------------------------------------------\n",
            "Intercept   -512.7336   3386.856     -0.151      0.880   -7151.299    6125.832\n",
            "height       707.6716     50.489     14.016      0.000     608.708     806.635\n",
            "==============================================================================\n",
            "Omnibus:                   346151.826   Durbin-Watson:                   1.683\n",
            "Prob(Omnibus):                  0.000   Jarque-Bera (JB):             1827.913\n",
            "Skew:                           0.397   Prob(JB):                         0.00\n",
            "Kurtosis:                       1.649   Cond. No.                     1.13e+03\n",
            "==============================================================================\n",
            "\n",
            "Warnings:\n",
            "[1] Standard Errors assume that the covariance matrix of the errors is correctly specified.\n",
            "[2] The condition number is large, 1.13e+03. This might indicate that there are\n",
            "strong multicollinearity or other numerical problems.\n"
          ],
          "name": "stdout"
        }
      ]
    },
    {
      "cell_type": "code",
      "metadata": {
        "id": "VywO5LRLdZ8H",
        "colab_type": "code",
        "colab": {
          "base_uri": "https://localhost:8080/",
          "height": 34
        },
        "outputId": "37e4e7a2-622e-465f-af56-92cd75b932aa"
      },
      "source": [
        "y67 = 707.671558 * 67 -512.733592\n",
        "y70 = 707.671558 * 70 -512.733592\n",
        "y65 = 707.671558 * 65 -512.733592\n",
        "print (y67, y70, y65)"
      ],
      "execution_count": 12,
      "outputs": [
        {
          "output_type": "stream",
          "text": [
            "46901.260794 49024.275468 45485.917678000005\n"
          ],
          "name": "stdout"
        }
      ]
    },
    {
      "cell_type": "markdown",
      "metadata": {
        "id": "syQpJAZycy8P",
        "colab_type": "text"
      },
      "source": [
        "- i) \n",
        "  - estimated slop: 707.6716\n",
        "  - $R^2$ is 0.011\n",
        "- ii)\n",
        "  - Shown in last cell.\n",
        "\n"
      ]
    },
    {
      "cell_type": "markdown",
      "metadata": {
        "id": "ySHir27xeSSE",
        "colab_type": "text"
      },
      "source": [
        "----\n",
        "\n",
        "(e) measured in centmeters instead of inches."
      ]
    },
    {
      "cell_type": "code",
      "metadata": {
        "id": "iGxLpTsgcStr",
        "colab_type": "code",
        "colab": {
          "base_uri": "https://localhost:8080/",
          "height": 527
        },
        "outputId": "705bb4e7-529b-48b7-bd02-b2c496a69e44"
      },
      "source": [
        "import statsmodels.formula.api as sm\n",
        "data_cm = data.copy()\n",
        "data_cm['height'] = data_cm['height']*2.54\n",
        "result = sm.ols(formula=\"earnings ~ height\", data=data_cm).fit()\n",
        "print(result.params)\n",
        "print(result.summary())"
      ],
      "execution_count": 13,
      "outputs": [
        {
          "output_type": "stream",
          "text": [
            "Intercept   -512.733592\n",
            "height       278.610850\n",
            "dtype: float64\n",
            "                            OLS Regression Results                            \n",
            "==============================================================================\n",
            "Dep. Variable:               earnings   R-squared:                       0.011\n",
            "Model:                            OLS   Adj. R-squared:                  0.011\n",
            "Method:                 Least Squares   F-statistic:                     196.5\n",
            "Date:                Mon, 14 Sep 2020   Prob (F-statistic):           2.13e-44\n",
            "Time:                        10:15:49   Log-Likelihood:            -2.0755e+05\n",
            "No. Observations:               17870   AIC:                         4.151e+05\n",
            "Df Residuals:                   17868   BIC:                         4.151e+05\n",
            "Df Model:                           1                                         \n",
            "Covariance Type:            nonrobust                                         \n",
            "==============================================================================\n",
            "                 coef    std err          t      P>|t|      [0.025      0.975]\n",
            "------------------------------------------------------------------------------\n",
            "Intercept   -512.7336   3386.856     -0.151      0.880   -7151.299    6125.832\n",
            "height       278.6108     19.878     14.016      0.000     239.649     317.573\n",
            "==============================================================================\n",
            "Omnibus:                   346151.826   Durbin-Watson:                   1.683\n",
            "Prob(Omnibus):                  0.000   Jarque-Bera (JB):             1827.913\n",
            "Skew:                           0.397   Prob(JB):                         0.00\n",
            "Kurtosis:                       1.649   Cond. No.                     2.88e+03\n",
            "==============================================================================\n",
            "\n",
            "Warnings:\n",
            "[1] Standard Errors assume that the covariance matrix of the errors is correctly specified.\n",
            "[2] The condition number is large, 2.88e+03. This might indicate that there are\n",
            "strong multicollinearity or other numerical problems.\n"
          ],
          "name": "stdout"
        }
      ]
    },
    {
      "cell_type": "code",
      "metadata": {
        "id": "ZR5f0XQew4CX",
        "colab_type": "code",
        "colab": {
          "base_uri": "https://localhost:8080/",
          "height": 34
        },
        "outputId": "4f9dbb3f-e289-4e40-8215-4afd725b33d6"
      },
      "source": [
        "import numpy as np\n",
        "np.sqrt(result.scale)"
      ],
      "execution_count": 17,
      "outputs": [
        {
          "output_type": "execute_result",
          "data": {
            "text/plain": [
              "26777.23964537425"
            ]
          },
          "metadata": {
            "tags": []
          },
          "execution_count": 17
        }
      ]
    },
    {
      "cell_type": "code",
      "metadata": {
        "id": "qHlJVY7cw-P0",
        "colab_type": "code",
        "colab": {
          "base_uri": "https://localhost:8080/",
          "height": 34
        },
        "outputId": "359c324e-93c7-46fa-b367-924fc670d633"
      },
      "source": [
        "data_cm.shape[0]-2"
      ],
      "execution_count": null,
      "outputs": [
        {
          "output_type": "execute_result",
          "data": {
            "text/plain": [
              "17868"
            ]
          },
          "metadata": {
            "tags": []
          },
          "execution_count": 110
        }
      ]
    },
    {
      "cell_type": "code",
      "metadata": {
        "id": "SIg-9jMDqGCa",
        "colab_type": "code",
        "colab": {
          "base_uri": "https://localhost:8080/",
          "height": 34
        },
        "outputId": "b8720d64-f8d3-4d0a-eb33-812ebae45a60"
      },
      "source": [
        "result.ssr / (data_cm.shape[0]-2)"
      ],
      "execution_count": null,
      "outputs": [
        {
          "output_type": "execute_result",
          "data": {
            "text/plain": [
              "717020563.0258025"
            ]
          },
          "metadata": {
            "tags": []
          },
          "execution_count": 88
        }
      ]
    },
    {
      "cell_type": "markdown",
      "metadata": {
        "id": "K1erEgPespfW",
        "colab_type": "text"
      },
      "source": [
        "The answer for question 3. How the change of measure would affect your regression result?\n",
        "\n",
        "http://web.stanford.edu/~mrosenfe/soc_meth_proj3/soc_180B_regression_whatchanges.htm"
      ]
    },
    {
      "cell_type": "markdown",
      "metadata": {
        "id": "whP9ynr2s11z",
        "colab_type": "text"
      },
      "source": [
        "-----\n",
        "\n",
        "(f) female workers"
      ]
    },
    {
      "cell_type": "code",
      "metadata": {
        "id": "G4VLPjvurjRV",
        "colab_type": "code",
        "colab": {
          "base_uri": "https://localhost:8080/",
          "height": 204
        },
        "outputId": "cd0bb684-63e7-4116-95c6-932111a370cc"
      },
      "source": [
        "data.head()"
      ],
      "execution_count": null,
      "outputs": [
        {
          "output_type": "execute_result",
          "data": {
            "text/html": [
              "<div>\n",
              "<style scoped>\n",
              "    .dataframe tbody tr th:only-of-type {\n",
              "        vertical-align: middle;\n",
              "    }\n",
              "\n",
              "    .dataframe tbody tr th {\n",
              "        vertical-align: top;\n",
              "    }\n",
              "\n",
              "    .dataframe thead th {\n",
              "        text-align: right;\n",
              "    }\n",
              "</style>\n",
              "<table border=\"1\" class=\"dataframe\">\n",
              "  <thead>\n",
              "    <tr style=\"text-align: right;\">\n",
              "      <th></th>\n",
              "      <th>sex</th>\n",
              "      <th>age</th>\n",
              "      <th>mrd</th>\n",
              "      <th>educ</th>\n",
              "      <th>cworker</th>\n",
              "      <th>region</th>\n",
              "      <th>race</th>\n",
              "      <th>earnings</th>\n",
              "      <th>height</th>\n",
              "      <th>weight</th>\n",
              "      <th>occupation</th>\n",
              "    </tr>\n",
              "  </thead>\n",
              "  <tbody>\n",
              "    <tr>\n",
              "      <th>0</th>\n",
              "      <td>0</td>\n",
              "      <td>48</td>\n",
              "      <td>1</td>\n",
              "      <td>13</td>\n",
              "      <td>1</td>\n",
              "      <td>3</td>\n",
              "      <td>1</td>\n",
              "      <td>84054.750000</td>\n",
              "      <td>65</td>\n",
              "      <td>133</td>\n",
              "      <td>1</td>\n",
              "    </tr>\n",
              "    <tr>\n",
              "      <th>1</th>\n",
              "      <td>0</td>\n",
              "      <td>41</td>\n",
              "      <td>6</td>\n",
              "      <td>12</td>\n",
              "      <td>1</td>\n",
              "      <td>2</td>\n",
              "      <td>1</td>\n",
              "      <td>14021.394531</td>\n",
              "      <td>65</td>\n",
              "      <td>155</td>\n",
              "      <td>1</td>\n",
              "    </tr>\n",
              "    <tr>\n",
              "      <th>2</th>\n",
              "      <td>0</td>\n",
              "      <td>26</td>\n",
              "      <td>1</td>\n",
              "      <td>16</td>\n",
              "      <td>1</td>\n",
              "      <td>1</td>\n",
              "      <td>1</td>\n",
              "      <td>84054.750000</td>\n",
              "      <td>60</td>\n",
              "      <td>108</td>\n",
              "      <td>1</td>\n",
              "    </tr>\n",
              "    <tr>\n",
              "      <th>3</th>\n",
              "      <td>0</td>\n",
              "      <td>37</td>\n",
              "      <td>1</td>\n",
              "      <td>16</td>\n",
              "      <td>1</td>\n",
              "      <td>2</td>\n",
              "      <td>1</td>\n",
              "      <td>84054.750000</td>\n",
              "      <td>67</td>\n",
              "      <td>150</td>\n",
              "      <td>1</td>\n",
              "    </tr>\n",
              "    <tr>\n",
              "      <th>4</th>\n",
              "      <td>0</td>\n",
              "      <td>35</td>\n",
              "      <td>6</td>\n",
              "      <td>16</td>\n",
              "      <td>1</td>\n",
              "      <td>1</td>\n",
              "      <td>1</td>\n",
              "      <td>28560.386719</td>\n",
              "      <td>68</td>\n",
              "      <td>180</td>\n",
              "      <td>1</td>\n",
              "    </tr>\n",
              "  </tbody>\n",
              "</table>\n",
              "</div>"
            ],
            "text/plain": [
              "   sex  age  mrd  educ  cworker  ...  race      earnings  height  weight  occupation\n",
              "0    0   48    1    13        1  ...     1  84054.750000      65     133           1\n",
              "1    0   41    6    12        1  ...     1  14021.394531      65     155           1\n",
              "2    0   26    1    16        1  ...     1  84054.750000      60     108           1\n",
              "3    0   37    1    16        1  ...     1  84054.750000      67     150           1\n",
              "4    0   35    6    16        1  ...     1  28560.386719      68     180           1\n",
              "\n",
              "[5 rows x 11 columns]"
            ]
          },
          "metadata": {
            "tags": []
          },
          "execution_count": 89
        }
      ]
    },
    {
      "cell_type": "code",
      "metadata": {
        "id": "Z7L-ZGJ5s5jq",
        "colab_type": "code",
        "colab": {
          "base_uri": "https://localhost:8080/",
          "height": 527
        },
        "outputId": "01c0b4d4-08b3-4cd8-ed5e-d507efc228c8"
      },
      "source": [
        "data_fm = data.copy()\n",
        "data_fm = data_fm[data['sex'] == 0]\n",
        "result = sm.ols(formula=\"earnings ~ height\", data=data_fm).fit()\n",
        "print(result.params)\n",
        "print(result.summary())"
      ],
      "execution_count": null,
      "outputs": [
        {
          "output_type": "stream",
          "text": [
            "Intercept    12650.85773\n",
            "height         511.22217\n",
            "dtype: float64\n",
            "                            OLS Regression Results                            \n",
            "==============================================================================\n",
            "Dep. Variable:               earnings   R-squared:                       0.003\n",
            "Model:                            OLS   Adj. R-squared:                  0.003\n",
            "Method:                 Least Squares   F-statistic:                     26.72\n",
            "Date:                Sun, 13 Sep 2020   Prob (F-statistic):           2.40e-07\n",
            "Time:                        14:26:14   Log-Likelihood:            -1.1585e+05\n",
            "No. Observations:                9974   AIC:                         2.317e+05\n",
            "Df Residuals:                    9972   BIC:                         2.317e+05\n",
            "Df Model:                           1                                         \n",
            "Covariance Type:            nonrobust                                         \n",
            "==============================================================================\n",
            "                 coef    std err          t      P>|t|      [0.025      0.975]\n",
            "------------------------------------------------------------------------------\n",
            "Intercept   1.265e+04   6383.741      1.982      0.048     137.436    2.52e+04\n",
            "height       511.2222     98.896      5.169      0.000     317.365     705.079\n",
            "==============================================================================\n",
            "Omnibus:                    32985.324   Durbin-Watson:                   1.703\n",
            "Prob(Omnibus):                  0.000   Jarque-Bera (JB):             1046.226\n",
            "Skew:                           0.458   Prob(JB):                    6.53e-228\n",
            "Kurtosis:                       1.704   Cond. No.                     1.54e+03\n",
            "==============================================================================\n",
            "\n",
            "Warnings:\n",
            "[1] Standard Errors assume that the covariance matrix of the errors is correctly specified.\n",
            "[2] The condition number is large, 1.54e+03. This might indicate that there are\n",
            "strong multicollinearity or other numerical problems.\n"
          ],
          "name": "stdout"
        }
      ]
    },
    {
      "cell_type": "code",
      "metadata": {
        "id": "mjah-4VQuBZJ",
        "colab_type": "code",
        "colab": {
          "base_uri": "https://localhost:8080/",
          "height": 68
        },
        "outputId": "1cca4b76-a867-49da-971b-e5225074b985"
      },
      "source": [
        "data_fm.mean()[['height', 'earnings']]"
      ],
      "execution_count": null,
      "outputs": [
        {
          "output_type": "execute_result",
          "data": {
            "text/plain": [
              "height         64.492781\n",
              "earnings    45620.997301\n",
              "dtype: float64"
            ]
          },
          "metadata": {
            "tags": []
          },
          "execution_count": 112
        }
      ]
    },
    {
      "cell_type": "code",
      "metadata": {
        "id": "ZgCi3gVk3CJe",
        "colab_type": "code",
        "colab": {
          "base_uri": "https://localhost:8080/",
          "height": 68
        },
        "outputId": "aeaedc7b-300d-4fb1-dbb5-f91a68fe5de2"
      },
      "source": [
        "result.pvalues"
      ],
      "execution_count": null,
      "outputs": [
        {
          "output_type": "execute_result",
          "data": {
            "text/plain": [
              "Intercept    4.753676e-02\n",
              "height       2.395572e-07\n",
              "dtype: float64"
            ]
          },
          "metadata": {
            "tags": []
          },
          "execution_count": 113
        }
      ]
    },
    {
      "cell_type": "code",
      "metadata": {
        "id": "fCPbJjkF5JMH",
        "colab_type": "code",
        "colab": {
          "base_uri": "https://localhost:8080/",
          "height": 111
        },
        "outputId": "0cab1b25-2068-44ef-a197-bd8e647c127a"
      },
      "source": [
        "result.conf_int(0.05)"
      ],
      "execution_count": null,
      "outputs": [
        {
          "output_type": "execute_result",
          "data": {
            "text/html": [
              "<div>\n",
              "<style scoped>\n",
              "    .dataframe tbody tr th:only-of-type {\n",
              "        vertical-align: middle;\n",
              "    }\n",
              "\n",
              "    .dataframe tbody tr th {\n",
              "        vertical-align: top;\n",
              "    }\n",
              "\n",
              "    .dataframe thead th {\n",
              "        text-align: right;\n",
              "    }\n",
              "</style>\n",
              "<table border=\"1\" class=\"dataframe\">\n",
              "  <thead>\n",
              "    <tr style=\"text-align: right;\">\n",
              "      <th></th>\n",
              "      <th>0</th>\n",
              "      <th>1</th>\n",
              "    </tr>\n",
              "  </thead>\n",
              "  <tbody>\n",
              "    <tr>\n",
              "      <th>Intercept</th>\n",
              "      <td>137.436439</td>\n",
              "      <td>25164.279020</td>\n",
              "    </tr>\n",
              "    <tr>\n",
              "      <th>height</th>\n",
              "      <td>317.365439</td>\n",
              "      <td>705.078901</td>\n",
              "    </tr>\n",
              "  </tbody>\n",
              "</table>\n",
              "</div>"
            ],
            "text/plain": [
              "                    0             1\n",
              "Intercept  137.436439  25164.279020\n",
              "height     317.365439    705.078901"
            ]
          },
          "metadata": {
            "tags": []
          },
          "execution_count": 119
        }
      ]
    },
    {
      "cell_type": "code",
      "metadata": {
        "id": "atM7SmYjuUTE",
        "colab_type": "code",
        "colab": {
          "base_uri": "https://localhost:8080/",
          "height": 34
        },
        "outputId": "39e59720-bc2c-44a7-ce80-8148e43a3803"
      },
      "source": [
        "511.22217*65.492781+12650.85773"
      ],
      "execution_count": null,
      "outputs": [
        {
          "output_type": "execute_result",
          "data": {
            "text/plain": [
              "46132.21935215476"
            ]
          },
          "metadata": {
            "tags": []
          },
          "execution_count": 92
        }
      ]
    },
    {
      "cell_type": "code",
      "metadata": {
        "id": "XknN0_rquN6W",
        "colab_type": "code",
        "colab": {
          "base_uri": "https://localhost:8080/",
          "height": 34
        },
        "outputId": "e4ffc56c-39a7-45db-a097-7fc4f0d7f45d"
      },
      "source": [
        "46132.21935215476 - 45620.997301"
      ],
      "execution_count": null,
      "outputs": [
        {
          "output_type": "execute_result",
          "data": {
            "text/plain": [
              "511.2220511547566"
            ]
          },
          "metadata": {
            "tags": []
          },
          "execution_count": 93
        }
      ]
    },
    {
      "cell_type": "markdown",
      "metadata": {
        "id": "weFdGzpYt_Rf",
        "colab_type": "text"
      },
      "source": [
        "------\n",
        "\n",
        "(g) male"
      ]
    },
    {
      "cell_type": "code",
      "metadata": {
        "id": "cD1-XRlBtY8c",
        "colab_type": "code",
        "colab": {
          "base_uri": "https://localhost:8080/",
          "height": 527
        },
        "outputId": "ea141030-cc5c-44b3-f5a2-1cf96318bb31"
      },
      "source": [
        "data_m = data.copy()\n",
        "data_m = data_m[data['sex'] == 1]\n",
        "result = sm.ols(formula=\"earnings ~ height\", data=data_m).fit()\n",
        "print(result.params)\n",
        "print(result.summary())"
      ],
      "execution_count": null,
      "outputs": [
        {
          "output_type": "stream",
          "text": [
            "Intercept   -43130.342347\n",
            "height        1306.859906\n",
            "dtype: float64\n",
            "                            OLS Regression Results                            \n",
            "==============================================================================\n",
            "Dep. Variable:               earnings   R-squared:                       0.021\n",
            "Model:                            OLS   Adj. R-squared:                  0.021\n",
            "Method:                 Least Squares   F-statistic:                     168.2\n",
            "Date:                Sun, 13 Sep 2020   Prob (F-statistic):           4.47e-38\n",
            "Time:                        14:47:26   Log-Likelihood:                -91674.\n",
            "No. Observations:                7896   AIC:                         1.834e+05\n",
            "Df Residuals:                    7894   BIC:                         1.834e+05\n",
            "Df Model:                           1                                         \n",
            "Covariance Type:            nonrobust                                         \n",
            "==============================================================================\n",
            "                 coef    std err          t      P>|t|      [0.025      0.975]\n",
            "------------------------------------------------------------------------------\n",
            "Intercept  -4.313e+04   7068.481     -6.102      0.000    -5.7e+04   -2.93e+04\n",
            "height      1306.8599    100.766     12.969      0.000    1109.332    1504.388\n",
            "==============================================================================\n",
            "Omnibus:                    72396.208   Durbin-Watson:                   1.667\n",
            "Prob(Omnibus):                  0.000   Jarque-Bera (JB):              782.879\n",
            "Skew:                           0.317   Prob(JB):                    1.00e-170\n",
            "Kurtosis:                       1.594   Cond. No.                     1.65e+03\n",
            "==============================================================================\n",
            "\n",
            "Warnings:\n",
            "[1] Standard Errors assume that the covariance matrix of the errors is correctly specified.\n",
            "[2] The condition number is large, 1.65e+03. This might indicate that there are\n",
            "strong multicollinearity or other numerical problems.\n"
          ],
          "name": "stdout"
        }
      ]
    },
    {
      "cell_type": "code",
      "metadata": {
        "id": "xbaCyUY-uwN6",
        "colab_type": "code",
        "colab": {
          "base_uri": "https://localhost:8080/",
          "height": 68
        },
        "outputId": "00aa4515-06e3-48c4-e337-bb601e98ec15"
      },
      "source": [
        "data_m.mean()[['height', 'earnings']]"
      ],
      "execution_count": null,
      "outputs": [
        {
          "output_type": "execute_result",
          "data": {
            "text/plain": [
              "height         70.084093\n",
              "earnings    48459.749109\n",
              "dtype: float64"
            ]
          },
          "metadata": {
            "tags": []
          },
          "execution_count": 121
        }
      ]
    },
    {
      "cell_type": "code",
      "metadata": {
        "id": "VFIeFKSY73aB",
        "colab_type": "code",
        "colab": {
          "base_uri": "https://localhost:8080/",
          "height": 111
        },
        "outputId": "11cd7252-86b3-4e3e-d798-39528ebe597a"
      },
      "source": [
        "result.conf_int(0.05)"
      ],
      "execution_count": null,
      "outputs": [
        {
          "output_type": "execute_result",
          "data": {
            "text/html": [
              "<div>\n",
              "<style scoped>\n",
              "    .dataframe tbody tr th:only-of-type {\n",
              "        vertical-align: middle;\n",
              "    }\n",
              "\n",
              "    .dataframe tbody tr th {\n",
              "        vertical-align: top;\n",
              "    }\n",
              "\n",
              "    .dataframe thead th {\n",
              "        text-align: right;\n",
              "    }\n",
              "</style>\n",
              "<table border=\"1\" class=\"dataframe\">\n",
              "  <thead>\n",
              "    <tr style=\"text-align: right;\">\n",
              "      <th></th>\n",
              "      <th>0</th>\n",
              "      <th>1</th>\n",
              "    </tr>\n",
              "  </thead>\n",
              "  <tbody>\n",
              "    <tr>\n",
              "      <th>Intercept</th>\n",
              "      <td>-56986.434122</td>\n",
              "      <td>-29274.250572</td>\n",
              "    </tr>\n",
              "    <tr>\n",
              "      <th>height</th>\n",
              "      <td>1109.331575</td>\n",
              "      <td>1504.388236</td>\n",
              "    </tr>\n",
              "  </tbody>\n",
              "</table>\n",
              "</div>"
            ],
            "text/plain": [
              "                      0             1\n",
              "Intercept -56986.434122 -29274.250572\n",
              "height      1109.331575   1504.388236"
            ]
          },
          "metadata": {
            "tags": []
          },
          "execution_count": 122
        }
      ]
    },
    {
      "cell_type": "code",
      "metadata": {
        "id": "cU_HuSLvu0LD",
        "colab_type": "code",
        "colab": {
          "base_uri": "https://localhost:8080/",
          "height": 34
        },
        "outputId": "8048062f-14de-43f8-decf-957bfc67c9f3"
      },
      "source": [
        "1306.859906*71.084093 -43130.342347"
      ],
      "execution_count": null,
      "outputs": [
        {
          "output_type": "execute_result",
          "data": {
            "text/plain": [
              "49766.608749075254"
            ]
          },
          "metadata": {
            "tags": []
          },
          "execution_count": 96
        }
      ]
    },
    {
      "cell_type": "code",
      "metadata": {
        "id": "luOJLv3vu7By",
        "colab_type": "code",
        "colab": {
          "base_uri": "https://localhost:8080/",
          "height": 34
        },
        "outputId": "13d507d5-1dec-43e6-9c5a-47ebd6584448"
      },
      "source": [
        "49766.608749075254 - 48459.749109"
      ],
      "execution_count": null,
      "outputs": [
        {
          "output_type": "execute_result",
          "data": {
            "text/plain": [
              "1306.8596400752576"
            ]
          },
          "metadata": {
            "tags": []
          },
          "execution_count": 97
        }
      ]
    },
    {
      "cell_type": "markdown",
      "metadata": {
        "id": "L9YmFxNMu90E",
        "colab_type": "text"
      },
      "source": [
        "--------\n",
        "(h) \n",
        "$$\n",
        "t = \\frac{\\beta_1 - \\beta_2}{\\sqrt{se(\\beta_1)^2 + se(\\beta_2)^2}}\n",
        "$$"
      ]
    },
    {
      "cell_type": "code",
      "metadata": {
        "id": "D-OmY0lFu9K1",
        "colab_type": "code",
        "colab": {
          "base_uri": "https://localhost:8080/",
          "height": 34
        },
        "outputId": "40695f43-1549-4740-bb6d-f46d62b03d7f"
      },
      "source": [
        "beta_1 = 1306.859906\n",
        "beta_2 = 511.22217\n",
        "se_beta_1 = 100.766\n",
        "se_beta_2 = 98.896\n",
        "t = (beta_1-beta_2)/np.sqrt(np.power(se_beta_1,2)+np.power(se_beta_2,2))\n",
        "print (t)"
      ],
      "execution_count": null,
      "outputs": [
        {
          "output_type": "stream",
          "text": [
            "5.635285280110967\n"
          ],
          "name": "stdout"
        }
      ]
    },
    {
      "cell_type": "markdown",
      "metadata": {
        "id": "ZAtOI7RfC_sN",
        "colab_type": "text"
      },
      "source": [
        "(g) we can refer to https://rpubs.com/yuanmany/286603"
      ]
    },
    {
      "cell_type": "code",
      "metadata": {
        "id": "baE0RYloLW2U",
        "colab_type": "code",
        "colab": {
          "base_uri": "https://localhost:8080/",
          "height": 34
        },
        "outputId": "c6529bd4-0f83-4301-a12a-e2ef8d268a36"
      },
      "source": [
        "data_x = data.copy()\n",
        "data.occupation.unique()"
      ],
      "execution_count": 18,
      "outputs": [
        {
          "output_type": "execute_result",
          "data": {
            "text/plain": [
              "array([ 1,  2,  3,  4,  5,  6,  7,  8,  9, 10, 11, 12, 13, 14, 15])"
            ]
          },
          "metadata": {
            "tags": []
          },
          "execution_count": 18
        }
      ]
    },
    {
      "cell_type": "code",
      "metadata": {
        "id": "9zfAGUcXJ9ln",
        "colab_type": "code",
        "colab": {
          "base_uri": "https://localhost:8080/",
          "height": 527
        },
        "outputId": "327efa5f-cdc8-49f2-ac00-069109b92448"
      },
      "source": [
        "data_x = data[data.occupation==1]\n",
        "result = sm.ols(formula=\"earnings ~ height\", data=data_x).fit()\n",
        "print(result.params)\n",
        "print(result.summary())"
      ],
      "execution_count": 20,
      "outputs": [
        {
          "output_type": "stream",
          "text": [
            "Intercept    27565.56906\n",
            "height         469.45807\n",
            "dtype: float64\n",
            "                            OLS Regression Results                            \n",
            "==============================================================================\n",
            "Dep. Variable:               earnings   R-squared:                       0.005\n",
            "Model:                            OLS   Adj. R-squared:                  0.004\n",
            "Method:                 Least Squares   F-statistic:                     9.150\n",
            "Date:                Mon, 14 Sep 2020   Prob (F-statistic):            0.00252\n",
            "Time:                        10:28:44   Log-Likelihood:                -22089.\n",
            "No. Observations:                1906   AIC:                         4.418e+04\n",
            "Df Residuals:                    1904   BIC:                         4.419e+04\n",
            "Df Model:                           1                                         \n",
            "Covariance Type:            nonrobust                                         \n",
            "==============================================================================\n",
            "                 coef    std err          t      P>|t|      [0.025      0.975]\n",
            "------------------------------------------------------------------------------\n",
            "Intercept   2.757e+04   1.04e+04      2.648      0.008    7150.898     4.8e+04\n",
            "height       469.4581    155.198      3.025      0.003     165.082     773.834\n",
            "==============================================================================\n",
            "Omnibus:                    10002.914   Durbin-Watson:                   1.989\n",
            "Prob(Omnibus):                  0.000   Jarque-Bera (JB):              224.494\n",
            "Skew:                          -0.254   Prob(JB):                     1.79e-49\n",
            "Kurtosis:                       1.397   Cond. No.                     1.17e+03\n",
            "==============================================================================\n",
            "\n",
            "Warnings:\n",
            "[1] Standard Errors assume that the covariance matrix of the errors is correctly specified.\n",
            "[2] The condition number is large, 1.17e+03. This might indicate that there are\n",
            "strong multicollinearity or other numerical problems.\n"
          ],
          "name": "stdout"
        }
      ]
    },
    {
      "cell_type": "code",
      "metadata": {
        "id": "isafAFtUKHWq",
        "colab_type": "code",
        "colab": {
          "base_uri": "https://localhost:8080/",
          "height": 527
        },
        "outputId": "5f48e2b5-a274-4b4e-e9b5-4f7feea7b6a8"
      },
      "source": [
        "data_x = data[data.occupation==2]\n",
        "result = sm.ols(formula=\"earnings ~ height\", data=data_x).fit()\n",
        "print(result.params)\n",
        "print(result.summary())"
      ],
      "execution_count": 21,
      "outputs": [
        {
          "output_type": "stream",
          "text": [
            "Intercept    19412.913520\n",
            "height         622.755176\n",
            "dtype: float64\n",
            "                            OLS Regression Results                            \n",
            "==============================================================================\n",
            "Dep. Variable:               earnings   R-squared:                       0.009\n",
            "Model:                            OLS   Adj. R-squared:                  0.009\n",
            "Method:                 Least Squares   F-statistic:                     28.20\n",
            "Date:                Mon, 14 Sep 2020   Prob (F-statistic):           1.17e-07\n",
            "Time:                        10:29:05   Log-Likelihood:                -36504.\n",
            "No. Observations:                3158   AIC:                         7.301e+04\n",
            "Df Residuals:                    3156   BIC:                         7.302e+04\n",
            "Df Model:                           1                                         \n",
            "Covariance Type:            nonrobust                                         \n",
            "==============================================================================\n",
            "                 coef    std err          t      P>|t|      [0.025      0.975]\n",
            "------------------------------------------------------------------------------\n",
            "Intercept   1.941e+04   7861.339      2.469      0.014    3999.060    3.48e+04\n",
            "height       622.7552    117.270      5.310      0.000     392.821     852.689\n",
            "==============================================================================\n",
            "Omnibus:                    20468.271   Durbin-Watson:                   1.948\n",
            "Prob(Omnibus):                  0.000   Jarque-Bera (JB):              366.343\n",
            "Skew:                          -0.372   Prob(JB):                     2.82e-80\n",
            "Kurtosis:                       1.506   Cond. No.                     1.17e+03\n",
            "==============================================================================\n",
            "\n",
            "Warnings:\n",
            "[1] Standard Errors assume that the covariance matrix of the errors is correctly specified.\n",
            "[2] The condition number is large, 1.17e+03. This might indicate that there are\n",
            "strong multicollinearity or other numerical problems.\n"
          ],
          "name": "stdout"
        }
      ]
    },
    {
      "cell_type": "code",
      "metadata": {
        "id": "Fl6U2dxdKTUH",
        "colab_type": "code",
        "colab": {
          "base_uri": "https://localhost:8080/",
          "height": 527
        },
        "outputId": "8f049f39-c94d-4dd0-a3ca-2feb0c149cff"
      },
      "source": [
        "data_x = data[data.occupation==3]\n",
        "result = sm.ols(formula=\"earnings ~ height\", data=data_x).fit()\n",
        "print(result.params)\n",
        "print(result.summary())"
      ],
      "execution_count": 22,
      "outputs": [
        {
          "output_type": "stream",
          "text": [
            "Intercept    6374.936099\n",
            "height        649.721774\n",
            "dtype: float64\n",
            "                            OLS Regression Results                            \n",
            "==============================================================================\n",
            "Dep. Variable:               earnings   R-squared:                       0.010\n",
            "Model:                            OLS   Adj. R-squared:                  0.009\n",
            "Method:                 Least Squares   F-statistic:                     9.164\n",
            "Date:                Mon, 14 Sep 2020   Prob (F-statistic):            0.00254\n",
            "Time:                        10:29:10   Log-Likelihood:                -10105.\n",
            "No. Observations:                 875   AIC:                         2.021e+04\n",
            "Df Residuals:                     873   BIC:                         2.022e+04\n",
            "Df Model:                           1                                         \n",
            "Covariance Type:            nonrobust                                         \n",
            "==============================================================================\n",
            "                 coef    std err          t      P>|t|      [0.025      0.975]\n",
            "------------------------------------------------------------------------------\n",
            "Intercept   6374.9361   1.44e+04      0.443      0.658   -2.18e+04    3.46e+04\n",
            "height       649.7218    214.630      3.027      0.003     228.470    1070.973\n",
            "==============================================================================\n",
            "Omnibus:                     6397.041   Durbin-Watson:                   2.093\n",
            "Prob(Omnibus):                  0.000   Jarque-Bera (JB):               85.298\n",
            "Skew:                           0.358   Prob(JB):                     3.01e-19\n",
            "Kurtosis:                       1.648   Cond. No.                     1.14e+03\n",
            "==============================================================================\n",
            "\n",
            "Warnings:\n",
            "[1] Standard Errors assume that the covariance matrix of the errors is correctly specified.\n",
            "[2] The condition number is large, 1.14e+03. This might indicate that there are\n",
            "strong multicollinearity or other numerical problems.\n"
          ],
          "name": "stdout"
        }
      ]
    },
    {
      "cell_type": "code",
      "metadata": {
        "id": "aR4VaNZPKUqV",
        "colab_type": "code",
        "colab": {
          "base_uri": "https://localhost:8080/",
          "height": 527
        },
        "outputId": "dfb5df2e-962c-4a09-9743-122381b9048a"
      },
      "source": [
        "data_x = data[data.occupation==4]\n",
        "result = sm.ols(formula=\"earnings ~ height\", data=data_x).fit()\n",
        "print(result.params)\n",
        "print(result.summary())"
      ],
      "execution_count": 23,
      "outputs": [
        {
          "output_type": "stream",
          "text": [
            "Intercept   -44056.470792\n",
            "height        1372.384841\n",
            "dtype: float64\n",
            "                            OLS Regression Results                            \n",
            "==============================================================================\n",
            "Dep. Variable:               earnings   R-squared:                       0.042\n",
            "Model:                            OLS   Adj. R-squared:                  0.041\n",
            "Method:                 Least Squares   F-statistic:                     85.07\n",
            "Date:                Mon, 14 Sep 2020   Prob (F-statistic):           7.25e-20\n",
            "Time:                        10:29:20   Log-Likelihood:                -22720.\n",
            "No. Observations:                1957   AIC:                         4.544e+04\n",
            "Df Residuals:                    1955   BIC:                         4.545e+04\n",
            "Df Model:                           1                                         \n",
            "Covariance Type:            nonrobust                                         \n",
            "==============================================================================\n",
            "                 coef    std err          t      P>|t|      [0.025      0.975]\n",
            "------------------------------------------------------------------------------\n",
            "Intercept  -4.406e+04   1.01e+04     -4.379      0.000   -6.38e+04   -2.43e+04\n",
            "height      1372.3848    148.798      9.223      0.000    1080.565    1664.205\n",
            "==============================================================================\n",
            "Omnibus:                    39249.204   Durbin-Watson:                   1.918\n",
            "Prob(Omnibus):                  0.000   Jarque-Bera (JB):              177.759\n",
            "Skew:                           0.280   Prob(JB):                     2.51e-39\n",
            "Kurtosis:                       1.634   Cond. No.                     1.13e+03\n",
            "==============================================================================\n",
            "\n",
            "Warnings:\n",
            "[1] Standard Errors assume that the covariance matrix of the errors is correctly specified.\n",
            "[2] The condition number is large, 1.13e+03. This might indicate that there are\n",
            "strong multicollinearity or other numerical problems.\n"
          ],
          "name": "stdout"
        }
      ]
    },
    {
      "cell_type": "code",
      "metadata": {
        "id": "jsX1xVmUKXJG",
        "colab_type": "code",
        "colab": {
          "base_uri": "https://localhost:8080/",
          "height": 527
        },
        "outputId": "11cce515-207f-4aa6-bda1-667486f6d160"
      },
      "source": [
        "data_x = data[data.occupation==4]\n",
        "result = sm.ols(formula=\"earnings ~ height\", data=data_x).fit()\n",
        "print(result.params)\n",
        "print(result.summary())"
      ],
      "execution_count": 28,
      "outputs": [
        {
          "output_type": "stream",
          "text": [
            "Intercept   -44056.470792\n",
            "height        1372.384841\n",
            "dtype: float64\n",
            "                            OLS Regression Results                            \n",
            "==============================================================================\n",
            "Dep. Variable:               earnings   R-squared:                       0.042\n",
            "Model:                            OLS   Adj. R-squared:                  0.041\n",
            "Method:                 Least Squares   F-statistic:                     85.07\n",
            "Date:                Mon, 14 Sep 2020   Prob (F-statistic):           7.25e-20\n",
            "Time:                        10:32:02   Log-Likelihood:                -22720.\n",
            "No. Observations:                1957   AIC:                         4.544e+04\n",
            "Df Residuals:                    1955   BIC:                         4.545e+04\n",
            "Df Model:                           1                                         \n",
            "Covariance Type:            nonrobust                                         \n",
            "==============================================================================\n",
            "                 coef    std err          t      P>|t|      [0.025      0.975]\n",
            "------------------------------------------------------------------------------\n",
            "Intercept  -4.406e+04   1.01e+04     -4.379      0.000   -6.38e+04   -2.43e+04\n",
            "height      1372.3848    148.798      9.223      0.000    1080.565    1664.205\n",
            "==============================================================================\n",
            "Omnibus:                    39249.204   Durbin-Watson:                   1.918\n",
            "Prob(Omnibus):                  0.000   Jarque-Bera (JB):              177.759\n",
            "Skew:                           0.280   Prob(JB):                     2.51e-39\n",
            "Kurtosis:                       1.634   Cond. No.                     1.13e+03\n",
            "==============================================================================\n",
            "\n",
            "Warnings:\n",
            "[1] Standard Errors assume that the covariance matrix of the errors is correctly specified.\n",
            "[2] The condition number is large, 1.13e+03. This might indicate that there are\n",
            "strong multicollinearity or other numerical problems.\n"
          ],
          "name": "stdout"
        }
      ]
    },
    {
      "cell_type": "code",
      "metadata": {
        "id": "B_Sc9GMpKnH3",
        "colab_type": "code",
        "colab": {}
      },
      "source": [
        ""
      ],
      "execution_count": null,
      "outputs": []
    }
  ]
}