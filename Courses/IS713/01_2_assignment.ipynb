{
  "nbformat": 4,
  "nbformat_minor": 0,
  "metadata": {
    "colab": {
      "name": "01_2-assignment.ipynb",
      "provenance": [],
      "collapsed_sections": [],
      "authorship_tag": "ABX9TyM0e/tVZpPJI+VvGhLXj93W",
      "include_colab_link": true
    },
    "kernelspec": {
      "name": "python3",
      "display_name": "Python 3"
    }
  },
  "cells": [
    {
      "cell_type": "markdown",
      "metadata": {
        "id": "view-in-github",
        "colab_type": "text"
      },
      "source": [
        "<a href=\"https://colab.research.google.com/github/demoleiwang/DailyCodeRepo/blob/master/Courses/IS713/01_2_assignment.ipynb\" target=\"_parent\"><img src=\"https://colab.research.google.com/assets/colab-badge.svg\" alt=\"Open In Colab\"/></a>"
      ]
    },
    {
      "cell_type": "markdown",
      "metadata": {
        "id": "d8zXIBg32Yla",
        "colab_type": "text"
      },
      "source": [
        "References:\n",
        "\n",
        "[1] https://blog.csdn.net/qtlyx/article/details/52243157"
      ]
    },
    {
      "cell_type": "code",
      "metadata": {
        "id": "ohF-9KGtiTbh",
        "colab_type": "code",
        "colab": {
          "base_uri": "https://localhost:8080/",
          "height": 85
        },
        "outputId": "eec558f8-00b4-4203-f5f2-494e361654e0"
      },
      "source": [
        "!gdown --id '1R3WEOHNTkltRX1GaqILnMGDKdsZFtnWe' --output CPS2015.xlsx"
      ],
      "execution_count": 9,
      "outputs": [
        {
          "output_type": "stream",
          "text": [
            "Downloading...\n",
            "From: https://drive.google.com/uc?id=1R3WEOHNTkltRX1GaqILnMGDKdsZFtnWe\n",
            "To: /content/CPS2015.xlsx\n",
            "\r  0% 0.00/157k [00:00<?, ?B/s]\r100% 157k/157k [00:00<00:00, 56.5MB/s]\n"
          ],
          "name": "stdout"
        }
      ]
    },
    {
      "cell_type": "code",
      "metadata": {
        "id": "WZO64IRRi-I_",
        "colab_type": "code",
        "colab": {
          "base_uri": "https://localhost:8080/",
          "height": 34
        },
        "outputId": "5ace4b87-032e-4548-e487-1438af5f006d"
      },
      "source": [
        "!ls"
      ],
      "execution_count": 10,
      "outputs": [
        {
          "output_type": "stream",
          "text": [
            "CPS2015.xlsx  sample_data\n"
          ],
          "name": "stdout"
        }
      ]
    },
    {
      "cell_type": "markdown",
      "metadata": {
        "id": "XBNV_1uXjVbz",
        "colab_type": "text"
      },
      "source": [
        "Read the data with xlsx format "
      ]
    },
    {
      "cell_type": "code",
      "metadata": {
        "id": "Mw2NzuLQi_jo",
        "colab_type": "code",
        "colab": {}
      },
      "source": [
        "import pandas as pd\n",
        "data = pd.read_excel(\"CPS2015.xlsx\")"
      ],
      "execution_count": 46,
      "outputs": []
    },
    {
      "cell_type": "code",
      "metadata": {
        "id": "MFmiPCMyj6UI",
        "colab_type": "code",
        "colab": {
          "base_uri": "https://localhost:8080/",
          "height": 419
        },
        "outputId": "91ddd2c4-b78d-4358-c827-784a214e2d38"
      },
      "source": [
        "data"
      ],
      "execution_count": 12,
      "outputs": [
        {
          "output_type": "execute_result",
          "data": {
            "text/html": [
              "<div>\n",
              "<style scoped>\n",
              "    .dataframe tbody tr th:only-of-type {\n",
              "        vertical-align: middle;\n",
              "    }\n",
              "\n",
              "    .dataframe tbody tr th {\n",
              "        vertical-align: top;\n",
              "    }\n",
              "\n",
              "    .dataframe thead th {\n",
              "        text-align: right;\n",
              "    }\n",
              "</style>\n",
              "<table border=\"1\" class=\"dataframe\">\n",
              "  <thead>\n",
              "    <tr style=\"text-align: right;\">\n",
              "      <th></th>\n",
              "      <th>year</th>\n",
              "      <th>ahe</th>\n",
              "      <th>bachelor</th>\n",
              "      <th>female</th>\n",
              "      <th>age</th>\n",
              "    </tr>\n",
              "  </thead>\n",
              "  <tbody>\n",
              "    <tr>\n",
              "      <th>0</th>\n",
              "      <td>2015</td>\n",
              "      <td>11.778846</td>\n",
              "      <td>0</td>\n",
              "      <td>0</td>\n",
              "      <td>26</td>\n",
              "    </tr>\n",
              "    <tr>\n",
              "      <th>1</th>\n",
              "      <td>2015</td>\n",
              "      <td>9.615385</td>\n",
              "      <td>0</td>\n",
              "      <td>1</td>\n",
              "      <td>33</td>\n",
              "    </tr>\n",
              "    <tr>\n",
              "      <th>2</th>\n",
              "      <td>2015</td>\n",
              "      <td>12.019231</td>\n",
              "      <td>0</td>\n",
              "      <td>0</td>\n",
              "      <td>31</td>\n",
              "    </tr>\n",
              "    <tr>\n",
              "      <th>3</th>\n",
              "      <td>2015</td>\n",
              "      <td>18.376068</td>\n",
              "      <td>0</td>\n",
              "      <td>0</td>\n",
              "      <td>32</td>\n",
              "    </tr>\n",
              "    <tr>\n",
              "      <th>4</th>\n",
              "      <td>2015</td>\n",
              "      <td>41.836735</td>\n",
              "      <td>0</td>\n",
              "      <td>0</td>\n",
              "      <td>28</td>\n",
              "    </tr>\n",
              "    <tr>\n",
              "      <th>...</th>\n",
              "      <td>...</td>\n",
              "      <td>...</td>\n",
              "      <td>...</td>\n",
              "      <td>...</td>\n",
              "      <td>...</td>\n",
              "    </tr>\n",
              "    <tr>\n",
              "      <th>7093</th>\n",
              "      <td>2015</td>\n",
              "      <td>96.153847</td>\n",
              "      <td>1</td>\n",
              "      <td>0</td>\n",
              "      <td>25</td>\n",
              "    </tr>\n",
              "    <tr>\n",
              "      <th>7094</th>\n",
              "      <td>2015</td>\n",
              "      <td>30.769230</td>\n",
              "      <td>1</td>\n",
              "      <td>0</td>\n",
              "      <td>34</td>\n",
              "    </tr>\n",
              "    <tr>\n",
              "      <th>7095</th>\n",
              "      <td>2015</td>\n",
              "      <td>9.230769</td>\n",
              "      <td>0</td>\n",
              "      <td>0</td>\n",
              "      <td>27</td>\n",
              "    </tr>\n",
              "    <tr>\n",
              "      <th>7096</th>\n",
              "      <td>2015</td>\n",
              "      <td>13.653846</td>\n",
              "      <td>1</td>\n",
              "      <td>1</td>\n",
              "      <td>27</td>\n",
              "    </tr>\n",
              "    <tr>\n",
              "      <th>7097</th>\n",
              "      <td>2015</td>\n",
              "      <td>32.692307</td>\n",
              "      <td>1</td>\n",
              "      <td>1</td>\n",
              "      <td>34</td>\n",
              "    </tr>\n",
              "  </tbody>\n",
              "</table>\n",
              "<p>7098 rows × 5 columns</p>\n",
              "</div>"
            ],
            "text/plain": [
              "      year        ahe  bachelor  female  age\n",
              "0     2015  11.778846         0       0   26\n",
              "1     2015   9.615385         0       1   33\n",
              "2     2015  12.019231         0       0   31\n",
              "3     2015  18.376068         0       0   32\n",
              "4     2015  41.836735         0       0   28\n",
              "...    ...        ...       ...     ...  ...\n",
              "7093  2015  96.153847         1       0   25\n",
              "7094  2015  30.769230         1       0   34\n",
              "7095  2015   9.230769         0       0   27\n",
              "7096  2015  13.653846         1       1   27\n",
              "7097  2015  32.692307         1       1   34\n",
              "\n",
              "[7098 rows x 5 columns]"
            ]
          },
          "metadata": {
            "tags": []
          },
          "execution_count": 12
        }
      ]
    },
    {
      "cell_type": "markdown",
      "metadata": {
        "id": "jPXFqclKuy4D",
        "colab_type": "text"
      },
      "source": [
        "One example from https://stackoverflow.com/questions/19991445/run-an-ols-regression-with-pandas-data-frame about how to use ols to solve problem"
      ]
    },
    {
      "cell_type": "code",
      "metadata": {
        "id": "rMav0iXij997",
        "colab_type": "code",
        "colab": {
          "base_uri": "https://localhost:8080/",
          "height": 615
        },
        "outputId": "dadfa44a-9713-4582-9ced-976cb0144157"
      },
      "source": [
        "import statsmodels.formula.api as sm\n",
        "df = pd.DataFrame({\"A\": [10,20,30,40,50], \"B\": [20, 30, 10, 40, 50], \"C\": [32, 234, 23, 23, 42523]})\n",
        "result = sm.ols(formula=\"A ~ B + C\", data=df).fit()\n",
        "print(result.params)\n",
        "print(result.summary())"
      ],
      "execution_count": 13,
      "outputs": [
        {
          "output_type": "stream",
          "text": [
            "Intercept    14.952480\n",
            "B             0.401182\n",
            "C             0.000352\n",
            "dtype: float64\n",
            "                            OLS Regression Results                            \n",
            "==============================================================================\n",
            "Dep. Variable:                      A   R-squared:                       0.579\n",
            "Model:                            OLS   Adj. R-squared:                  0.158\n",
            "Method:                 Least Squares   F-statistic:                     1.375\n",
            "Date:                Mon, 14 Sep 2020   Prob (F-statistic):              0.421\n",
            "Time:                        06:00:18   Log-Likelihood:                -18.178\n",
            "No. Observations:                   5   AIC:                             42.36\n",
            "Df Residuals:                       2   BIC:                             41.19\n",
            "Df Model:                           2                                         \n",
            "Covariance Type:            nonrobust                                         \n",
            "==============================================================================\n",
            "                 coef    std err          t      P>|t|      [0.025      0.975]\n",
            "------------------------------------------------------------------------------\n",
            "Intercept     14.9525     17.764      0.842      0.489     -61.481      91.386\n",
            "B              0.4012      0.650      0.617      0.600      -2.394       3.197\n",
            "C              0.0004      0.001      0.650      0.583      -0.002       0.003\n",
            "==============================================================================\n",
            "Omnibus:                          nan   Durbin-Watson:                   1.061\n",
            "Prob(Omnibus):                    nan   Jarque-Bera (JB):                0.498\n",
            "Skew:                          -0.123   Prob(JB):                        0.780\n",
            "Kurtosis:                       1.474   Cond. No.                     5.21e+04\n",
            "==============================================================================\n",
            "\n",
            "Warnings:\n",
            "[1] Standard Errors assume that the covariance matrix of the errors is correctly specified.\n",
            "[2] The condition number is large, 5.21e+04. This might indicate that there are\n",
            "strong multicollinearity or other numerical problems.\n"
          ],
          "name": "stdout"
        },
        {
          "output_type": "stream",
          "text": [
            "/usr/local/lib/python3.6/dist-packages/statsmodels/stats/stattools.py:71: ValueWarning: omni_normtest is not valid with less than 8 observations; 5 samples were given.\n",
            "  \"samples were given.\" % int(n), ValueWarning)\n"
          ],
          "name": "stderr"
        }
      ]
    },
    {
      "cell_type": "markdown",
      "metadata": {
        "id": "crMH2Bnnwpqw",
        "colab_type": "text"
      },
      "source": [
        "We refer to the url https://www.statsmodels.org/dev/example_formulas.html about the R-style formulas "
      ]
    },
    {
      "cell_type": "code",
      "metadata": {
        "id": "yvJkXTR2uvJY",
        "colab_type": "code",
        "colab": {
          "base_uri": "https://localhost:8080/",
          "height": 578
        },
        "outputId": "85380bba-aaaf-4e61-b941-d8e09ad2d4d7"
      },
      "source": [
        "# (1)\n",
        "import statsmodels.formula.api as sm\n",
        "result_b = sm.ols(formula=\"ahe ~ age + female + bachelor\", data=data).fit()\n",
        "print(result_b.params)\n",
        "print(result_b.summary())\n",
        "print (\"f_pvalue:\", result_b.f_pvalue)\n"
      ],
      "execution_count": 76,
      "outputs": [
        {
          "output_type": "stream",
          "text": [
            "Intercept    2.044810\n",
            "age          0.531275\n",
            "female      -4.143538\n",
            "bachelor     9.845644\n",
            "dtype: float64\n",
            "                            OLS Regression Results                            \n",
            "==============================================================================\n",
            "Dep. Variable:                    ahe   R-squared:                       0.190\n",
            "Model:                            OLS   Adj. R-squared:                  0.189\n",
            "Method:                 Least Squares   F-statistic:                     553.4\n",
            "Date:                Mon, 14 Sep 2020   Prob (F-statistic):          3.46e-323\n",
            "Time:                        10:11:35   Log-Likelihood:                -27036.\n",
            "No. Observations:                7098   AIC:                         5.408e+04\n",
            "Df Residuals:                    7094   BIC:                         5.411e+04\n",
            "Df Model:                           3                                         \n",
            "Covariance Type:            nonrobust                                         \n",
            "==============================================================================\n",
            "                 coef    std err          t      P>|t|      [0.025      0.975]\n",
            "------------------------------------------------------------------------------\n",
            "Intercept      2.0448      1.355      1.509      0.131      -0.611       4.700\n",
            "age            0.5313      0.045     11.788      0.000       0.443       0.620\n",
            "female        -4.1435      0.266    -15.583      0.000      -4.665      -3.622\n",
            "bachelor       9.8456      0.262     37.519      0.000       9.331      10.360\n",
            "==============================================================================\n",
            "Omnibus:                     2458.198   Durbin-Watson:                   1.936\n",
            "Prob(Omnibus):                  0.000   Jarque-Bera (JB):            11294.166\n",
            "Skew:                           1.629   Prob(JB):                         0.00\n",
            "Kurtosis:                       8.252   Cond. No.                         312.\n",
            "==============================================================================\n",
            "\n",
            "Warnings:\n",
            "[1] Standard Errors assume that the covariance matrix of the errors is correctly specified.\n",
            "f_pvalue: 3.5e-323\n"
          ],
          "name": "stdout"
        }
      ]
    },
    {
      "cell_type": "code",
      "metadata": {
        "id": "2z6CnTLS-Itt",
        "colab_type": "code",
        "colab": {
          "base_uri": "https://localhost:8080/",
          "height": 34
        },
        "outputId": "13ba3da2-07f5-4309-a26e-23d4ba43805f"
      },
      "source": [
        "np.sqrt(result_b.scale)"
      ],
      "execution_count": 80,
      "outputs": [
        {
          "output_type": "execute_result",
          "data": {
            "text/plain": [
              "10.916795685079903"
            ]
          },
          "metadata": {
            "tags": []
          },
          "execution_count": 80
        }
      ]
    },
    {
      "cell_type": "code",
      "metadata": {
        "id": "zkJWSaMTvhmC",
        "colab_type": "code",
        "colab": {
          "base_uri": "https://localhost:8080/",
          "height": 561
        },
        "outputId": "6f12ce00-b3f5-49f7-af7a-6428fb742037"
      },
      "source": [
        "# (2)\n",
        "import numpy as np\n",
        "import statsmodels.formula.api as sm\n",
        "result_c = sm.ols(formula=\"np.log(ahe) ~ age + female + bachelor\", data=data).fit()\n",
        "print(result_c.params)\n",
        "print(result_c.summary())"
      ],
      "execution_count": 39,
      "outputs": [
        {
          "output_type": "stream",
          "text": [
            "Intercept    2.027359\n",
            "age          0.024191\n",
            "female      -0.177622\n",
            "bachelor     0.461503\n",
            "dtype: float64\n",
            "                            OLS Regression Results                            \n",
            "==============================================================================\n",
            "Dep. Variable:            np.log(ahe)   R-squared:                       0.208\n",
            "Model:                            OLS   Adj. R-squared:                  0.208\n",
            "Method:                 Least Squares   F-statistic:                     622.4\n",
            "Date:                Mon, 14 Sep 2020   Prob (F-statistic):               0.00\n",
            "Time:                        07:55:30   Log-Likelihood:                -4821.9\n",
            "No. Observations:                7098   AIC:                             9652.\n",
            "Df Residuals:                    7094   BIC:                             9679.\n",
            "Df Model:                           3                                         \n",
            "Covariance Type:            nonrobust                                         \n",
            "==============================================================================\n",
            "                 coef    std err          t      P>|t|      [0.025      0.975]\n",
            "------------------------------------------------------------------------------\n",
            "Intercept      2.0274      0.059     34.220      0.000       1.911       2.143\n",
            "age            0.0242      0.002     12.273      0.000       0.020       0.028\n",
            "female        -0.1776      0.012    -15.274      0.000      -0.200      -0.155\n",
            "bachelor       0.4615      0.011     40.212      0.000       0.439       0.484\n",
            "==============================================================================\n",
            "Omnibus:                      185.302   Durbin-Watson:                   1.943\n",
            "Prob(Omnibus):                  0.000   Jarque-Bera (JB):              309.107\n",
            "Skew:                          -0.236   Prob(JB):                     7.55e-68\n",
            "Kurtosis:                       3.906   Cond. No.                         312.\n",
            "==============================================================================\n",
            "\n",
            "Warnings:\n",
            "[1] Standard Errors assume that the covariance matrix of the errors is correctly specified.\n"
          ],
          "name": "stdout"
        }
      ]
    },
    {
      "cell_type": "code",
      "metadata": {
        "id": "Y4JLuWvD-SOU",
        "colab_type": "code",
        "colab": {
          "base_uri": "https://localhost:8080/",
          "height": 34
        },
        "outputId": "562f8545-ca79-4775-f4e6-57dc5d7702c9"
      },
      "source": [
        "np.exp(0.024191)"
      ],
      "execution_count": 17,
      "outputs": [
        {
          "output_type": "execute_result",
          "data": {
            "text/plain": [
              "1.0244859760260958"
            ]
          },
          "metadata": {
            "tags": []
          },
          "execution_count": 17
        }
      ]
    },
    {
      "cell_type": "code",
      "metadata": {
        "id": "zCXgvZGAwkyf",
        "colab_type": "code",
        "colab": {
          "base_uri": "https://localhost:8080/",
          "height": 561
        },
        "outputId": "45dcaa85-2fa4-4808-e49e-4d544c1237ad"
      },
      "source": [
        "# (3)\n",
        "import numpy as np\n",
        "import statsmodels.formula.api as sm\n",
        "result_d = sm.ols(formula=\"np.log(ahe) ~ np.log(age) + female + bachelor\", data=data).fit()\n",
        "print(result_d.params)\n",
        "print(result_d.summary())"
      ],
      "execution_count": 40,
      "outputs": [
        {
          "output_type": "stream",
          "text": [
            "Intercept      0.323253\n",
            "np.log(age)    0.715375\n",
            "female        -0.177531\n",
            "bachelor       0.461524\n",
            "dtype: float64\n",
            "                            OLS Regression Results                            \n",
            "==============================================================================\n",
            "Dep. Variable:            np.log(ahe)   R-squared:                       0.209\n",
            "Model:                            OLS   Adj. R-squared:                  0.208\n",
            "Method:                 Least Squares   F-statistic:                     623.4\n",
            "Date:                Mon, 14 Sep 2020   Prob (F-statistic):               0.00\n",
            "Time:                        07:55:39   Log-Likelihood:                -4820.8\n",
            "No. Observations:                7098   AIC:                             9650.\n",
            "Df Residuals:                    7094   BIC:                             9677.\n",
            "Df Model:                           3                                         \n",
            "Covariance Type:            nonrobust                                         \n",
            "===============================================================================\n",
            "                  coef    std err          t      P>|t|      [0.025      0.975]\n",
            "-------------------------------------------------------------------------------\n",
            "Intercept       0.3233      0.196      1.649      0.099      -0.061       0.708\n",
            "np.log(age)     0.7154      0.058     12.368      0.000       0.602       0.829\n",
            "female         -0.1775      0.012    -15.268      0.000      -0.200      -0.155\n",
            "bachelor        0.4615      0.011     40.220      0.000       0.439       0.484\n",
            "==============================================================================\n",
            "Omnibus:                      184.684   Durbin-Watson:                   1.943\n",
            "Prob(Omnibus):                  0.000   Jarque-Bera (JB):              307.770\n",
            "Skew:                          -0.236   Prob(JB):                     1.47e-67\n",
            "Kurtosis:                       3.904   Cond. No.                         130.\n",
            "==============================================================================\n",
            "\n",
            "Warnings:\n",
            "[1] Standard Errors assume that the covariance matrix of the errors is correctly specified.\n"
          ],
          "name": "stdout"
        }
      ]
    },
    {
      "cell_type": "code",
      "metadata": {
        "id": "Js9LyvEvMzUq",
        "colab_type": "code",
        "colab": {
          "base_uri": "https://localhost:8080/",
          "height": 51
        },
        "outputId": "737f04a5-48c6-4f57-c583-b96c22bb21cc"
      },
      "source": [
        "print (np.exp(0.715375*np.log(26)) - np.exp(0.715375*np.log(25)))\n",
        "print (np.exp(0.715375*np.log(34)) - np.exp(0.715375*np.log(33)))"
      ],
      "execution_count": 20,
      "outputs": [
        {
          "output_type": "stream",
          "text": [
            "0.2845820061507389\n",
            "0.26331389471153344\n"
          ],
          "name": "stdout"
        }
      ]
    },
    {
      "cell_type": "code",
      "metadata": {
        "id": "4fcighpFLZY7",
        "colab_type": "code",
        "colab": {
          "base_uri": "https://localhost:8080/",
          "height": 34
        },
        "outputId": "4999c00a-c3fe-4179-db05-13a878a67a51"
      },
      "source": [
        "print (0.715375*np.log(26) - 0.715375*np.log(25))"
      ],
      "execution_count": 79,
      "outputs": [
        {
          "output_type": "stream",
          "text": [
            "0.028057517672028798\n"
          ],
          "name": "stdout"
        }
      ]
    },
    {
      "cell_type": "code",
      "metadata": {
        "id": "y0dMRlMPxIMo",
        "colab_type": "code",
        "colab": {
          "base_uri": "https://localhost:8080/",
          "height": 629
        },
        "outputId": "f96e45ef-9cfe-4bb7-ea35-d28d9a139709"
      },
      "source": [
        "# (4)\n",
        "import numpy as np\n",
        "import statsmodels.formula.api as sm\n",
        "result_e = sm.ols(formula=\"np.log(ahe) ~ age + np.power(age,2) + female + bachelor\", data=data).fit()\n",
        "print(result_e.params)\n",
        "print(result_e.summary())"
      ],
      "execution_count": 41,
      "outputs": [
        {
          "output_type": "stream",
          "text": [
            "Intercept           0.418745\n",
            "age                 0.134115\n",
            "np.power(age, 2)   -0.001860\n",
            "female             -0.177364\n",
            "bachelor            0.461629\n",
            "dtype: float64\n",
            "                            OLS Regression Results                            \n",
            "==============================================================================\n",
            "Dep. Variable:            np.log(ahe)   R-squared:                       0.209\n",
            "Model:                            OLS   Adj. R-squared:                  0.209\n",
            "Method:                 Least Squares   F-statistic:                     468.6\n",
            "Date:                Mon, 14 Sep 2020   Prob (F-statistic):               0.00\n",
            "Time:                        07:55:52   Log-Likelihood:                -4819.1\n",
            "No. Observations:                7098   AIC:                             9648.\n",
            "Df Residuals:                    7093   BIC:                             9682.\n",
            "Df Model:                           4                                         \n",
            "Covariance Type:            nonrobust                                         \n",
            "====================================================================================\n",
            "                       coef    std err          t      P>|t|      [0.025      0.975]\n",
            "------------------------------------------------------------------------------------\n",
            "Intercept            0.4187      0.672      0.623      0.533      -0.899       1.736\n",
            "age                  0.1341      0.046      2.929      0.003       0.044       0.224\n",
            "np.power(age, 2)    -0.0019      0.001     -2.403      0.016      -0.003      -0.000\n",
            "female              -0.1774      0.012    -15.256      0.000      -0.200      -0.155\n",
            "bachelor             0.4616      0.011     40.236      0.000       0.439       0.484\n",
            "==============================================================================\n",
            "Omnibus:                      182.315   Durbin-Watson:                   1.944\n",
            "Prob(Omnibus):                  0.000   Jarque-Bera (JB):              302.731\n",
            "Skew:                          -0.234   Prob(JB):                     1.83e-66\n",
            "Kurtosis:                       3.897   Cond. No.                     1.07e+05\n",
            "==============================================================================\n",
            "\n",
            "Warnings:\n",
            "[1] Standard Errors assume that the covariance matrix of the errors is correctly specified.\n",
            "[2] The condition number is large, 1.07e+05. This might indicate that there are\n",
            "strong multicollinearity or other numerical problems.\n"
          ],
          "name": "stdout"
        }
      ]
    },
    {
      "cell_type": "code",
      "metadata": {
        "id": "DoS7Sq3EOQHO",
        "colab_type": "code",
        "colab": {
          "base_uri": "https://localhost:8080/",
          "height": 51
        },
        "outputId": "d6f01364-48c6-4237-c132-3f7652a22aa3"
      },
      "source": [
        "print (np.exp(0.134115*26-0.001860*np.power(26,2)) - np.exp(0.134115*25-0.001860*np.power(25,2)))\n",
        "print (np.exp(0.134115*26-0.001860*np.power(34,2)) - np.exp(0.134115*25-0.001860*np.power(33,2)))"
      ],
      "execution_count": 22,
      "outputs": [
        {
          "output_type": "stream",
          "text": [
            "0.3578613175790313\n",
            "0.035975983855859095\n"
          ],
          "name": "stdout"
        }
      ]
    },
    {
      "cell_type": "code",
      "metadata": {
        "id": "GJKJN59rS3LQ",
        "colab_type": "code",
        "colab": {
          "base_uri": "https://localhost:8080/",
          "height": 296
        },
        "outputId": "433893e5-daaf-4c9d-878e-4b268c95b0c5"
      },
      "source": [
        "import matplotlib.pyplot as plt\n",
        "%matplotlib inline\n",
        "\n",
        "data.plot.scatter(x='age', y='ahe')"
      ],
      "execution_count": 23,
      "outputs": [
        {
          "output_type": "execute_result",
          "data": {
            "text/plain": [
              "<matplotlib.axes._subplots.AxesSubplot at 0x7f622aaaa240>"
            ]
          },
          "metadata": {
            "tags": []
          },
          "execution_count": 23
        },
        {
          "output_type": "display_data",
          "data": {
            "image/png": "[encoded data removed]",
            "text/plain": [
              "<Figure size 432x288 with 1 Axes>"
            ]
          },
          "metadata": {
            "tags": [],
            "needs_background": "light"
          }
        }
      ]
    },
    {
      "cell_type": "code",
      "metadata": {
        "id": "WLX76j2ddQIn",
        "colab_type": "code",
        "colab": {
          "base_uri": "https://localhost:8080/",
          "height": 296
        },
        "outputId": "7fa66cd3-c9d1-4bbf-e026-72d0ef749f38"
      },
      "source": [
        "data_x = data.copy()\n",
        "# data_x['age'] = np.log(data_x['age'])\n",
        "data_x['ahe'] = np.log(data_x['ahe'])\n",
        "data_x.plot.scatter(x='age', y='ahe')"
      ],
      "execution_count": 32,
      "outputs": [
        {
          "output_type": "execute_result",
          "data": {
            "text/plain": [
              "<matplotlib.axes._subplots.AxesSubplot at 0x7f622abfd898>"
            ]
          },
          "metadata": {
            "tags": []
          },
          "execution_count": 32
        },
        {
          "output_type": "display_data",
          "data": {
            "image/png": "[encoded data removed]",
            "text/plain": [
              "<Figure size 432x288 with 1 Axes>"
            ]
          },
          "metadata": {
            "tags": [],
            "needs_background": "light"
          }
        }
      ]
    },
    {
      "cell_type": "code",
      "metadata": {
        "id": "ImI02crPUE9t",
        "colab_type": "code",
        "colab": {
          "base_uri": "https://localhost:8080/",
          "height": 296
        },
        "outputId": "e4b5f56c-c4ca-4843-8c6f-ba7a0a9bc863"
      },
      "source": [
        "data_x = data.copy()\n",
        "data_x['age'] = np.log(data_x['age'])\n",
        "data_x['ahe'] = np.log(data_x['ahe'])\n",
        "data_x.plot.scatter(x='age', y='ahe')"
      ],
      "execution_count": 33,
      "outputs": [
        {
          "output_type": "execute_result",
          "data": {
            "text/plain": [
              "<matplotlib.axes._subplots.AxesSubplot at 0x7f621076af28>"
            ]
          },
          "metadata": {
            "tags": []
          },
          "execution_count": 33
        },
        {
          "output_type": "display_data",
          "data": {
            "image/png": "[encoded data removed]",
            "text/plain": [
              "<Figure size 432x288 with 1 Axes>"
            ]
          },
          "metadata": {
            "tags": [],
            "needs_background": "light"
          }
        }
      ]
    },
    {
      "cell_type": "code",
      "metadata": {
        "id": "M5x11YnjUeBy",
        "colab_type": "code",
        "colab": {
          "base_uri": "https://localhost:8080/",
          "height": 296
        },
        "outputId": "ab7d1fa9-0358-4935-d78f-88137067e5f1"
      },
      "source": [
        "data_x = data.copy()\n",
        "data_x['age'] = np.power(data_x['age'],2)\n",
        "data_x['ahe'] = np.log(data_x['ahe'])\n",
        "data_x.plot.scatter(x='age', y='ahe')"
      ],
      "execution_count": 34,
      "outputs": [
        {
          "output_type": "execute_result",
          "data": {
            "text/plain": [
              "<matplotlib.axes._subplots.AxesSubplot at 0x7f62101b6400>"
            ]
          },
          "metadata": {
            "tags": []
          },
          "execution_count": 34
        },
        {
          "output_type": "display_data",
          "data": {
            "image/png": "[encoded data removed]",
            "text/plain": [
              "<Figure size 432x288 with 1 Axes>"
            ]
          },
          "metadata": {
            "tags": [],
            "needs_background": "light"
          }
        }
      ]
    },
    {
      "cell_type": "code",
      "metadata": {
        "id": "xtgJOS08UmYN",
        "colab_type": "code",
        "colab": {
          "base_uri": "https://localhost:8080/",
          "height": 419
        },
        "outputId": "0b7967ff-c594-42b8-bb4f-7ccf453ae0bb"
      },
      "source": [
        "data"
      ],
      "execution_count": 26,
      "outputs": [
        {
          "output_type": "execute_result",
          "data": {
            "text/html": [
              "<div>\n",
              "<style scoped>\n",
              "    .dataframe tbody tr th:only-of-type {\n",
              "        vertical-align: middle;\n",
              "    }\n",
              "\n",
              "    .dataframe tbody tr th {\n",
              "        vertical-align: top;\n",
              "    }\n",
              "\n",
              "    .dataframe thead th {\n",
              "        text-align: right;\n",
              "    }\n",
              "</style>\n",
              "<table border=\"1\" class=\"dataframe\">\n",
              "  <thead>\n",
              "    <tr style=\"text-align: right;\">\n",
              "      <th></th>\n",
              "      <th>year</th>\n",
              "      <th>ahe</th>\n",
              "      <th>bachelor</th>\n",
              "      <th>female</th>\n",
              "      <th>age</th>\n",
              "    </tr>\n",
              "  </thead>\n",
              "  <tbody>\n",
              "    <tr>\n",
              "      <th>0</th>\n",
              "      <td>2015</td>\n",
              "      <td>11.778846</td>\n",
              "      <td>0</td>\n",
              "      <td>0</td>\n",
              "      <td>26</td>\n",
              "    </tr>\n",
              "    <tr>\n",
              "      <th>1</th>\n",
              "      <td>2015</td>\n",
              "      <td>9.615385</td>\n",
              "      <td>0</td>\n",
              "      <td>1</td>\n",
              "      <td>33</td>\n",
              "    </tr>\n",
              "    <tr>\n",
              "      <th>2</th>\n",
              "      <td>2015</td>\n",
              "      <td>12.019231</td>\n",
              "      <td>0</td>\n",
              "      <td>0</td>\n",
              "      <td>31</td>\n",
              "    </tr>\n",
              "    <tr>\n",
              "      <th>3</th>\n",
              "      <td>2015</td>\n",
              "      <td>18.376068</td>\n",
              "      <td>0</td>\n",
              "      <td>0</td>\n",
              "      <td>32</td>\n",
              "    </tr>\n",
              "    <tr>\n",
              "      <th>4</th>\n",
              "      <td>2015</td>\n",
              "      <td>41.836735</td>\n",
              "      <td>0</td>\n",
              "      <td>0</td>\n",
              "      <td>28</td>\n",
              "    </tr>\n",
              "    <tr>\n",
              "      <th>...</th>\n",
              "      <td>...</td>\n",
              "      <td>...</td>\n",
              "      <td>...</td>\n",
              "      <td>...</td>\n",
              "      <td>...</td>\n",
              "    </tr>\n",
              "    <tr>\n",
              "      <th>7093</th>\n",
              "      <td>2015</td>\n",
              "      <td>96.153847</td>\n",
              "      <td>1</td>\n",
              "      <td>0</td>\n",
              "      <td>25</td>\n",
              "    </tr>\n",
              "    <tr>\n",
              "      <th>7094</th>\n",
              "      <td>2015</td>\n",
              "      <td>30.769230</td>\n",
              "      <td>1</td>\n",
              "      <td>0</td>\n",
              "      <td>34</td>\n",
              "    </tr>\n",
              "    <tr>\n",
              "      <th>7095</th>\n",
              "      <td>2015</td>\n",
              "      <td>9.230769</td>\n",
              "      <td>0</td>\n",
              "      <td>0</td>\n",
              "      <td>27</td>\n",
              "    </tr>\n",
              "    <tr>\n",
              "      <th>7096</th>\n",
              "      <td>2015</td>\n",
              "      <td>13.653846</td>\n",
              "      <td>1</td>\n",
              "      <td>1</td>\n",
              "      <td>27</td>\n",
              "    </tr>\n",
              "    <tr>\n",
              "      <th>7097</th>\n",
              "      <td>2015</td>\n",
              "      <td>32.692307</td>\n",
              "      <td>1</td>\n",
              "      <td>1</td>\n",
              "      <td>34</td>\n",
              "    </tr>\n",
              "  </tbody>\n",
              "</table>\n",
              "<p>7098 rows × 5 columns</p>\n",
              "</div>"
            ],
            "text/plain": [
              "      year        ahe  bachelor  female  age\n",
              "0     2015  11.778846         0       0   26\n",
              "1     2015   9.615385         0       1   33\n",
              "2     2015  12.019231         0       0   31\n",
              "3     2015  18.376068         0       0   32\n",
              "4     2015  41.836735         0       0   28\n",
              "...    ...        ...       ...     ...  ...\n",
              "7093  2015  96.153847         1       0   25\n",
              "7094  2015  30.769230         1       0   34\n",
              "7095  2015   9.230769         0       0   27\n",
              "7096  2015  13.653846         1       1   27\n",
              "7097  2015  32.692307         1       1   34\n",
              "\n",
              "[7098 rows x 5 columns]"
            ]
          },
          "metadata": {
            "tags": []
          },
          "execution_count": 26
        }
      ]
    },
    {
      "cell_type": "code",
      "metadata": {
        "id": "xnzaUkUmUnph",
        "colab_type": "code",
        "colab": {
          "base_uri": "https://localhost:8080/",
          "height": 419
        },
        "outputId": "99d4d250-16e4-4800-b0ec-e98333fbd2f3"
      },
      "source": [
        "data_x"
      ],
      "execution_count": 27,
      "outputs": [
        {
          "output_type": "execute_result",
          "data": {
            "text/html": [
              "<div>\n",
              "<style scoped>\n",
              "    .dataframe tbody tr th:only-of-type {\n",
              "        vertical-align: middle;\n",
              "    }\n",
              "\n",
              "    .dataframe tbody tr th {\n",
              "        vertical-align: top;\n",
              "    }\n",
              "\n",
              "    .dataframe thead th {\n",
              "        text-align: right;\n",
              "    }\n",
              "</style>\n",
              "<table border=\"1\" class=\"dataframe\">\n",
              "  <thead>\n",
              "    <tr style=\"text-align: right;\">\n",
              "      <th></th>\n",
              "      <th>year</th>\n",
              "      <th>ahe</th>\n",
              "      <th>bachelor</th>\n",
              "      <th>female</th>\n",
              "      <th>age</th>\n",
              "    </tr>\n",
              "  </thead>\n",
              "  <tbody>\n",
              "    <tr>\n",
              "      <th>0</th>\n",
              "      <td>2015</td>\n",
              "      <td>11.778846</td>\n",
              "      <td>0</td>\n",
              "      <td>0</td>\n",
              "      <td>676</td>\n",
              "    </tr>\n",
              "    <tr>\n",
              "      <th>1</th>\n",
              "      <td>2015</td>\n",
              "      <td>9.615385</td>\n",
              "      <td>0</td>\n",
              "      <td>1</td>\n",
              "      <td>1089</td>\n",
              "    </tr>\n",
              "    <tr>\n",
              "      <th>2</th>\n",
              "      <td>2015</td>\n",
              "      <td>12.019231</td>\n",
              "      <td>0</td>\n",
              "      <td>0</td>\n",
              "      <td>961</td>\n",
              "    </tr>\n",
              "    <tr>\n",
              "      <th>3</th>\n",
              "      <td>2015</td>\n",
              "      <td>18.376068</td>\n",
              "      <td>0</td>\n",
              "      <td>0</td>\n",
              "      <td>1024</td>\n",
              "    </tr>\n",
              "    <tr>\n",
              "      <th>4</th>\n",
              "      <td>2015</td>\n",
              "      <td>41.836735</td>\n",
              "      <td>0</td>\n",
              "      <td>0</td>\n",
              "      <td>784</td>\n",
              "    </tr>\n",
              "    <tr>\n",
              "      <th>...</th>\n",
              "      <td>...</td>\n",
              "      <td>...</td>\n",
              "      <td>...</td>\n",
              "      <td>...</td>\n",
              "      <td>...</td>\n",
              "    </tr>\n",
              "    <tr>\n",
              "      <th>7093</th>\n",
              "      <td>2015</td>\n",
              "      <td>96.153847</td>\n",
              "      <td>1</td>\n",
              "      <td>0</td>\n",
              "      <td>625</td>\n",
              "    </tr>\n",
              "    <tr>\n",
              "      <th>7094</th>\n",
              "      <td>2015</td>\n",
              "      <td>30.769230</td>\n",
              "      <td>1</td>\n",
              "      <td>0</td>\n",
              "      <td>1156</td>\n",
              "    </tr>\n",
              "    <tr>\n",
              "      <th>7095</th>\n",
              "      <td>2015</td>\n",
              "      <td>9.230769</td>\n",
              "      <td>0</td>\n",
              "      <td>0</td>\n",
              "      <td>729</td>\n",
              "    </tr>\n",
              "    <tr>\n",
              "      <th>7096</th>\n",
              "      <td>2015</td>\n",
              "      <td>13.653846</td>\n",
              "      <td>1</td>\n",
              "      <td>1</td>\n",
              "      <td>729</td>\n",
              "    </tr>\n",
              "    <tr>\n",
              "      <th>7097</th>\n",
              "      <td>2015</td>\n",
              "      <td>32.692307</td>\n",
              "      <td>1</td>\n",
              "      <td>1</td>\n",
              "      <td>1156</td>\n",
              "    </tr>\n",
              "  </tbody>\n",
              "</table>\n",
              "<p>7098 rows × 5 columns</p>\n",
              "</div>"
            ],
            "text/plain": [
              "      year        ahe  bachelor  female   age\n",
              "0     2015  11.778846         0       0   676\n",
              "1     2015   9.615385         0       1  1089\n",
              "2     2015  12.019231         0       0   961\n",
              "3     2015  18.376068         0       0  1024\n",
              "4     2015  41.836735         0       0   784\n",
              "...    ...        ...       ...     ...   ...\n",
              "7093  2015  96.153847         1       0   625\n",
              "7094  2015  30.769230         1       0  1156\n",
              "7095  2015   9.230769         0       0   729\n",
              "7096  2015  13.653846         1       1   729\n",
              "7097  2015  32.692307         1       1  1156\n",
              "\n",
              "[7098 rows x 5 columns]"
            ]
          },
          "metadata": {
            "tags": []
          },
          "execution_count": 27
        }
      ]
    },
    {
      "cell_type": "code",
      "metadata": {
        "id": "Qrez9dELlJ1J",
        "colab_type": "code",
        "colab": {
          "base_uri": "https://localhost:8080/",
          "height": 34
        },
        "outputId": "fb4c4629-1b19-4692-e2cb-15f4042cff74"
      },
      "source": [
        "data.bachelor.unique()"
      ],
      "execution_count": 35,
      "outputs": [
        {
          "output_type": "execute_result",
          "data": {
            "text/plain": [
              "array([0, 1])"
            ]
          },
          "metadata": {
            "tags": []
          },
          "execution_count": 35
        }
      ]
    },
    {
      "cell_type": "code",
      "metadata": {
        "id": "kwQHozBpk6Gh",
        "colab_type": "code",
        "colab": {
          "base_uri": "https://localhost:8080/",
          "height": 419
        },
        "outputId": "ed681b08-f6f7-4ec3-aa27-1fee22148dff"
      },
      "source": [
        ""
      ],
      "execution_count": 36,
      "outputs": [
        {
          "output_type": "execute_result",
          "data": {
            "text/html": [
              "<div>\n",
              "<style scoped>\n",
              "    .dataframe tbody tr th:only-of-type {\n",
              "        vertical-align: middle;\n",
              "    }\n",
              "\n",
              "    .dataframe tbody tr th {\n",
              "        vertical-align: top;\n",
              "    }\n",
              "\n",
              "    .dataframe thead th {\n",
              "        text-align: right;\n",
              "    }\n",
              "</style>\n",
              "<table border=\"1\" class=\"dataframe\">\n",
              "  <thead>\n",
              "    <tr style=\"text-align: right;\">\n",
              "      <th></th>\n",
              "      <th>year</th>\n",
              "      <th>ahe</th>\n",
              "      <th>bachelor</th>\n",
              "      <th>female</th>\n",
              "      <th>age</th>\n",
              "    </tr>\n",
              "  </thead>\n",
              "  <tbody>\n",
              "    <tr>\n",
              "      <th>0</th>\n",
              "      <td>2015</td>\n",
              "      <td>11.778846</td>\n",
              "      <td>0</td>\n",
              "      <td>0</td>\n",
              "      <td>26</td>\n",
              "    </tr>\n",
              "    <tr>\n",
              "      <th>2</th>\n",
              "      <td>2015</td>\n",
              "      <td>12.019231</td>\n",
              "      <td>0</td>\n",
              "      <td>0</td>\n",
              "      <td>31</td>\n",
              "    </tr>\n",
              "    <tr>\n",
              "      <th>3</th>\n",
              "      <td>2015</td>\n",
              "      <td>18.376068</td>\n",
              "      <td>0</td>\n",
              "      <td>0</td>\n",
              "      <td>32</td>\n",
              "    </tr>\n",
              "    <tr>\n",
              "      <th>4</th>\n",
              "      <td>2015</td>\n",
              "      <td>41.836735</td>\n",
              "      <td>0</td>\n",
              "      <td>0</td>\n",
              "      <td>28</td>\n",
              "    </tr>\n",
              "    <tr>\n",
              "      <th>6</th>\n",
              "      <td>2015</td>\n",
              "      <td>13.461538</td>\n",
              "      <td>0</td>\n",
              "      <td>0</td>\n",
              "      <td>34</td>\n",
              "    </tr>\n",
              "    <tr>\n",
              "      <th>...</th>\n",
              "      <td>...</td>\n",
              "      <td>...</td>\n",
              "      <td>...</td>\n",
              "      <td>...</td>\n",
              "      <td>...</td>\n",
              "    </tr>\n",
              "    <tr>\n",
              "      <th>7080</th>\n",
              "      <td>2015</td>\n",
              "      <td>11.500000</td>\n",
              "      <td>0</td>\n",
              "      <td>0</td>\n",
              "      <td>32</td>\n",
              "    </tr>\n",
              "    <tr>\n",
              "      <th>7083</th>\n",
              "      <td>2015</td>\n",
              "      <td>23.076923</td>\n",
              "      <td>0</td>\n",
              "      <td>0</td>\n",
              "      <td>25</td>\n",
              "    </tr>\n",
              "    <tr>\n",
              "      <th>7090</th>\n",
              "      <td>2015</td>\n",
              "      <td>15.384615</td>\n",
              "      <td>0</td>\n",
              "      <td>0</td>\n",
              "      <td>31</td>\n",
              "    </tr>\n",
              "    <tr>\n",
              "      <th>7092</th>\n",
              "      <td>2015</td>\n",
              "      <td>16.826923</td>\n",
              "      <td>0</td>\n",
              "      <td>0</td>\n",
              "      <td>26</td>\n",
              "    </tr>\n",
              "    <tr>\n",
              "      <th>7095</th>\n",
              "      <td>2015</td>\n",
              "      <td>9.230769</td>\n",
              "      <td>0</td>\n",
              "      <td>0</td>\n",
              "      <td>27</td>\n",
              "    </tr>\n",
              "  </tbody>\n",
              "</table>\n",
              "<p>2222 rows × 5 columns</p>\n",
              "</div>"
            ],
            "text/plain": [
              "      year        ahe  bachelor  female  age\n",
              "0     2015  11.778846         0       0   26\n",
              "2     2015  12.019231         0       0   31\n",
              "3     2015  18.376068         0       0   32\n",
              "4     2015  41.836735         0       0   28\n",
              "6     2015  13.461538         0       0   34\n",
              "...    ...        ...       ...     ...  ...\n",
              "7080  2015  11.500000         0       0   32\n",
              "7083  2015  23.076923         0       0   25\n",
              "7090  2015  15.384615         0       0   31\n",
              "7092  2015  16.826923         0       0   26\n",
              "7095  2015   9.230769         0       0   27\n",
              "\n",
              "[2222 rows x 5 columns]"
            ]
          },
          "metadata": {
            "tags": []
          },
          "execution_count": 36
        }
      ]
    },
    {
      "cell_type": "code",
      "metadata": {
        "id": "Zc_fBVvcmWvH",
        "colab_type": "code",
        "colab": {
          "base_uri": "https://localhost:8080/",
          "height": 265
        },
        "outputId": "ec6d74cf-a4f1-47e8-ae3a-f5e986edb523"
      },
      "source": [
        "data_x = data.copy()\n",
        "data_x = data_x[(data_x.bachelor==0)&(data_x.female==0)]\n",
        "X = data_x.age.to_numpy()\n",
        "Y = np.log(data_x.ahe).to_numpy()\n",
        "import matplotlib.pyplot as plt\n",
        "plt.scatter(X, Y)\n",
        "Y_pred = result_c.predict(data_x).to_numpy()\n",
        "plt.plot(X, Y_pred, color='red')\n",
        "plt.show()"
      ],
      "execution_count": 47,
      "outputs": [
        {
          "output_type": "display_data",
          "data": {
            "image/png": "[encoded data removed]",
            "text/plain": [
              "<Figure size 432x288 with 1 Axes>"
            ]
          },
          "metadata": {
            "tags": [],
            "needs_background": "light"
          }
        }
      ]
    },
    {
      "cell_type": "code",
      "metadata": {
        "id": "oGdbLswkogPb",
        "colab_type": "code",
        "colab": {
          "base_uri": "https://localhost:8080/",
          "height": 265
        },
        "outputId": "c5d44f1b-6962-48b7-82cc-570fc8bda2bc"
      },
      "source": [
        "X = data_x.age.to_numpy()\n",
        "Y = np.log(data_x.ahe).to_numpy()\n",
        "import matplotlib.pyplot as plt\n",
        "plt.scatter(X, Y)\n",
        "Y_pred = result_d.predict(data_x).to_numpy()\n",
        "plt.plot(X, Y_pred, color='green')\n",
        "plt.show()"
      ],
      "execution_count": 48,
      "outputs": [
        {
          "output_type": "display_data",
          "data": {
            "image/png": "[encoded data removed]",
            "text/plain": [
              "<Figure size 432x288 with 1 Axes>"
            ]
          },
          "metadata": {
            "tags": [],
            "needs_background": "light"
          }
        }
      ]
    },
    {
      "cell_type": "code",
      "metadata": {
        "id": "dNnBJTR3ow-G",
        "colab_type": "code",
        "colab": {
          "base_uri": "https://localhost:8080/",
          "height": 265
        },
        "outputId": "a0a75036-e4bf-4d1e-856d-1e303b9b91a3"
      },
      "source": [
        "data_x = data.copy()\n",
        "data_x = data_x[(data_x.bachelor==0)&(data_x.female==0)]\n",
        "data_x\n",
        "X = data_x.age.to_numpy()\n",
        "Y = np.log(data_x.ahe).to_numpy()\n",
        "import matplotlib.pyplot as plt\n",
        "plt.scatter(X, Y)\n",
        "Y_pred = result_e.predict(data_x).to_numpy()\n",
        "plt.plot(X, Y_pred, color='brown')\n",
        "plt.show()"
      ],
      "execution_count": 50,
      "outputs": [
        {
          "output_type": "display_data",
          "data": {
            "image/png": "[encoded data removed]",
            "text/plain": [
              "<Figure size 432x288 with 1 Axes>"
            ]
          },
          "metadata": {
            "tags": [],
            "needs_background": "light"
          }
        }
      ]
    },
    {
      "cell_type": "code",
      "metadata": {
        "id": "aWvb2nHtn4KV",
        "colab_type": "code",
        "colab": {
          "base_uri": "https://localhost:8080/",
          "height": 266
        },
        "outputId": "7ba0b32c-079b-4b5c-a6cf-35a92d6b7c5a"
      },
      "source": [
        "data_x = data.copy()\n",
        "data_x = data_x[(data_x.bachelor==1)&(data_x.female==1)]\n",
        "X = data_x.age.to_numpy()\n",
        "Y = np.log(data_x.ahe).to_numpy()\n",
        "import matplotlib.pyplot as plt\n",
        "plt.scatter(X, Y)\n",
        "Y_pred = result_c.predict(data_x).to_numpy()\n",
        "plt.plot(X, Y_pred, color='red')\n",
        "plt.show()"
      ],
      "execution_count": 51,
      "outputs": [
        {
          "output_type": "display_data",
          "data": {
            "image/png": "[encoded data removed]",
            "text/plain": [
              "<Figure size 432x288 with 1 Axes>"
            ]
          },
          "metadata": {
            "tags": [],
            "needs_background": "light"
          }
        }
      ]
    },
    {
      "cell_type": "code",
      "metadata": {
        "id": "441yH2VNpPEc",
        "colab_type": "code",
        "colab": {
          "base_uri": "https://localhost:8080/",
          "height": 266
        },
        "outputId": "2ebe741c-db08-430e-c247-e1939e48e510"
      },
      "source": [
        "data_x = data.copy()\n",
        "data_x = data_x[(data_x.bachelor==1)&(data_x.female==1)]\n",
        "X = data_x.age.to_numpy()\n",
        "Y = np.log(data_x.ahe).to_numpy()\n",
        "import matplotlib.pyplot as plt\n",
        "plt.scatter(X, Y)\n",
        "Y_pred = result_d.predict(data_x).to_numpy()\n",
        "plt.plot(X, Y_pred, color='green')\n",
        "plt.show()"
      ],
      "execution_count": 52,
      "outputs": [
        {
          "output_type": "display_data",
          "data": {
            "image/png": "[encoded data removed]",
            "text/plain": [
              "<Figure size 432x288 with 1 Axes>"
            ]
          },
          "metadata": {
            "tags": [],
            "needs_background": "light"
          }
        }
      ]
    },
    {
      "cell_type": "code",
      "metadata": {
        "id": "96xhXE88pSPI",
        "colab_type": "code",
        "colab": {
          "base_uri": "https://localhost:8080/",
          "height": 266
        },
        "outputId": "40a89bf7-4bb8-4cde-bc74-ad14e8998acc"
      },
      "source": [
        "data_x = data.copy()\n",
        "data_x = data_x[(data_x.bachelor==1)&(data_x.female==1)]\n",
        "X = data_x.age.to_numpy()\n",
        "Y = np.log(data_x.ahe).to_numpy()\n",
        "import matplotlib.pyplot as plt\n",
        "plt.scatter(X, Y)\n",
        "Y_pred = result_e.predict(data_x).to_numpy()\n",
        "plt.plot(X, Y_pred, color='brown')\n",
        "plt.show()"
      ],
      "execution_count": 53,
      "outputs": [
        {
          "output_type": "display_data",
          "data": {
            "image/png": "[encoded data removed]",
            "text/plain": [
              "<Figure size 432x288 with 1 Axes>"
            ]
          },
          "metadata": {
            "tags": [],
            "needs_background": "light"
          }
        }
      ]
    },
    {
      "cell_type": "code",
      "metadata": {
        "id": "sINdsmfHoTF6",
        "colab_type": "code",
        "colab": {
          "base_uri": "https://localhost:8080/",
          "height": 419
        },
        "outputId": "88193132-5765-4160-a99d-f1da034dec98"
      },
      "source": [
        "data_x"
      ],
      "execution_count": 45,
      "outputs": [
        {
          "output_type": "execute_result",
          "data": {
            "text/html": [
              "<div>\n",
              "<style scoped>\n",
              "    .dataframe tbody tr th:only-of-type {\n",
              "        vertical-align: middle;\n",
              "    }\n",
              "\n",
              "    .dataframe tbody tr th {\n",
              "        vertical-align: top;\n",
              "    }\n",
              "\n",
              "    .dataframe thead th {\n",
              "        text-align: right;\n",
              "    }\n",
              "</style>\n",
              "<table border=\"1\" class=\"dataframe\">\n",
              "  <thead>\n",
              "    <tr style=\"text-align: right;\">\n",
              "      <th></th>\n",
              "      <th>year</th>\n",
              "      <th>ahe</th>\n",
              "      <th>bachelor</th>\n",
              "      <th>female</th>\n",
              "      <th>age</th>\n",
              "    </tr>\n",
              "  </thead>\n",
              "  <tbody>\n",
              "    <tr>\n",
              "      <th>7</th>\n",
              "      <td>2015</td>\n",
              "      <td>25.641026</td>\n",
              "      <td>1</td>\n",
              "      <td>1</td>\n",
              "      <td>33</td>\n",
              "    </tr>\n",
              "    <tr>\n",
              "      <th>9</th>\n",
              "      <td>2015</td>\n",
              "      <td>16.025640</td>\n",
              "      <td>1</td>\n",
              "      <td>1</td>\n",
              "      <td>33</td>\n",
              "    </tr>\n",
              "    <tr>\n",
              "      <th>11</th>\n",
              "      <td>2015</td>\n",
              "      <td>23.076923</td>\n",
              "      <td>1</td>\n",
              "      <td>1</td>\n",
              "      <td>30</td>\n",
              "    </tr>\n",
              "    <tr>\n",
              "      <th>14</th>\n",
              "      <td>2015</td>\n",
              "      <td>12.980769</td>\n",
              "      <td>1</td>\n",
              "      <td>1</td>\n",
              "      <td>30</td>\n",
              "    </tr>\n",
              "    <tr>\n",
              "      <th>20</th>\n",
              "      <td>2015</td>\n",
              "      <td>3.846154</td>\n",
              "      <td>1</td>\n",
              "      <td>1</td>\n",
              "      <td>28</td>\n",
              "    </tr>\n",
              "    <tr>\n",
              "      <th>...</th>\n",
              "      <td>...</td>\n",
              "      <td>...</td>\n",
              "      <td>...</td>\n",
              "      <td>...</td>\n",
              "      <td>...</td>\n",
              "    </tr>\n",
              "    <tr>\n",
              "      <th>7077</th>\n",
              "      <td>2015</td>\n",
              "      <td>14.615385</td>\n",
              "      <td>1</td>\n",
              "      <td>1</td>\n",
              "      <td>29</td>\n",
              "    </tr>\n",
              "    <tr>\n",
              "      <th>7085</th>\n",
              "      <td>2015</td>\n",
              "      <td>31.250000</td>\n",
              "      <td>1</td>\n",
              "      <td>1</td>\n",
              "      <td>31</td>\n",
              "    </tr>\n",
              "    <tr>\n",
              "      <th>7091</th>\n",
              "      <td>2015</td>\n",
              "      <td>5.769231</td>\n",
              "      <td>1</td>\n",
              "      <td>1</td>\n",
              "      <td>29</td>\n",
              "    </tr>\n",
              "    <tr>\n",
              "      <th>7096</th>\n",
              "      <td>2015</td>\n",
              "      <td>13.653846</td>\n",
              "      <td>1</td>\n",
              "      <td>1</td>\n",
              "      <td>27</td>\n",
              "    </tr>\n",
              "    <tr>\n",
              "      <th>7097</th>\n",
              "      <td>2015</td>\n",
              "      <td>32.692307</td>\n",
              "      <td>1</td>\n",
              "      <td>1</td>\n",
              "      <td>34</td>\n",
              "    </tr>\n",
              "  </tbody>\n",
              "</table>\n",
              "<p>1816 rows × 5 columns</p>\n",
              "</div>"
            ],
            "text/plain": [
              "      year        ahe  bachelor  female  age\n",
              "7     2015  25.641026         1       1   33\n",
              "9     2015  16.025640         1       1   33\n",
              "11    2015  23.076923         1       1   30\n",
              "14    2015  12.980769         1       1   30\n",
              "20    2015   3.846154         1       1   28\n",
              "...    ...        ...       ...     ...  ...\n",
              "7077  2015  14.615385         1       1   29\n",
              "7085  2015  31.250000         1       1   31\n",
              "7091  2015   5.769231         1       1   29\n",
              "7096  2015  13.653846         1       1   27\n",
              "7097  2015  32.692307         1       1   34\n",
              "\n",
              "[1816 rows x 5 columns]"
            ]
          },
          "metadata": {
            "tags": []
          },
          "execution_count": 45
        }
      ]
    },
    {
      "cell_type": "code",
      "metadata": {
        "id": "WuiNckl9xuvK",
        "colab_type": "code",
        "colab": {
          "base_uri": "https://localhost:8080/",
          "height": 663
        },
        "outputId": "737cdc6e-a266-4a8b-a1c5-40425401f80e"
      },
      "source": [
        "# (5)\n",
        "import numpy as np\n",
        "import statsmodels.formula.api as sm\n",
        "result = sm.ols(formula=\"np.log(ahe) ~ age + np.power(age,2) + female + bachelor + female * bachelor\", data=data).fit()\n",
        "print(result.params)\n",
        "print(result.summary())"
      ],
      "execution_count": 83,
      "outputs": [
        {
          "output_type": "stream",
          "text": [
            "Intercept           0.411904\n",
            "age                 0.134815\n",
            "np.power(age, 2)   -0.001871\n",
            "female             -0.190324\n",
            "bachelor            0.452114\n",
            "female:bachelor     0.023474\n",
            "dtype: float64\n",
            "                            OLS Regression Results                            \n",
            "==============================================================================\n",
            "Dep. Variable:            np.log(ahe)   R-squared:                       0.209\n",
            "Model:                            OLS   Adj. R-squared:                  0.209\n",
            "Method:                 Least Squares   F-statistic:                     375.1\n",
            "Date:                Mon, 14 Sep 2020   Prob (F-statistic):               0.00\n",
            "Time:                        10:46:34   Log-Likelihood:                -4818.5\n",
            "No. Observations:                7098   AIC:                             9649.\n",
            "Df Residuals:                    7092   BIC:                             9690.\n",
            "Df Model:                           5                                         \n",
            "Covariance Type:            nonrobust                                         \n",
            "====================================================================================\n",
            "                       coef    std err          t      P>|t|      [0.025      0.975]\n",
            "------------------------------------------------------------------------------------\n",
            "Intercept            0.4119      0.672      0.613      0.540      -0.906       1.729\n",
            "age                  0.1348      0.046      2.944      0.003       0.045       0.225\n",
            "np.power(age, 2)    -0.0019      0.001     -2.416      0.016      -0.003      -0.000\n",
            "female              -0.1903      0.017    -10.955      0.000      -0.224      -0.156\n",
            "bachelor             0.4521      0.015     30.379      0.000       0.423       0.481\n",
            "female:bachelor      0.0235      0.023      1.004      0.315      -0.022       0.069\n",
            "==============================================================================\n",
            "Omnibus:                      181.391   Durbin-Watson:                   1.944\n",
            "Prob(Omnibus):                  0.000   Jarque-Bera (JB):              300.574\n",
            "Skew:                          -0.234   Prob(JB):                     5.39e-66\n",
            "Kurtosis:                       3.893   Cond. No.                     1.07e+05\n",
            "==============================================================================\n",
            "\n",
            "Warnings:\n",
            "[1] Standard Errors assume that the covariance matrix of the errors is correctly specified.\n",
            "[2] The condition number is large, 1.07e+05. This might indicate that there are\n",
            "strong multicollinearity or other numerical problems.\n"
          ],
          "name": "stdout"
        }
      ]
    },
    {
      "cell_type": "code",
      "metadata": {
        "id": "qoB_7s0D5-M3",
        "colab_type": "code",
        "colab": {
          "base_uri": "https://localhost:8080/",
          "height": 34
        },
        "outputId": "8cfb0325-0db6-41fe-9149-d14d03060ea7"
      },
      "source": [
        "0.134815*30 + (-0.001871)*30*30 + (-0.190324) + 0.452114 + 0.023474"
      ],
      "execution_count": 55,
      "outputs": [
        {
          "output_type": "execute_result",
          "data": {
            "text/plain": [
              "2.6458139999999997"
            ]
          },
          "metadata": {
            "tags": []
          },
          "execution_count": 55
        }
      ]
    },
    {
      "cell_type": "code",
      "metadata": {
        "id": "nHysuzr9wBh1",
        "colab_type": "code",
        "colab": {
          "base_uri": "https://localhost:8080/",
          "height": 34
        },
        "outputId": "32e121f1-532e-44e5-83ff-be310427236c"
      },
      "source": [
        "0.134815*30 + (-0.001871)*30*30 + (-0.190324) "
      ],
      "execution_count": 56,
      "outputs": [
        {
          "output_type": "execute_result",
          "data": {
            "text/plain": [
              "2.1702259999999995"
            ]
          },
          "metadata": {
            "tags": []
          },
          "execution_count": 56
        }
      ]
    },
    {
      "cell_type": "code",
      "metadata": {
        "id": "QIYwM8e5wQFu",
        "colab_type": "code",
        "colab": {
          "base_uri": "https://localhost:8080/",
          "height": 34
        },
        "outputId": "6c8b8e17-a581-4c18-a1a9-66138a79ee15"
      },
      "source": [
        "2.6458139999999997 - 2.1702259999999995"
      ],
      "execution_count": 57,
      "outputs": [
        {
          "output_type": "execute_result",
          "data": {
            "text/plain": [
              "0.4755880000000001"
            ]
          },
          "metadata": {
            "tags": []
          },
          "execution_count": 57
        }
      ]
    },
    {
      "cell_type": "code",
      "metadata": {
        "id": "5HjxpQPAwXVE",
        "colab_type": "code",
        "colab": {
          "base_uri": "https://localhost:8080/",
          "height": 34
        },
        "outputId": "121ea38b-a529-47d9-d952-cababf8eab32"
      },
      "source": [
        "0.134815*30 + (-0.001871)*30*30 + 0.452114"
      ],
      "execution_count": 58,
      "outputs": [
        {
          "output_type": "execute_result",
          "data": {
            "text/plain": [
              "2.8126639999999994"
            ]
          },
          "metadata": {
            "tags": []
          },
          "execution_count": 58
        }
      ]
    },
    {
      "cell_type": "code",
      "metadata": {
        "id": "B7tsnMfZwi4h",
        "colab_type": "code",
        "colab": {
          "base_uri": "https://localhost:8080/",
          "height": 34
        },
        "outputId": "3add973f-04f9-45cc-9b41-83317156b9b0"
      },
      "source": [
        "0.134815*30 + (-0.001871)*30*30 "
      ],
      "execution_count": 59,
      "outputs": [
        {
          "output_type": "execute_result",
          "data": {
            "text/plain": [
              "2.3605499999999995"
            ]
          },
          "metadata": {
            "tags": []
          },
          "execution_count": 59
        }
      ]
    },
    {
      "cell_type": "code",
      "metadata": {
        "id": "ovu62C-Rwqup",
        "colab_type": "code",
        "colab": {
          "base_uri": "https://localhost:8080/",
          "height": 34
        },
        "outputId": "63669db0-d9be-4c9e-df17-d1411f2333e5"
      },
      "source": [
        "2.8126 - 2.3605"
      ],
      "execution_count": 60,
      "outputs": [
        {
          "output_type": "execute_result",
          "data": {
            "text/plain": [
              "0.45210000000000017"
            ]
          },
          "metadata": {
            "tags": []
          },
          "execution_count": 60
        }
      ]
    },
    {
      "cell_type": "code",
      "metadata": {
        "id": "X2-vwtQUwwEf",
        "colab_type": "code",
        "colab": {
          "base_uri": "https://localhost:8080/",
          "height": 561
        },
        "outputId": "3f96cbea-1a54-4cc5-8869-81052787f37a"
      },
      "source": [
        "# (6)\n",
        "import numpy as np\n",
        "import statsmodels.formula.api as sm\n",
        "result = sm.ols(formula=\"np.log(ahe) ~ age  + female * age\", data=data).fit()\n",
        "print(result.params)\n",
        "print(result.summary())"
      ],
      "execution_count": 84,
      "outputs": [
        {
          "output_type": "stream",
          "text": [
            "Intercept     2.053703\n",
            "age           0.030499\n",
            "female        0.314106\n",
            "female:age   -0.014263\n",
            "dtype: float64\n",
            "                            OLS Regression Results                            \n",
            "==============================================================================\n",
            "Dep. Variable:            np.log(ahe)   R-squared:                       0.029\n",
            "Model:                            OLS   Adj. R-squared:                  0.029\n",
            "Method:                 Least Squares   F-statistic:                     71.51\n",
            "Date:                Mon, 14 Sep 2020   Prob (F-statistic):           1.48e-45\n",
            "Time:                        10:50:09   Log-Likelihood:                -5545.5\n",
            "No. Observations:                7098   AIC:                         1.110e+04\n",
            "Df Residuals:                    7094   BIC:                         1.113e+04\n",
            "Df Model:                           3                                         \n",
            "Covariance Type:            nonrobust                                         \n",
            "==============================================================================\n",
            "                 coef    std err          t      P>|t|      [0.025      0.975]\n",
            "------------------------------------------------------------------------------\n",
            "Intercept      2.0537      0.086     23.969      0.000       1.886       2.222\n",
            "age            0.0305      0.003     10.624      0.000       0.025       0.036\n",
            "female         0.3141      0.131      2.390      0.017       0.056       0.572\n",
            "female:age    -0.0143      0.004     -3.227      0.001      -0.023      -0.006\n",
            "==============================================================================\n",
            "Omnibus:                       20.856   Durbin-Watson:                   1.846\n",
            "Prob(Omnibus):                  0.000   Jarque-Bera (JB):               23.363\n",
            "Skew:                          -0.084   Prob(JB):                     8.45e-06\n",
            "Kurtosis:                       3.225   Cond. No.                         761.\n",
            "==============================================================================\n",
            "\n",
            "Warnings:\n",
            "[1] Standard Errors assume that the covariance matrix of the errors is correctly specified.\n"
          ],
          "name": "stdout"
        }
      ]
    },
    {
      "cell_type": "code",
      "metadata": {
        "id": "DhTzrNDBPMtM",
        "colab_type": "code",
        "colab": {
          "base_uri": "https://localhost:8080/",
          "height": 34
        },
        "outputId": "39c3ac4c-abf2-4386-db65-417b46752626"
      },
      "source": [
        "np.sqrt(result.scale)"
      ],
      "execution_count": 89,
      "outputs": [
        {
          "output_type": "execute_result",
          "data": {
            "text/plain": [
              "0.47743892425267975"
            ]
          },
          "metadata": {
            "tags": []
          },
          "execution_count": 89
        }
      ]
    },
    {
      "cell_type": "code",
      "metadata": {
        "id": "3pbsFBaK11zO",
        "colab_type": "code",
        "colab": {
          "base_uri": "https://localhost:8080/",
          "height": 561
        },
        "outputId": "2fd2c0c4-e166-4945-a4d1-94cc514d99b9"
      },
      "source": [
        "# (6)\n",
        "import numpy as np\n",
        "import statsmodels.formula.api as sm\n",
        "result = sm.ols(formula=\"np.log(ahe) ~ bachelor * age\", data=data).fit()\n",
        "print(result.params)\n",
        "print(result.summary())"
      ],
      "execution_count": 86,
      "outputs": [
        {
          "output_type": "stream",
          "text": [
            "Intercept       2.051082\n",
            "bachelor        0.222390\n",
            "age             0.021355\n",
            "bachelor:age    0.007190\n",
            "dtype: float64\n",
            "                            OLS Regression Results                            \n",
            "==============================================================================\n",
            "Dep. Variable:            np.log(ahe)   R-squared:                       0.183\n",
            "Model:                            OLS   Adj. R-squared:                  0.182\n",
            "Method:                 Least Squares   F-statistic:                     528.6\n",
            "Date:                Mon, 14 Sep 2020   Prob (F-statistic):          4.60e-310\n",
            "Time:                        10:50:57   Log-Likelihood:                -4935.2\n",
            "No. Observations:                7098   AIC:                             9878.\n",
            "Df Residuals:                    7094   BIC:                             9906.\n",
            "Df Model:                           3                                         \n",
            "Covariance Type:            nonrobust                                         \n",
            "================================================================================\n",
            "                   coef    std err          t      P>|t|      [0.025      0.975]\n",
            "--------------------------------------------------------------------------------\n",
            "Intercept        2.0511      0.087     23.629      0.000       1.881       2.221\n",
            "bachelor         0.2224      0.119      1.863      0.063      -0.012       0.456\n",
            "age              0.0214      0.003      7.324      0.000       0.016       0.027\n",
            "bachelor:age     0.0072      0.004      1.793      0.073      -0.001       0.015\n",
            "==============================================================================\n",
            "Omnibus:                      130.777   Durbin-Watson:                   1.945\n",
            "Prob(Omnibus):                  0.000   Jarque-Bera (JB):              209.044\n",
            "Skew:                          -0.178   Prob(JB):                     4.04e-46\n",
            "Kurtosis:                       3.762   Cond. No.                         829.\n",
            "==============================================================================\n",
            "\n",
            "Warnings:\n",
            "[1] Standard Errors assume that the covariance matrix of the errors is correctly specified.\n"
          ],
          "name": "stdout"
        }
      ]
    },
    {
      "cell_type": "code",
      "metadata": {
        "id": "1Xl77YT73irW",
        "colab_type": "code",
        "colab": {
          "base_uri": "https://localhost:8080/",
          "height": 102
        },
        "outputId": "3e9475fe-e44b-439a-8b0d-7ab7aa2a12d4"
      },
      "source": [
        "result.pvalues"
      ],
      "execution_count": 68,
      "outputs": [
        {
          "output_type": "execute_result",
          "data": {
            "text/plain": [
              "Intercept       6.900691e-119\n",
              "bachelor         6.252124e-02\n",
              "age              2.665476e-13\n",
              "bachelor:age     7.301964e-02\n",
              "dtype: float64"
            ]
          },
          "metadata": {
            "tags": []
          },
          "execution_count": 68
        }
      ]
    },
    {
      "cell_type": "code",
      "metadata": {
        "id": "cCralbYbA75m",
        "colab_type": "code",
        "colab": {
          "base_uri": "https://localhost:8080/",
          "height": 561
        },
        "outputId": "d712e648-42ad-4727-ab15-348f7c85fa28"
      },
      "source": [
        "import numpy as np\n",
        "import statsmodels.formula.api as sm\n",
        "result = sm.ols(formula=\"np.log(ahe) ~ age + female + bachelor\", data=data).fit()\n",
        "print(result.params)\n",
        "print(result.summary())"
      ],
      "execution_count": 88,
      "outputs": [
        {
          "output_type": "stream",
          "text": [
            "Intercept    2.027359\n",
            "age          0.024191\n",
            "female      -0.177622\n",
            "bachelor     0.461503\n",
            "dtype: float64\n",
            "                            OLS Regression Results                            \n",
            "==============================================================================\n",
            "Dep. Variable:            np.log(ahe)   R-squared:                       0.208\n",
            "Model:                            OLS   Adj. R-squared:                  0.208\n",
            "Method:                 Least Squares   F-statistic:                     622.4\n",
            "Date:                Mon, 14 Sep 2020   Prob (F-statistic):               0.00\n",
            "Time:                        10:52:44   Log-Likelihood:                -4821.9\n",
            "No. Observations:                7098   AIC:                             9652.\n",
            "Df Residuals:                    7094   BIC:                             9679.\n",
            "Df Model:                           3                                         \n",
            "Covariance Type:            nonrobust                                         \n",
            "==============================================================================\n",
            "                 coef    std err          t      P>|t|      [0.025      0.975]\n",
            "------------------------------------------------------------------------------\n",
            "Intercept      2.0274      0.059     34.220      0.000       1.911       2.143\n",
            "age            0.0242      0.002     12.273      0.000       0.020       0.028\n",
            "female        -0.1776      0.012    -15.274      0.000      -0.200      -0.155\n",
            "bachelor       0.4615      0.011     40.212      0.000       0.439       0.484\n",
            "==============================================================================\n",
            "Omnibus:                      185.302   Durbin-Watson:                   1.943\n",
            "Prob(Omnibus):                  0.000   Jarque-Bera (JB):              309.107\n",
            "Skew:                          -0.236   Prob(JB):                     7.55e-68\n",
            "Kurtosis:                       3.906   Cond. No.                         312.\n",
            "==============================================================================\n",
            "\n",
            "Warnings:\n",
            "[1] Standard Errors assume that the covariance matrix of the errors is correctly specified.\n"
          ],
          "name": "stdout"
        }
      ]
    },
    {
      "cell_type": "code",
      "metadata": {
        "id": "wO-nArqbCCgL",
        "colab_type": "code",
        "colab": {
          "base_uri": "https://localhost:8080/",
          "height": 561
        },
        "outputId": "830586d0-5a0c-4627-da45-89a5b039ee44"
      },
      "source": [
        "data_age = data.copy()\n",
        "data_age = data_age [ data_age.age < 30]\n",
        "import numpy as np\n",
        "import statsmodels.formula.api as sm\n",
        "result = sm.ols(formula=\"np.log(ahe) ~ age + female + bachelor\", data=data_age).fit()\n",
        "print(result.params)\n",
        "print(result.summary())"
      ],
      "execution_count": 75,
      "outputs": [
        {
          "output_type": "stream",
          "text": [
            "Intercept    1.744160\n",
            "age          0.034629\n",
            "female      -0.151653\n",
            "bachelor     0.442525\n",
            "dtype: float64\n",
            "                            OLS Regression Results                            \n",
            "==============================================================================\n",
            "Dep. Variable:            np.log(ahe)   R-squared:                       0.183\n",
            "Model:                            OLS   Adj. R-squared:                  0.183\n",
            "Method:                 Least Squares   F-statistic:                     254.7\n",
            "Date:                Mon, 14 Sep 2020   Prob (F-statistic):          4.43e-149\n",
            "Time:                        10:00:15   Log-Likelihood:                -2306.0\n",
            "No. Observations:                3404   AIC:                             4620.\n",
            "Df Residuals:                    3400   BIC:                             4645.\n",
            "Df Model:                           3                                         \n",
            "Covariance Type:            nonrobust                                         \n",
            "==============================================================================\n",
            "                 coef    std err          t      P>|t|      [0.025      0.975]\n",
            "------------------------------------------------------------------------------\n",
            "Intercept      1.7442      0.155     11.248      0.000       1.440       2.048\n",
            "age            0.0346      0.006      6.069      0.000       0.023       0.046\n",
            "female        -0.1517      0.017     -9.041      0.000      -0.185      -0.119\n",
            "bachelor       0.4425      0.017     26.618      0.000       0.410       0.475\n",
            "==============================================================================\n",
            "Omnibus:                      120.578   Durbin-Watson:                   1.938\n",
            "Prob(Omnibus):                  0.000   Jarque-Bera (JB):              213.712\n",
            "Skew:                          -0.287   Prob(JB):                     3.92e-47\n",
            "Kurtosis:                       4.085   Cond. No.                         515.\n",
            "==============================================================================\n",
            "\n",
            "Warnings:\n",
            "[1] Standard Errors assume that the covariance matrix of the errors is correctly specified.\n"
          ],
          "name": "stdout"
        }
      ]
    },
    {
      "cell_type": "code",
      "metadata": {
        "id": "2CC7cHNECm-Y",
        "colab_type": "code",
        "colab": {}
      },
      "source": [
        ""
      ],
      "execution_count": null,
      "outputs": []
    }
  ]
}