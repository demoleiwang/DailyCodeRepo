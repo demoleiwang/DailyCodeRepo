{
  "nbformat": 4,
  "nbformat_minor": 0,
  "metadata": {
    "colab": {
      "name": "01_2-assignment.ipynb",
      "provenance": [],
      "authorship_tag": "ABX9TyMhrqgWSS4Ors/AcI/sgBvU",
      "include_colab_link": true
    },
    "kernelspec": {
      "name": "python3",
      "display_name": "Python 3"
    }
  },
  "cells": [
    {
      "cell_type": "markdown",
      "metadata": {
        "id": "view-in-github",
        "colab_type": "text"
      },
      "source": [
        "<a href=\"https://colab.research.google.com/github/demoleiwang/DailyCodeRepo/blob/master/Courses/IS713/01_2_assignment.ipynb\" target=\"_parent\"><img src=\"https://colab.research.google.com/assets/colab-badge.svg\" alt=\"Open In Colab\"/></a>"
      ]
    },
    {
      "cell_type": "markdown",
      "metadata": {
        "id": "d8zXIBg32Yla",
        "colab_type": "text"
      },
      "source": [
        "References:\n",
        "\n",
        "[1] https://blog.csdn.net/qtlyx/article/details/52243157"
      ]
    },
    {
      "cell_type": "code",
      "metadata": {
        "id": "ohF-9KGtiTbh",
        "colab_type": "code",
        "colab": {
          "base_uri": "https://localhost:8080/",
          "height": 85
        },
        "outputId": "4824196d-5b62-4242-cd96-bcf76d8a4b7d"
      },
      "source": [
        "!gdown --id '1R3WEOHNTkltRX1GaqILnMGDKdsZFtnWe' --output CPS2015.xlsx"
      ],
      "execution_count": 6,
      "outputs": [
        {
          "output_type": "stream",
          "text": [
            "Downloading...\n",
            "From: https://drive.google.com/uc?id=1R3WEOHNTkltRX1GaqILnMGDKdsZFtnWe\n",
            "To: /content/CPS2015.xlsx\n",
            "\r  0% 0.00/157k [00:00<?, ?B/s]\r100% 157k/157k [00:00<00:00, 59.9MB/s]\n"
          ],
          "name": "stdout"
        }
      ]
    },
    {
      "cell_type": "code",
      "metadata": {
        "id": "WZO64IRRi-I_",
        "colab_type": "code",
        "colab": {
          "base_uri": "https://localhost:8080/",
          "height": 34
        },
        "outputId": "cfd9eeea-ddba-468c-f5a0-13168677bc04"
      },
      "source": [
        "!ls"
      ],
      "execution_count": 7,
      "outputs": [
        {
          "output_type": "stream",
          "text": [
            "CPS2015.xlsx  IMDB_Dataset.csv\tsample_data\n"
          ],
          "name": "stdout"
        }
      ]
    },
    {
      "cell_type": "markdown",
      "metadata": {
        "id": "XBNV_1uXjVbz",
        "colab_type": "text"
      },
      "source": [
        "Read the data with xlsx format "
      ]
    },
    {
      "cell_type": "code",
      "metadata": {
        "id": "Mw2NzuLQi_jo",
        "colab_type": "code",
        "colab": {}
      },
      "source": [
        "import pandas as pd\n",
        "data = pd.read_excel(\"CPS2015.xlsx\")"
      ],
      "execution_count": 9,
      "outputs": []
    },
    {
      "cell_type": "code",
      "metadata": {
        "id": "MFmiPCMyj6UI",
        "colab_type": "code",
        "colab": {
          "base_uri": "https://localhost:8080/",
          "height": 419
        },
        "outputId": "aa749ca0-f9d5-44ce-d52a-62bb29fa524b"
      },
      "source": [
        "data"
      ],
      "execution_count": 11,
      "outputs": [
        {
          "output_type": "execute_result",
          "data": {
            "text/html": [
              "<div>\n",
              "<style scoped>\n",
              "    .dataframe tbody tr th:only-of-type {\n",
              "        vertical-align: middle;\n",
              "    }\n",
              "\n",
              "    .dataframe tbody tr th {\n",
              "        vertical-align: top;\n",
              "    }\n",
              "\n",
              "    .dataframe thead th {\n",
              "        text-align: right;\n",
              "    }\n",
              "</style>\n",
              "<table border=\"1\" class=\"dataframe\">\n",
              "  <thead>\n",
              "    <tr style=\"text-align: right;\">\n",
              "      <th></th>\n",
              "      <th>year</th>\n",
              "      <th>ahe</th>\n",
              "      <th>bachelor</th>\n",
              "      <th>female</th>\n",
              "      <th>age</th>\n",
              "    </tr>\n",
              "  </thead>\n",
              "  <tbody>\n",
              "    <tr>\n",
              "      <th>0</th>\n",
              "      <td>2015</td>\n",
              "      <td>11.778846</td>\n",
              "      <td>0</td>\n",
              "      <td>0</td>\n",
              "      <td>26</td>\n",
              "    </tr>\n",
              "    <tr>\n",
              "      <th>1</th>\n",
              "      <td>2015</td>\n",
              "      <td>9.615385</td>\n",
              "      <td>0</td>\n",
              "      <td>1</td>\n",
              "      <td>33</td>\n",
              "    </tr>\n",
              "    <tr>\n",
              "      <th>2</th>\n",
              "      <td>2015</td>\n",
              "      <td>12.019231</td>\n",
              "      <td>0</td>\n",
              "      <td>0</td>\n",
              "      <td>31</td>\n",
              "    </tr>\n",
              "    <tr>\n",
              "      <th>3</th>\n",
              "      <td>2015</td>\n",
              "      <td>18.376068</td>\n",
              "      <td>0</td>\n",
              "      <td>0</td>\n",
              "      <td>32</td>\n",
              "    </tr>\n",
              "    <tr>\n",
              "      <th>4</th>\n",
              "      <td>2015</td>\n",
              "      <td>41.836735</td>\n",
              "      <td>0</td>\n",
              "      <td>0</td>\n",
              "      <td>28</td>\n",
              "    </tr>\n",
              "    <tr>\n",
              "      <th>...</th>\n",
              "      <td>...</td>\n",
              "      <td>...</td>\n",
              "      <td>...</td>\n",
              "      <td>...</td>\n",
              "      <td>...</td>\n",
              "    </tr>\n",
              "    <tr>\n",
              "      <th>7093</th>\n",
              "      <td>2015</td>\n",
              "      <td>96.153847</td>\n",
              "      <td>1</td>\n",
              "      <td>0</td>\n",
              "      <td>25</td>\n",
              "    </tr>\n",
              "    <tr>\n",
              "      <th>7094</th>\n",
              "      <td>2015</td>\n",
              "      <td>30.769230</td>\n",
              "      <td>1</td>\n",
              "      <td>0</td>\n",
              "      <td>34</td>\n",
              "    </tr>\n",
              "    <tr>\n",
              "      <th>7095</th>\n",
              "      <td>2015</td>\n",
              "      <td>9.230769</td>\n",
              "      <td>0</td>\n",
              "      <td>0</td>\n",
              "      <td>27</td>\n",
              "    </tr>\n",
              "    <tr>\n",
              "      <th>7096</th>\n",
              "      <td>2015</td>\n",
              "      <td>13.653846</td>\n",
              "      <td>1</td>\n",
              "      <td>1</td>\n",
              "      <td>27</td>\n",
              "    </tr>\n",
              "    <tr>\n",
              "      <th>7097</th>\n",
              "      <td>2015</td>\n",
              "      <td>32.692307</td>\n",
              "      <td>1</td>\n",
              "      <td>1</td>\n",
              "      <td>34</td>\n",
              "    </tr>\n",
              "  </tbody>\n",
              "</table>\n",
              "<p>7098 rows × 5 columns</p>\n",
              "</div>"
            ],
            "text/plain": [
              "      year        ahe  bachelor  female  age\n",
              "0     2015  11.778846         0       0   26\n",
              "1     2015   9.615385         0       1   33\n",
              "2     2015  12.019231         0       0   31\n",
              "3     2015  18.376068         0       0   32\n",
              "4     2015  41.836735         0       0   28\n",
              "...    ...        ...       ...     ...  ...\n",
              "7093  2015  96.153847         1       0   25\n",
              "7094  2015  30.769230         1       0   34\n",
              "7095  2015   9.230769         0       0   27\n",
              "7096  2015  13.653846         1       1   27\n",
              "7097  2015  32.692307         1       1   34\n",
              "\n",
              "[7098 rows x 5 columns]"
            ]
          },
          "metadata": {
            "tags": []
          },
          "execution_count": 11
        }
      ]
    },
    {
      "cell_type": "markdown",
      "metadata": {
        "id": "jPXFqclKuy4D",
        "colab_type": "text"
      },
      "source": [
        "One example from https://stackoverflow.com/questions/19991445/run-an-ols-regression-with-pandas-data-frame about how to use ols to solve problem"
      ]
    },
    {
      "cell_type": "code",
      "metadata": {
        "id": "rMav0iXij997",
        "colab_type": "code",
        "colab": {
          "base_uri": "https://localhost:8080/",
          "height": 595
        },
        "outputId": "aba75d44-81aa-426e-abbe-afde81c642da"
      },
      "source": [
        "import statsmodels.formula.api as sm\n",
        "df = pd.DataFrame({\"A\": [10,20,30,40,50], \"B\": [20, 30, 10, 40, 50], \"C\": [32, 234, 23, 23, 42523]})\n",
        "result = sm.ols(formula=\"A ~ B + C\", data=df).fit()\n",
        "print(result.params)\n",
        "print(result.summary())"
      ],
      "execution_count": 15,
      "outputs": [
        {
          "output_type": "stream",
          "text": [
            "Intercept    14.952480\n",
            "B             0.401182\n",
            "C             0.000352\n",
            "dtype: float64\n",
            "                            OLS Regression Results                            \n",
            "==============================================================================\n",
            "Dep. Variable:                      A   R-squared:                       0.579\n",
            "Model:                            OLS   Adj. R-squared:                  0.158\n",
            "Method:                 Least Squares   F-statistic:                     1.375\n",
            "Date:                Fri, 11 Sep 2020   Prob (F-statistic):              0.421\n",
            "Time:                        05:55:29   Log-Likelihood:                -18.178\n",
            "No. Observations:                   5   AIC:                             42.36\n",
            "Df Residuals:                       2   BIC:                             41.19\n",
            "Df Model:                           2                                         \n",
            "Covariance Type:            nonrobust                                         \n",
            "==============================================================================\n",
            "                 coef    std err          t      P>|t|      [0.025      0.975]\n",
            "------------------------------------------------------------------------------\n",
            "Intercept     14.9525     17.764      0.842      0.489     -61.481      91.386\n",
            "B              0.4012      0.650      0.617      0.600      -2.394       3.197\n",
            "C              0.0004      0.001      0.650      0.583      -0.002       0.003\n",
            "==============================================================================\n",
            "Omnibus:                          nan   Durbin-Watson:                   1.061\n",
            "Prob(Omnibus):                    nan   Jarque-Bera (JB):                0.498\n",
            "Skew:                          -0.123   Prob(JB):                        0.780\n",
            "Kurtosis:                       1.474   Cond. No.                     5.21e+04\n",
            "==============================================================================\n",
            "\n",
            "Warnings:\n",
            "[1] Standard Errors assume that the covariance matrix of the errors is correctly specified.\n",
            "[2] The condition number is large, 5.21e+04. This might indicate that there are\n",
            "strong multicollinearity or other numerical problems.\n"
          ],
          "name": "stdout"
        },
        {
          "output_type": "stream",
          "text": [
            "/usr/local/lib/python3.6/dist-packages/statsmodels/stats/stattools.py:71: ValueWarning: omni_normtest is not valid with less than 8 observations; 5 samples were given.\n",
            "  \"samples were given.\" % int(n), ValueWarning)\n"
          ],
          "name": "stderr"
        }
      ]
    },
    {
      "cell_type": "markdown",
      "metadata": {
        "id": "crMH2Bnnwpqw",
        "colab_type": "text"
      },
      "source": [
        "We refer to the url https://www.statsmodels.org/dev/example_formulas.html about the R-style formulas "
      ]
    },
    {
      "cell_type": "code",
      "metadata": {
        "id": "yvJkXTR2uvJY",
        "colab_type": "code",
        "colab": {
          "base_uri": "https://localhost:8080/",
          "height": 578
        },
        "outputId": "b876b34a-4b6c-473b-90c9-c127792f3f63"
      },
      "source": [
        "# (1)\n",
        "import statsmodels.formula.api as sm\n",
        "result = sm.ols(formula=\"ahe ~ age + female + bachelor\", data=data).fit()\n",
        "print(result.params)\n",
        "print(result.summary())\n",
        "print (\"f_pvalue:\", result.f_pvalue)\n"
      ],
      "execution_count": 27,
      "outputs": [
        {
          "output_type": "stream",
          "text": [
            "Intercept    2.044810\n",
            "age          0.531275\n",
            "female      -4.143538\n",
            "bachelor     9.845644\n",
            "dtype: float64\n",
            "                            OLS Regression Results                            \n",
            "==============================================================================\n",
            "Dep. Variable:                    ahe   R-squared:                       0.190\n",
            "Model:                            OLS   Adj. R-squared:                  0.189\n",
            "Method:                 Least Squares   F-statistic:                     553.4\n",
            "Date:                Fri, 11 Sep 2020   Prob (F-statistic):          3.46e-323\n",
            "Time:                        06:47:59   Log-Likelihood:                -27036.\n",
            "No. Observations:                7098   AIC:                         5.408e+04\n",
            "Df Residuals:                    7094   BIC:                         5.411e+04\n",
            "Df Model:                           3                                         \n",
            "Covariance Type:            nonrobust                                         \n",
            "==============================================================================\n",
            "                 coef    std err          t      P>|t|      [0.025      0.975]\n",
            "------------------------------------------------------------------------------\n",
            "Intercept      2.0448      1.355      1.509      0.131      -0.611       4.700\n",
            "age            0.5313      0.045     11.788      0.000       0.443       0.620\n",
            "female        -4.1435      0.266    -15.583      0.000      -4.665      -3.622\n",
            "bachelor       9.8456      0.262     37.519      0.000       9.331      10.360\n",
            "==============================================================================\n",
            "Omnibus:                     2458.198   Durbin-Watson:                   1.936\n",
            "Prob(Omnibus):                  0.000   Jarque-Bera (JB):            11294.166\n",
            "Skew:                           1.629   Prob(JB):                         0.00\n",
            "Kurtosis:                       8.252   Cond. No.                         312.\n",
            "==============================================================================\n",
            "\n",
            "Warnings:\n",
            "[1] Standard Errors assume that the covariance matrix of the errors is correctly specified.\n",
            "f_pvalue: 3.5e-323\n"
          ],
          "name": "stdout"
        }
      ]
    },
    {
      "cell_type": "code",
      "metadata": {
        "id": "2z6CnTLS-Itt",
        "colab_type": "code",
        "colab": {
          "base_uri": "https://localhost:8080/",
          "height": 221
        },
        "outputId": "da0ffbab-d6e2-4ffd-d4e0-6dde28986f21"
      },
      "source": [
        "print (result.predict(data))"
      ],
      "execution_count": 38,
      "outputs": [
        {
          "output_type": "stream",
          "text": [
            "0       15.857966\n",
            "1       15.433355\n",
            "2       18.514343\n",
            "3       19.045618\n",
            "4       16.920517\n",
            "          ...    \n",
            "7093    25.172335\n",
            "7094    29.953812\n",
            "7095    16.389242\n",
            "7096    22.091348\n",
            "7097    25.810274\n",
            "Length: 7098, dtype: float64\n"
          ],
          "name": "stdout"
        }
      ]
    },
    {
      "cell_type": "code",
      "metadata": {
        "id": "zkJWSaMTvhmC",
        "colab_type": "code",
        "colab": {
          "base_uri": "https://localhost:8080/",
          "height": 561
        },
        "outputId": "4badcb64-5876-4d99-d5f6-b1fb50a975a5"
      },
      "source": [
        "# (2)\n",
        "import numpy as np\n",
        "import statsmodels.formula.api as sm\n",
        "result = sm.ols(formula=\"np.log(ahe) ~ age + female + bachelor\", data=data).fit()\n",
        "print(result.params)\n",
        "print(result.summary())"
      ],
      "execution_count": 19,
      "outputs": [
        {
          "output_type": "stream",
          "text": [
            "Intercept    2.027359\n",
            "age          0.024191\n",
            "female      -0.177622\n",
            "bachelor     0.461503\n",
            "dtype: float64\n",
            "                            OLS Regression Results                            \n",
            "==============================================================================\n",
            "Dep. Variable:            np.log(ahe)   R-squared:                       0.208\n",
            "Model:                            OLS   Adj. R-squared:                  0.208\n",
            "Method:                 Least Squares   F-statistic:                     622.4\n",
            "Date:                Fri, 11 Sep 2020   Prob (F-statistic):               0.00\n",
            "Time:                        06:02:46   Log-Likelihood:                -4821.9\n",
            "No. Observations:                7098   AIC:                             9652.\n",
            "Df Residuals:                    7094   BIC:                             9679.\n",
            "Df Model:                           3                                         \n",
            "Covariance Type:            nonrobust                                         \n",
            "==============================================================================\n",
            "                 coef    std err          t      P>|t|      [0.025      0.975]\n",
            "------------------------------------------------------------------------------\n",
            "Intercept      2.0274      0.059     34.220      0.000       1.911       2.143\n",
            "age            0.0242      0.002     12.273      0.000       0.020       0.028\n",
            "female        -0.1776      0.012    -15.274      0.000      -0.200      -0.155\n",
            "bachelor       0.4615      0.011     40.212      0.000       0.439       0.484\n",
            "==============================================================================\n",
            "Omnibus:                      185.302   Durbin-Watson:                   1.943\n",
            "Prob(Omnibus):                  0.000   Jarque-Bera (JB):              309.107\n",
            "Skew:                          -0.236   Prob(JB):                     7.55e-68\n",
            "Kurtosis:                       3.906   Cond. No.                         312.\n",
            "==============================================================================\n",
            "\n",
            "Warnings:\n",
            "[1] Standard Errors assume that the covariance matrix of the errors is correctly specified.\n"
          ],
          "name": "stdout"
        }
      ]
    },
    {
      "cell_type": "code",
      "metadata": {
        "id": "zCXgvZGAwkyf",
        "colab_type": "code",
        "colab": {
          "base_uri": "https://localhost:8080/",
          "height": 561
        },
        "outputId": "bf755cb0-f84e-4723-afbd-413d1adc98ee"
      },
      "source": [
        "# (3)\n",
        "import numpy as np\n",
        "import statsmodels.formula.api as sm\n",
        "result = sm.ols(formula=\"np.log(ahe) ~ np.log(age) + female + bachelor\", data=data).fit()\n",
        "print(result.params)\n",
        "print(result.summary())"
      ],
      "execution_count": 20,
      "outputs": [
        {
          "output_type": "stream",
          "text": [
            "Intercept      0.323253\n",
            "np.log(age)    0.715375\n",
            "female        -0.177531\n",
            "bachelor       0.461524\n",
            "dtype: float64\n",
            "                            OLS Regression Results                            \n",
            "==============================================================================\n",
            "Dep. Variable:            np.log(ahe)   R-squared:                       0.209\n",
            "Model:                            OLS   Adj. R-squared:                  0.208\n",
            "Method:                 Least Squares   F-statistic:                     623.4\n",
            "Date:                Fri, 11 Sep 2020   Prob (F-statistic):               0.00\n",
            "Time:                        06:05:10   Log-Likelihood:                -4820.8\n",
            "No. Observations:                7098   AIC:                             9650.\n",
            "Df Residuals:                    7094   BIC:                             9677.\n",
            "Df Model:                           3                                         \n",
            "Covariance Type:            nonrobust                                         \n",
            "===============================================================================\n",
            "                  coef    std err          t      P>|t|      [0.025      0.975]\n",
            "-------------------------------------------------------------------------------\n",
            "Intercept       0.3233      0.196      1.649      0.099      -0.061       0.708\n",
            "np.log(age)     0.7154      0.058     12.368      0.000       0.602       0.829\n",
            "female         -0.1775      0.012    -15.268      0.000      -0.200      -0.155\n",
            "bachelor        0.4615      0.011     40.220      0.000       0.439       0.484\n",
            "==============================================================================\n",
            "Omnibus:                      184.684   Durbin-Watson:                   1.943\n",
            "Prob(Omnibus):                  0.000   Jarque-Bera (JB):              307.770\n",
            "Skew:                          -0.236   Prob(JB):                     1.47e-67\n",
            "Kurtosis:                       3.904   Cond. No.                         130.\n",
            "==============================================================================\n",
            "\n",
            "Warnings:\n",
            "[1] Standard Errors assume that the covariance matrix of the errors is correctly specified.\n"
          ],
          "name": "stdout"
        }
      ]
    },
    {
      "cell_type": "code",
      "metadata": {
        "id": "y0dMRlMPxIMo",
        "colab_type": "code",
        "colab": {
          "base_uri": "https://localhost:8080/",
          "height": 629
        },
        "outputId": "dba78411-1dee-4d5d-fa17-7dd7f79c6228"
      },
      "source": [
        "# (4)\n",
        "import numpy as np\n",
        "import statsmodels.formula.api as sm\n",
        "result = sm.ols(formula=\"np.log(ahe) ~ age + np.power(age,2) + female + bachelor\", data=data).fit()\n",
        "print(result.params)\n",
        "print(result.summary())"
      ],
      "execution_count": 21,
      "outputs": [
        {
          "output_type": "stream",
          "text": [
            "Intercept           0.418745\n",
            "age                 0.134115\n",
            "np.power(age, 2)   -0.001860\n",
            "female             -0.177364\n",
            "bachelor            0.461629\n",
            "dtype: float64\n",
            "                            OLS Regression Results                            \n",
            "==============================================================================\n",
            "Dep. Variable:            np.log(ahe)   R-squared:                       0.209\n",
            "Model:                            OLS   Adj. R-squared:                  0.209\n",
            "Method:                 Least Squares   F-statistic:                     468.6\n",
            "Date:                Fri, 11 Sep 2020   Prob (F-statistic):               0.00\n",
            "Time:                        06:07:48   Log-Likelihood:                -4819.1\n",
            "No. Observations:                7098   AIC:                             9648.\n",
            "Df Residuals:                    7093   BIC:                             9682.\n",
            "Df Model:                           4                                         \n",
            "Covariance Type:            nonrobust                                         \n",
            "====================================================================================\n",
            "                       coef    std err          t      P>|t|      [0.025      0.975]\n",
            "------------------------------------------------------------------------------------\n",
            "Intercept            0.4187      0.672      0.623      0.533      -0.899       1.736\n",
            "age                  0.1341      0.046      2.929      0.003       0.044       0.224\n",
            "np.power(age, 2)    -0.0019      0.001     -2.403      0.016      -0.003      -0.000\n",
            "female              -0.1774      0.012    -15.256      0.000      -0.200      -0.155\n",
            "bachelor             0.4616      0.011     40.236      0.000       0.439       0.484\n",
            "==============================================================================\n",
            "Omnibus:                      182.315   Durbin-Watson:                   1.944\n",
            "Prob(Omnibus):                  0.000   Jarque-Bera (JB):              302.731\n",
            "Skew:                          -0.234   Prob(JB):                     1.83e-66\n",
            "Kurtosis:                       3.897   Cond. No.                     1.07e+05\n",
            "==============================================================================\n",
            "\n",
            "Warnings:\n",
            "[1] Standard Errors assume that the covariance matrix of the errors is correctly specified.\n",
            "[2] The condition number is large, 1.07e+05. This might indicate that there are\n",
            "strong multicollinearity or other numerical problems.\n"
          ],
          "name": "stdout"
        }
      ]
    },
    {
      "cell_type": "code",
      "metadata": {
        "id": "WuiNckl9xuvK",
        "colab_type": "code",
        "colab": {
          "base_uri": "https://localhost:8080/",
          "height": 663
        },
        "outputId": "946821a3-a819-4e38-c664-f4885b363fef"
      },
      "source": [
        "# (5)\n",
        "import numpy as np\n",
        "import statsmodels.formula.api as sm\n",
        "result = sm.ols(formula=\"np.log(ahe) ~ age + np.power(age,2) + female * bachelor\", data=data).fit()\n",
        "print(result.params)\n",
        "print(result.summary())"
      ],
      "execution_count": 22,
      "outputs": [
        {
          "output_type": "stream",
          "text": [
            "Intercept           0.411904\n",
            "age                 0.134815\n",
            "np.power(age, 2)   -0.001871\n",
            "female             -0.190324\n",
            "bachelor            0.452114\n",
            "female:bachelor     0.023474\n",
            "dtype: float64\n",
            "                            OLS Regression Results                            \n",
            "==============================================================================\n",
            "Dep. Variable:            np.log(ahe)   R-squared:                       0.209\n",
            "Model:                            OLS   Adj. R-squared:                  0.209\n",
            "Method:                 Least Squares   F-statistic:                     375.1\n",
            "Date:                Fri, 11 Sep 2020   Prob (F-statistic):               0.00\n",
            "Time:                        06:10:59   Log-Likelihood:                -4818.5\n",
            "No. Observations:                7098   AIC:                             9649.\n",
            "Df Residuals:                    7092   BIC:                             9690.\n",
            "Df Model:                           5                                         \n",
            "Covariance Type:            nonrobust                                         \n",
            "====================================================================================\n",
            "                       coef    std err          t      P>|t|      [0.025      0.975]\n",
            "------------------------------------------------------------------------------------\n",
            "Intercept            0.4119      0.672      0.613      0.540      -0.906       1.729\n",
            "age                  0.1348      0.046      2.944      0.003       0.045       0.225\n",
            "np.power(age, 2)    -0.0019      0.001     -2.416      0.016      -0.003      -0.000\n",
            "female              -0.1903      0.017    -10.955      0.000      -0.224      -0.156\n",
            "bachelor             0.4521      0.015     30.379      0.000       0.423       0.481\n",
            "female:bachelor      0.0235      0.023      1.004      0.315      -0.022       0.069\n",
            "==============================================================================\n",
            "Omnibus:                      181.391   Durbin-Watson:                   1.944\n",
            "Prob(Omnibus):                  0.000   Jarque-Bera (JB):              300.574\n",
            "Skew:                          -0.234   Prob(JB):                     5.39e-66\n",
            "Kurtosis:                       3.893   Cond. No.                     1.07e+05\n",
            "==============================================================================\n",
            "\n",
            "Warnings:\n",
            "[1] Standard Errors assume that the covariance matrix of the errors is correctly specified.\n",
            "[2] The condition number is large, 1.07e+05. This might indicate that there are\n",
            "strong multicollinearity or other numerical problems.\n"
          ],
          "name": "stdout"
        }
      ]
    },
    {
      "cell_type": "code",
      "metadata": {
        "id": "qoB_7s0D5-M3",
        "colab_type": "code",
        "colab": {}
      },
      "source": [
        ""
      ],
      "execution_count": null,
      "outputs": []
    }
  ]
}