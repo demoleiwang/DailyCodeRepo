{
  "nbformat": 4,
  "nbformat_minor": 0,
  "metadata": {
    "colab": {
      "name": "02_1_assignment.ipynb",
      "provenance": [],
      "authorship_tag": "ABX9TyMKjBSP16XhvaMw+LlduRtQ",
      "include_colab_link": true
    },
    "kernelspec": {
      "name": "python3",
      "display_name": "Python 3"
    }
  },
  "cells": [
    {
      "cell_type": "markdown",
      "metadata": {
        "id": "view-in-github",
        "colab_type": "text"
      },
      "source": [
        "<a href=\"https://colab.research.google.com/github/demoleiwang/DailyCodeRepo/blob/master/Courses/IS713/02_1_assignment.ipynb\" target=\"_parent\"><img src=\"https://colab.research.google.com/assets/colab-badge.svg\" alt=\"Open In Colab\"/></a>"
      ]
    },
    {
      "cell_type": "code",
      "metadata": {
        "id": "jmLRY9rUdF5e",
        "outputId": "5b381f40-bb6b-4794-ea80-9f79b9ae953e",
        "colab": {
          "base_uri": "https://localhost:8080/",
          "height": 85
        }
      },
      "source": [
        "!gdown --id '1UXjOrx1feK4EMNbuhR2cKF4-38hLxUyF' --output Smoking.xlsx #https://drive.google.com/file/d/1UXjOrx1feK4EMNbuhR2cKF4-38hLxUyF/view?usp=sharing"
      ],
      "execution_count": 1,
      "outputs": [
        {
          "output_type": "stream",
          "text": [
            "Downloading...\n",
            "From: https://drive.google.com/uc?id=1UXjOrx1feK4EMNbuhR2cKF4-38hLxUyF\n",
            "To: /content/Smoking.xlsx\n",
            "\r  0% 0.00/394k [00:00<?, ?B/s]\r100% 394k/394k [00:00<00:00, 55.9MB/s]\n"
          ],
          "name": "stdout"
        }
      ]
    },
    {
      "cell_type": "code",
      "metadata": {
        "id": "t4vN4blxeMhr",
        "outputId": "2b2bbe83-153a-4fe7-fc6b-82b898e88ea9",
        "colab": {
          "base_uri": "https://localhost:8080/",
          "height": 34
        }
      },
      "source": [
        "!ls"
      ],
      "execution_count": 2,
      "outputs": [
        {
          "output_type": "stream",
          "text": [
            "sample_data  Smoking.xlsx\n"
          ],
          "name": "stdout"
        }
      ]
    },
    {
      "cell_type": "code",
      "metadata": {
        "id": "CsOE1eM0eTh5"
      },
      "source": [
        "import pandas as pd\n",
        "data = pd.read_excel(\"Smoking.xlsx\")"
      ],
      "execution_count": 3,
      "outputs": []
    },
    {
      "cell_type": "code",
      "metadata": {
        "id": "KWfGsuJfeWne",
        "outputId": "ac55ef65-992f-4e52-db85-dd29a41f4f7f",
        "colab": {
          "base_uri": "https://localhost:8080/",
          "height": 419
        }
      },
      "source": [
        "data"
      ],
      "execution_count": 6,
      "outputs": [
        {
          "output_type": "execute_result",
          "data": {
            "text/html": [
              "<div>\n",
              "<style scoped>\n",
              "    .dataframe tbody tr th:only-of-type {\n",
              "        vertical-align: middle;\n",
              "    }\n",
              "\n",
              "    .dataframe tbody tr th {\n",
              "        vertical-align: top;\n",
              "    }\n",
              "\n",
              "    .dataframe thead th {\n",
              "        text-align: right;\n",
              "    }\n",
              "</style>\n",
              "<table border=\"1\" class=\"dataframe\">\n",
              "  <thead>\n",
              "    <tr style=\"text-align: right;\">\n",
              "      <th></th>\n",
              "      <th>smoker</th>\n",
              "      <th>smkban</th>\n",
              "      <th>age</th>\n",
              "      <th>hsdrop</th>\n",
              "      <th>hsgrad</th>\n",
              "      <th>colsome</th>\n",
              "      <th>colgrad</th>\n",
              "      <th>black</th>\n",
              "      <th>hispanic</th>\n",
              "      <th>female</th>\n",
              "    </tr>\n",
              "  </thead>\n",
              "  <tbody>\n",
              "    <tr>\n",
              "      <th>0</th>\n",
              "      <td>1</td>\n",
              "      <td>1</td>\n",
              "      <td>41</td>\n",
              "      <td>0</td>\n",
              "      <td>1</td>\n",
              "      <td>0</td>\n",
              "      <td>0</td>\n",
              "      <td>0</td>\n",
              "      <td>0</td>\n",
              "      <td>1</td>\n",
              "    </tr>\n",
              "    <tr>\n",
              "      <th>1</th>\n",
              "      <td>1</td>\n",
              "      <td>1</td>\n",
              "      <td>44</td>\n",
              "      <td>0</td>\n",
              "      <td>0</td>\n",
              "      <td>1</td>\n",
              "      <td>0</td>\n",
              "      <td>0</td>\n",
              "      <td>0</td>\n",
              "      <td>1</td>\n",
              "    </tr>\n",
              "    <tr>\n",
              "      <th>2</th>\n",
              "      <td>0</td>\n",
              "      <td>0</td>\n",
              "      <td>19</td>\n",
              "      <td>0</td>\n",
              "      <td>0</td>\n",
              "      <td>1</td>\n",
              "      <td>0</td>\n",
              "      <td>0</td>\n",
              "      <td>0</td>\n",
              "      <td>1</td>\n",
              "    </tr>\n",
              "    <tr>\n",
              "      <th>3</th>\n",
              "      <td>1</td>\n",
              "      <td>0</td>\n",
              "      <td>29</td>\n",
              "      <td>0</td>\n",
              "      <td>1</td>\n",
              "      <td>0</td>\n",
              "      <td>0</td>\n",
              "      <td>0</td>\n",
              "      <td>0</td>\n",
              "      <td>1</td>\n",
              "    </tr>\n",
              "    <tr>\n",
              "      <th>4</th>\n",
              "      <td>0</td>\n",
              "      <td>1</td>\n",
              "      <td>28</td>\n",
              "      <td>0</td>\n",
              "      <td>0</td>\n",
              "      <td>1</td>\n",
              "      <td>0</td>\n",
              "      <td>0</td>\n",
              "      <td>0</td>\n",
              "      <td>1</td>\n",
              "    </tr>\n",
              "    <tr>\n",
              "      <th>...</th>\n",
              "      <td>...</td>\n",
              "      <td>...</td>\n",
              "      <td>...</td>\n",
              "      <td>...</td>\n",
              "      <td>...</td>\n",
              "      <td>...</td>\n",
              "      <td>...</td>\n",
              "      <td>...</td>\n",
              "      <td>...</td>\n",
              "      <td>...</td>\n",
              "    </tr>\n",
              "    <tr>\n",
              "      <th>9995</th>\n",
              "      <td>0</td>\n",
              "      <td>0</td>\n",
              "      <td>55</td>\n",
              "      <td>0</td>\n",
              "      <td>1</td>\n",
              "      <td>0</td>\n",
              "      <td>0</td>\n",
              "      <td>0</td>\n",
              "      <td>0</td>\n",
              "      <td>0</td>\n",
              "    </tr>\n",
              "    <tr>\n",
              "      <th>9996</th>\n",
              "      <td>0</td>\n",
              "      <td>0</td>\n",
              "      <td>31</td>\n",
              "      <td>0</td>\n",
              "      <td>0</td>\n",
              "      <td>0</td>\n",
              "      <td>0</td>\n",
              "      <td>0</td>\n",
              "      <td>0</td>\n",
              "      <td>0</td>\n",
              "    </tr>\n",
              "    <tr>\n",
              "      <th>9997</th>\n",
              "      <td>0</td>\n",
              "      <td>1</td>\n",
              "      <td>36</td>\n",
              "      <td>0</td>\n",
              "      <td>0</td>\n",
              "      <td>1</td>\n",
              "      <td>0</td>\n",
              "      <td>0</td>\n",
              "      <td>0</td>\n",
              "      <td>1</td>\n",
              "    </tr>\n",
              "    <tr>\n",
              "      <th>9998</th>\n",
              "      <td>1</td>\n",
              "      <td>0</td>\n",
              "      <td>42</td>\n",
              "      <td>0</td>\n",
              "      <td>1</td>\n",
              "      <td>0</td>\n",
              "      <td>0</td>\n",
              "      <td>0</td>\n",
              "      <td>0</td>\n",
              "      <td>1</td>\n",
              "    </tr>\n",
              "    <tr>\n",
              "      <th>9999</th>\n",
              "      <td>0</td>\n",
              "      <td>1</td>\n",
              "      <td>35</td>\n",
              "      <td>0</td>\n",
              "      <td>0</td>\n",
              "      <td>1</td>\n",
              "      <td>0</td>\n",
              "      <td>0</td>\n",
              "      <td>0</td>\n",
              "      <td>0</td>\n",
              "    </tr>\n",
              "  </tbody>\n",
              "</table>\n",
              "<p>10000 rows × 10 columns</p>\n",
              "</div>"
            ],
            "text/plain": [
              "      smoker  smkban  age  hsdrop  ...  colgrad  black  hispanic  female\n",
              "0          1       1   41       0  ...        0      0         0       1\n",
              "1          1       1   44       0  ...        0      0         0       1\n",
              "2          0       0   19       0  ...        0      0         0       1\n",
              "3          1       0   29       0  ...        0      0         0       1\n",
              "4          0       1   28       0  ...        0      0         0       1\n",
              "...      ...     ...  ...     ...  ...      ...    ...       ...     ...\n",
              "9995       0       0   55       0  ...        0      0         0       0\n",
              "9996       0       0   31       0  ...        0      0         0       0\n",
              "9997       0       1   36       0  ...        0      0         0       1\n",
              "9998       1       0   42       0  ...        0      0         0       1\n",
              "9999       0       1   35       0  ...        0      0         0       0\n",
              "\n",
              "[10000 rows x 10 columns]"
            ]
          },
          "metadata": {
            "tags": []
          },
          "execution_count": 6
        }
      ]
    },
    {
      "cell_type": "code",
      "metadata": {
        "id": "pghPdVkheYDw",
        "outputId": "f22f9540-e3e4-4764-aaf5-ab2f60ebd7c5",
        "colab": {
          "base_uri": "https://localhost:8080/",
          "height": 68
        }
      },
      "source": [
        "# 1(a)(i)\n",
        "data['smoker'].value_counts() #https://www.educative.io/edpresso/how-to-count-unique-items-in-pandas"
      ],
      "execution_count": 7,
      "outputs": [
        {
          "output_type": "execute_result",
          "data": {
            "text/plain": [
              "0    7577\n",
              "1    2423\n",
              "Name: smoker, dtype: int64"
            ]
          },
          "metadata": {
            "tags": []
          },
          "execution_count": 7
        }
      ]
    },
    {
      "cell_type": "code",
      "metadata": {
        "id": "iYtfTB7EfpXU",
        "outputId": "e4f0f390-437f-40e1-fd2a-feb843a0b7cd",
        "colab": {
          "base_uri": "https://localhost:8080/",
          "height": 85
        }
      },
      "source": [
        "# 1(a)(i)\n",
        "smoking_prob = data.groupby('smoker').size().div(len(data))\n",
        "print (smoking_prob)"
      ],
      "execution_count": 11,
      "outputs": [
        {
          "output_type": "stream",
          "text": [
            "smoker\n",
            "0    0.7577\n",
            "1    0.2423\n",
            "dtype: float64\n"
          ],
          "name": "stdout"
        }
      ]
    },
    {
      "cell_type": "code",
      "metadata": {
        "id": "Vu1WkwcogwCC",
        "outputId": "3737bf23-6aaa-4823-b01c-da7006ddff8c",
        "colab": {
          "base_uri": "https://localhost:8080/",
          "height": 85
        }
      },
      "source": [
        "\n",
        "smkban_prob = data.groupby('smkban').size().div(len(data))\n",
        "print (smkban_prob)"
      ],
      "execution_count": 12,
      "outputs": [
        {
          "output_type": "stream",
          "text": [
            "smkban\n",
            "0    0.3902\n",
            "1    0.6098\n",
            "dtype: float64\n"
          ],
          "name": "stdout"
        }
      ]
    },
    {
      "cell_type": "code",
      "metadata": {
        "id": "MDS5nE5CgILp",
        "outputId": "9a547f6f-2898-43c4-a9c2-3c68294a446e",
        "colab": {
          "base_uri": "https://localhost:8080/",
          "height": 119
        }
      },
      "source": [
        "# 1(a)(ii):0.212037; (iii):0.289595\n",
        "data.groupby(['smoker', 'smkban']).size().div(len(data)).div(smkban_prob, axis=0, level='smkban')"
      ],
      "execution_count": 14,
      "outputs": [
        {
          "output_type": "execute_result",
          "data": {
            "text/plain": [
              "smoker  smkban\n",
              "0       0         0.710405\n",
              "        1         0.787963\n",
              "1       0         0.289595\n",
              "        1         0.212037\n",
              "dtype: float64"
            ]
          },
          "metadata": {
            "tags": []
          },
          "execution_count": 14
        }
      ]
    },
    {
      "cell_type": "code",
      "metadata": {
        "id": "L4JL2oKejJCH",
        "outputId": "6ce060eb-7388-4c19-d379-f432fc980d91",
        "colab": {
          "base_uri": "https://localhost:8080/",
          "height": 34
        }
      },
      "source": [
        "0.289595 - 0.212037"
      ],
      "execution_count": 22,
      "outputs": [
        {
          "output_type": "execute_result",
          "data": {
            "text/plain": [
              "0.07755799999999999"
            ]
          },
          "metadata": {
            "tags": []
          },
          "execution_count": 22
        }
      ]
    },
    {
      "cell_type": "code",
      "metadata": {
        "id": "GhsOv4Lhg7jz",
        "outputId": "c2663dcf-297a-4f87-fc98-e58caad4ffeb",
        "colab": {
          "base_uri": "https://localhost:8080/",
          "height": 544
        }
      },
      "source": [
        "# 1(b)\n",
        "import statsmodels.formula.api as sm\n",
        "result_b = sm.ols(formula=\"smoker ~ smkban\", data=data).fit()\n",
        "print(result_b.params)\n",
        "print(result_b.summary())\n",
        "print (\"f_pvalue:\", result_b.f_pvalue)"
      ],
      "execution_count": 15,
      "outputs": [
        {
          "output_type": "stream",
          "text": [
            "/usr/local/lib/python3.6/dist-packages/statsmodels/tools/_testing.py:19: FutureWarning: pandas.util.testing is deprecated. Use the functions in the public API at pandas.testing instead.\n",
            "  import pandas.util.testing as tm\n"
          ],
          "name": "stderr"
        },
        {
          "output_type": "stream",
          "text": [
            "Intercept    0.289595\n",
            "smkban      -0.077558\n",
            "dtype: float64\n",
            "                            OLS Regression Results                            \n",
            "==============================================================================\n",
            "Dep. Variable:                 smoker   R-squared:                       0.008\n",
            "Model:                            OLS   Adj. R-squared:                  0.008\n",
            "Method:                 Least Squares   F-statistic:                     78.56\n",
            "Date:                Tue, 06 Oct 2020   Prob (F-statistic):           9.09e-19\n",
            "Time:                        06:58:11   Log-Likelihood:                -5675.0\n",
            "No. Observations:               10000   AIC:                         1.135e+04\n",
            "Df Residuals:                    9998   BIC:                         1.137e+04\n",
            "Df Model:                           1                                         \n",
            "Covariance Type:            nonrobust                                         \n",
            "==============================================================================\n",
            "                 coef    std err          t      P>|t|      [0.025      0.975]\n",
            "------------------------------------------------------------------------------\n",
            "Intercept      0.2896      0.007     42.380      0.000       0.276       0.303\n",
            "smkban        -0.0776      0.009     -8.863      0.000      -0.095      -0.060\n",
            "==============================================================================\n",
            "Omnibus:                     1765.260   Durbin-Watson:                   1.851\n",
            "Prob(Omnibus):                  0.000   Jarque-Bera (JB):             2479.745\n",
            "Skew:                           1.189   Prob(JB):                         0.00\n",
            "Kurtosis:                       2.458   Cond. No.                         2.96\n",
            "==============================================================================\n",
            "\n",
            "Warnings:\n",
            "[1] Standard Errors assume that the covariance matrix of the errors is correctly specified.\n",
            "f_pvalue: 9.090225689875786e-19\n"
          ],
          "name": "stdout"
        }
      ]
    },
    {
      "cell_type": "code",
      "metadata": {
        "id": "a8JjQCcGtADA",
        "outputId": "10af57f7-e9e7-4a3c-b476-1457f0440d36",
        "colab": {
          "base_uri": "https://localhost:8080/",
          "height": 850
        }
      },
      "source": [
        "#1(c)(d)\n",
        "import statsmodels.formula.api as sm\n",
        "import numpy as np\n",
        "result_b = sm.ols(formula=\"smoker ~ smkban + female + age + np.power(age,2) + hsdrop + hsgrad + colsome + colgrad + black + hispanic\", data=data).fit()\n",
        "print(result_b.params)\n",
        "print(result_b.summary())\n",
        "print (\"f_pvalue:\", result_b.f_pvalue)"
      ],
      "execution_count": 34,
      "outputs": [
        {
          "output_type": "stream",
          "text": [
            "Intercept          -0.014110\n",
            "smkban             -0.047240\n",
            "female             -0.033257\n",
            "age                 0.009674\n",
            "np.power(age, 2)   -0.000132\n",
            "hsdrop              0.322714\n",
            "hsgrad              0.232701\n",
            "colsome             0.164297\n",
            "colgrad             0.044798\n",
            "black              -0.027566\n",
            "hispanic           -0.104816\n",
            "dtype: float64\n",
            "                            OLS Regression Results                            \n",
            "==============================================================================\n",
            "Dep. Variable:                 smoker   R-squared:                       0.057\n",
            "Model:                            OLS   Adj. R-squared:                  0.056\n",
            "Method:                 Least Squares   F-statistic:                     60.37\n",
            "Date:                Tue, 06 Oct 2020   Prob (F-statistic):          1.44e-119\n",
            "Time:                        12:26:56   Log-Likelihood:                -5420.7\n",
            "No. Observations:               10000   AIC:                         1.086e+04\n",
            "Df Residuals:                    9989   BIC:                         1.094e+04\n",
            "Df Model:                          10                                         \n",
            "Covariance Type:            nonrobust                                         \n",
            "====================================================================================\n",
            "                       coef    std err          t      P>|t|      [0.025      0.975]\n",
            "------------------------------------------------------------------------------------\n",
            "Intercept           -0.0141      0.043     -0.326      0.744      -0.099       0.071\n",
            "smkban              -0.0472      0.009     -5.419      0.000      -0.064      -0.030\n",
            "female              -0.0333      0.009     -3.896      0.000      -0.050      -0.017\n",
            "age                  0.0097      0.002      4.882      0.000       0.006       0.014\n",
            "np.power(age, 2)    -0.0001   2.33e-05     -5.655      0.000      -0.000   -8.61e-05\n",
            "hsdrop               0.3227      0.020     16.261      0.000       0.284       0.362\n",
            "hsgrad               0.2327      0.015     15.417      0.000       0.203       0.262\n",
            "colsome              0.1643      0.015     10.680      0.000       0.134       0.194\n",
            "colgrad              0.0448      0.016      2.797      0.005       0.013       0.076\n",
            "black               -0.0276      0.016     -1.753      0.080      -0.058       0.003\n",
            "hispanic            -0.1048      0.014     -7.527      0.000      -0.132      -0.078\n",
            "==============================================================================\n",
            "Omnibus:                     1557.853   Durbin-Watson:                   1.875\n",
            "Prob(Omnibus):                  0.000   Jarque-Bera (JB):             2100.981\n",
            "Skew:                           1.093   Prob(JB):                         0.00\n",
            "Kurtosis:                       2.486   Cond. No.                     2.11e+04\n",
            "==============================================================================\n",
            "\n",
            "Warnings:\n",
            "[1] Standard Errors assume that the covariance matrix of the errors is correctly specified.\n",
            "[2] The condition number is large, 2.11e+04. This might indicate that there are\n",
            "strong multicollinearity or other numerical problems.\n",
            "f_pvalue: 1.43920805431382e-119\n"
          ],
          "name": "stdout"
        }
      ]
    },
    {
      "cell_type": "code",
      "metadata": {
        "id": "Qxn-x69S4RMT",
        "outputId": "db8f6d66-41dc-43d3-cda0-1c559396f510",
        "colab": {
          "base_uri": "https://localhost:8080/",
          "height": 102
        }
      },
      "source": [
        "d = {\"smoker\":[0,0,0,0],\t\"smkban\":[1,0,1,0],\t\"age\":[20,20,40,40],\t\"hsdrop\":[1,1,0,0],\t\"hsgrad\":[0,0,1,1],\t\"colsome\":[0,0,0,0],\t\"colgrad\":[0,0,1,1],\t\"black\":[0,0,1,1],\t\"hispanic\":[0,0,0,0],\t\"female\":[0,0,1,1]}\n",
        "df = pd.DataFrame(data=d)\n",
        "result_b.predict(df)"
      ],
      "execution_count": 35,
      "outputs": [
        {
          "output_type": "execute_result",
          "data": {
            "text/plain": [
              "0    0.402132\n",
              "1    0.449372\n",
              "2    0.331422\n",
              "3    0.378662\n",
              "dtype: float64"
            ]
          },
          "metadata": {
            "tags": []
          },
          "execution_count": 35
        }
      ]
    },
    {
      "cell_type": "code",
      "metadata": {
        "id": "i9tGCiXLydYX",
        "outputId": "6347efd3-e9d4-42ac-f849-c900190680df",
        "colab": {
          "base_uri": "https://localhost:8080/",
          "height": 612
        }
      },
      "source": [
        "#1(c)(d)\n",
        "import statsmodels.formula.api as sm\n",
        "import numpy as np\n",
        "result_b = sm.ols(formula=\"smoker ~  hsdrop + hsgrad + colsome + colgrad \", data=data).fit()\n",
        "print(result_b.params)\n",
        "print(result_b.summary())\n",
        "print (\"f_pvalue:\", result_b.f_pvalue)"
      ],
      "execution_count": 23,
      "outputs": [
        {
          "output_type": "stream",
          "text": [
            "Intercept    0.092557\n",
            "hsdrop       0.283539\n",
            "hsgrad       0.221588\n",
            "colsome      0.153339\n",
            "colgrad      0.043345\n",
            "dtype: float64\n",
            "                            OLS Regression Results                            \n",
            "==============================================================================\n",
            "Dep. Variable:                 smoker   R-squared:                       0.043\n",
            "Model:                            OLS   Adj. R-squared:                  0.043\n",
            "Method:                 Least Squares   F-statistic:                     112.4\n",
            "Date:                Tue, 06 Oct 2020   Prob (F-statistic):           6.59e-94\n",
            "Time:                        12:02:03   Log-Likelihood:                -5494.1\n",
            "No. Observations:               10000   AIC:                         1.100e+04\n",
            "Df Residuals:                    9995   BIC:                         1.103e+04\n",
            "Df Model:                           4                                         \n",
            "Covariance Type:            nonrobust                                         \n",
            "==============================================================================\n",
            "                 coef    std err          t      P>|t|      [0.025      0.975]\n",
            "------------------------------------------------------------------------------\n",
            "Intercept      0.0926      0.013      7.147      0.000       0.067       0.118\n",
            "hsdrop         0.2835      0.019     14.934      0.000       0.246       0.321\n",
            "hsgrad         0.2216      0.015     14.887      0.000       0.192       0.251\n",
            "colsome        0.1533      0.015     10.101      0.000       0.124       0.183\n",
            "colgrad        0.0433      0.016      2.705      0.007       0.012       0.075\n",
            "==============================================================================\n",
            "Omnibus:                     1626.065   Durbin-Watson:                   1.871\n",
            "Prob(Omnibus):                  0.000   Jarque-Bera (JB):             2184.209\n",
            "Skew:                           1.112   Prob(JB):                         0.00\n",
            "Kurtosis:                       2.458   Cond. No.                         8.08\n",
            "==============================================================================\n",
            "\n",
            "Warnings:\n",
            "[1] Standard Errors assume that the covariance matrix of the errors is correctly specified.\n",
            "f_pvalue: 6.588756908952014e-94\n"
          ],
          "name": "stdout"
        }
      ]
    },
    {
      "cell_type": "code",
      "metadata": {
        "id": "th3JunMtA18M",
        "outputId": "f2104325-17bb-470d-f65a-343a9e5a728d",
        "colab": {
          "base_uri": "https://localhost:8080/",
          "height": 374
        }
      },
      "source": [
        "#1(c)(d)\n",
        "import statsmodels.formula.api as sm\n",
        "import numpy as np\n",
        "result_b = sm.probit(formula=\"smoker ~ smkban\", data=data).fit()\n",
        "print(result_b.params)\n",
        "print(result_b.summary())\n",
        "# print (\"f_pvalue:\", result_b.f_pvalue)"
      ],
      "execution_count": 19,
      "outputs": [
        {
          "output_type": "stream",
          "text": [
            "Optimization terminated successfully.\n",
            "         Current function value: 0.549867\n",
            "         Iterations 5\n",
            "Intercept   -0.554568\n",
            "smkban      -0.244806\n",
            "dtype: float64\n",
            "                          Probit Regression Results                           \n",
            "==============================================================================\n",
            "Dep. Variable:                 smoker   No. Observations:                10000\n",
            "Model:                         Probit   Df Residuals:                     9998\n",
            "Method:                           MLE   Df Model:                            1\n",
            "Date:                Tue, 06 Oct 2020   Pseudo R-squ.:                0.006953\n",
            "Time:                        08:24:58   Log-Likelihood:                -5498.7\n",
            "converged:                       True   LL-Null:                       -5537.2\n",
            "Covariance Type:            nonrobust   LLR p-value:                 1.711e-18\n",
            "==============================================================================\n",
            "                 coef    std err          z      P>|z|      [0.025      0.975]\n",
            "------------------------------------------------------------------------------\n",
            "Intercept     -0.5546      0.021    -26.126      0.000      -0.596      -0.513\n",
            "smkban        -0.2448      0.028     -8.784      0.000      -0.299      -0.190\n",
            "==============================================================================\n"
          ],
          "name": "stdout"
        }
      ]
    },
    {
      "cell_type": "code",
      "metadata": {
        "id": "vbaR50eSz3rR",
        "outputId": "a2161cfb-079c-4dde-9ea4-f0afc9ad2f29",
        "colab": {
          "base_uri": "https://localhost:8080/",
          "height": 680
        }
      },
      "source": [
        "#1(c)(d)\n",
        "import statsmodels.formula.api as sm\n",
        "import numpy as np\n",
        "result_b = sm.probit(formula=\"smoker ~ smkban + female + age + np.power(age,2) + hsdrop + hsgrad + colsome + colgrad + black + hispanic\", data=data).fit()\n",
        "print(result_b.params)\n",
        "print(result_b.summary())\n",
        "# print (\"f_pvalue:\", result_b.f_pvalue)"
      ],
      "execution_count": 24,
      "outputs": [
        {
          "output_type": "stream",
          "text": [
            "Optimization terminated successfully.\n",
            "         Current function value: 0.523587\n",
            "         Iterations 6\n",
            "Intercept          -1.734927\n",
            "smkban             -0.158630\n",
            "female             -0.111731\n",
            "age                 0.034511\n",
            "np.power(age, 2)   -0.000468\n",
            "hsdrop              1.141611\n",
            "hsgrad              0.882671\n",
            "colsome             0.677119\n",
            "colgrad             0.234684\n",
            "black              -0.084279\n",
            "hispanic           -0.338274\n",
            "dtype: float64\n",
            "                          Probit Regression Results                           \n",
            "==============================================================================\n",
            "Dep. Variable:                 smoker   No. Observations:                10000\n",
            "Model:                         Probit   Df Residuals:                     9989\n",
            "Method:                           MLE   Df Model:                           10\n",
            "Date:                Tue, 06 Oct 2020   Pseudo R-squ.:                 0.05441\n",
            "Time:                        12:17:12   Log-Likelihood:                -5235.9\n",
            "converged:                       True   LL-Null:                       -5537.2\n",
            "Covariance Type:            nonrobust   LLR p-value:                4.891e-123\n",
            "====================================================================================\n",
            "                       coef    std err          z      P>|z|      [0.025      0.975]\n",
            "------------------------------------------------------------------------------------\n",
            "Intercept           -1.7349      0.153    -11.370      0.000      -2.034      -1.436\n",
            "smkban              -0.1586      0.029     -5.471      0.000      -0.215      -0.102\n",
            "female              -0.1117      0.029     -3.877      0.000      -0.168      -0.055\n",
            "age                  0.0345      0.007      4.976      0.000       0.021       0.048\n",
            "np.power(age, 2)    -0.0005   8.28e-05     -5.645      0.000      -0.001      -0.000\n",
            "hsdrop               1.1416      0.072     15.846      0.000       1.000       1.283\n",
            "hsgrad               0.8827      0.060     14.766      0.000       0.766       1.000\n",
            "colsome              0.6771      0.061     11.112      0.000       0.558       0.797\n",
            "colgrad              0.2347      0.065      3.607      0.000       0.107       0.362\n",
            "black               -0.0843      0.053     -1.601      0.109      -0.187       0.019\n",
            "hispanic            -0.3383      0.048     -7.084      0.000      -0.432      -0.245\n",
            "====================================================================================\n"
          ],
          "name": "stdout"
        }
      ]
    },
    {
      "cell_type": "code",
      "metadata": {
        "id": "D7PJj4ui2LRH",
        "outputId": "342631c3-0c83-4d5e-a8ce-20e0926096f5",
        "colab": {
          "base_uri": "https://localhost:8080/",
          "height": 102
        }
      },
      "source": [
        "d = {\"smoker\":[0,0,0,0],\t\"smkban\":[1,0,1,0],\t\"age\":[20,20,40,40],\t\"hsdrop\":[1,1,0,0],\t\"hsgrad\":[0,0,1,1],\t\"colsome\":[0,0,0,0],\t\"colgrad\":[0,0,1,1],\t\"black\":[0,0,1,1],\t\"hispanic\":[0,0,0,0],\t\"female\":[0,0,1,1]}\n",
        "df = pd.DataFrame(data=d)\n",
        "result_b.predict(df)"
      ],
      "execution_count": 33,
      "outputs": [
        {
          "output_type": "execute_result",
          "data": {
            "text/plain": [
              "0    0.401783\n",
              "1    0.464102\n",
              "2    0.366996\n",
              "3    0.428109\n",
              "dtype: float64"
            ]
          },
          "metadata": {
            "tags": []
          },
          "execution_count": 33
        }
      ]
    },
    {
      "cell_type": "code",
      "metadata": {
        "id": "XK7nKsbE4qa3",
        "outputId": "87f997ce-f224-4458-8e2e-cefcd84c7e28",
        "colab": {
          "base_uri": "https://localhost:8080/",
          "height": 374
        }
      },
      "source": [
        "#1(c)(d)\n",
        "import statsmodels.formula.api as sm\n",
        "import numpy as np\n",
        "result_b = sm.logit(formula=\"smoker ~ smkban\", data=data).fit()\n",
        "print(result_b.params)\n",
        "print(result_b.summary())\n",
        "# print (\"f_pvalue:\", result_b.f_pvalue)"
      ],
      "execution_count": 20,
      "outputs": [
        {
          "output_type": "stream",
          "text": [
            "Optimization terminated successfully.\n",
            "         Current function value: 0.549867\n",
            "         Iterations 5\n",
            "Intercept   -0.897351\n",
            "smkban      -0.415340\n",
            "dtype: float64\n",
            "                           Logit Regression Results                           \n",
            "==============================================================================\n",
            "Dep. Variable:                 smoker   No. Observations:                10000\n",
            "Model:                          Logit   Df Residuals:                     9998\n",
            "Method:                           MLE   Df Model:                            1\n",
            "Date:                Tue, 06 Oct 2020   Pseudo R-squ.:                0.006953\n",
            "Time:                        08:25:22   Log-Likelihood:                -5498.7\n",
            "converged:                       True   LL-Null:                       -5537.2\n",
            "Covariance Type:            nonrobust   LLR p-value:                 1.711e-18\n",
            "==============================================================================\n",
            "                 coef    std err          z      P>|z|      [0.025      0.975]\n",
            "------------------------------------------------------------------------------\n",
            "Intercept     -0.8974      0.035    -25.425      0.000      -0.967      -0.828\n",
            "smkban        -0.4153      0.047     -8.801      0.000      -0.508      -0.323\n",
            "==============================================================================\n"
          ],
          "name": "stdout"
        }
      ]
    },
    {
      "cell_type": "code",
      "metadata": {
        "id": "ifDeW_WXA9gN",
        "outputId": "f0ecd1ec-a9bc-4437-e707-f7e27438276b",
        "colab": {
          "base_uri": "https://localhost:8080/",
          "height": 680
        }
      },
      "source": [
        "#1(c)(d)\n",
        "import statsmodels.formula.api as sm\n",
        "import numpy as np\n",
        "result_b = sm.logit(formula=\"smoker ~ smkban + female + age + np.power(age,2) + hsdrop + hsgrad + colsome + colgrad + black + hispanic\", data=data).fit()\n",
        "print(result_b.params)\n",
        "print(result_b.summary())\n",
        "# print (\"f_pvalue:\", result_b.f_pvalue)"
      ],
      "execution_count": 36,
      "outputs": [
        {
          "output_type": "stream",
          "text": [
            "Optimization terminated successfully.\n",
            "         Current function value: 0.523400\n",
            "         Iterations 6\n",
            "Intercept          -2.999182\n",
            "smkban             -0.262029\n",
            "female             -0.190773\n",
            "age                 0.059937\n",
            "np.power(age, 2)   -0.000818\n",
            "hsdrop              2.016853\n",
            "hsgrad              1.578504\n",
            "colsome             1.229978\n",
            "colgrad             0.446583\n",
            "black              -0.156034\n",
            "hispanic           -0.597173\n",
            "dtype: float64\n",
            "                           Logit Regression Results                           \n",
            "==============================================================================\n",
            "Dep. Variable:                 smoker   No. Observations:                10000\n",
            "Model:                          Logit   Df Residuals:                     9989\n",
            "Method:                           MLE   Df Model:                           10\n",
            "Date:                Tue, 06 Oct 2020   Pseudo R-squ.:                 0.05475\n",
            "Time:                        12:28:12   Log-Likelihood:                -5234.0\n",
            "converged:                       True   LL-Null:                       -5537.2\n",
            "Covariance Type:            nonrobust   LLR p-value:                7.731e-124\n",
            "====================================================================================\n",
            "                       coef    std err          z      P>|z|      [0.025      0.975]\n",
            "------------------------------------------------------------------------------------\n",
            "Intercept           -2.9992      0.267    -11.227      0.000      -3.523      -2.476\n",
            "smkban              -0.2620      0.049     -5.314      0.000      -0.359      -0.165\n",
            "female              -0.1908      0.049     -3.878      0.000      -0.287      -0.094\n",
            "age                  0.0599      0.012      5.000      0.000       0.036       0.083\n",
            "np.power(age, 2)    -0.0008      0.000     -5.667      0.000      -0.001      -0.001\n",
            "hsdrop               2.0169      0.132     15.228      0.000       1.757       2.276\n",
            "hsgrad               1.5785      0.115     13.747      0.000       1.353       1.804\n",
            "colsome              1.2300      0.117     10.522      0.000       1.001       1.459\n",
            "colgrad              0.4466      0.126      3.546      0.000       0.200       0.693\n",
            "black               -0.1560      0.090     -1.731      0.083      -0.333       0.021\n",
            "hispanic            -0.5972      0.083     -7.162      0.000      -0.761      -0.434\n",
            "====================================================================================\n"
          ],
          "name": "stdout"
        }
      ]
    },
    {
      "cell_type": "code",
      "metadata": {
        "id": "qPiZlBohBAYR",
        "outputId": "33ed5837-0611-4da4-990d-e3c5b4167fbc",
        "colab": {
          "base_uri": "https://localhost:8080/",
          "height": 102
        }
      },
      "source": [
        "d = {\"smoker\":[0,0,0,0],\t\"smkban\":[1,0,1,0],\t\"age\":[20,20,40,40],\t\"hsdrop\":[1,1,0,0],\t\"hsgrad\":[0,0,1,1],\t\"colsome\":[0,0,0,0],\t\"colgrad\":[0,0,1,1],\t\"black\":[0,0,1,1],\t\"hispanic\":[0,0,0,0],\t\"female\":[0,0,1,1]}\n",
        "df = pd.DataFrame(data=d)\n",
        "result_b.predict(df)"
      ],
      "execution_count": 37,
      "outputs": [
        {
          "output_type": "execute_result",
          "data": {
            "text/plain": [
              "0    0.407840\n",
              "1    0.472310\n",
              "2    0.378818\n",
              "3    0.442126\n",
              "dtype: float64"
            ]
          },
          "metadata": {
            "tags": []
          },
          "execution_count": 37
        }
      ]
    },
    {
      "cell_type": "code",
      "metadata": {
        "id": "zvXSRhyD4jU7"
      },
      "source": [
        ""
      ],
      "execution_count": null,
      "outputs": []
    }
  ]
}