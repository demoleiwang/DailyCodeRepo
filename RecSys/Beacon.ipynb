{
  "nbformat": 4,
  "nbformat_minor": 0,
  "metadata": {
    "colab": {
      "name": "Beacon.ipynb",
      "provenance": [],
      "collapsed_sections": [],
      "toc_visible": true,
      "authorship_tag": "ABX9TyPvrU189Re+dZWUYImObW65",
      "include_colab_link": true
    },
    "kernelspec": {
      "name": "python3",
      "display_name": "Python 3"
    }
  },
  "cells": [
    {
      "cell_type": "markdown",
      "metadata": {
        "id": "view-in-github",
        "colab_type": "text"
      },
      "source": [
        "<a href=\"https://colab.research.google.com/github/demoleiwang/DailyCodeRepo/blob/master/RecSys/Beacon.ipynb\" target=\"_parent\"><img src=\"https://colab.research.google.com/assets/colab-badge.svg\" alt=\"Open In Colab\"/></a>"
      ]
    },
    {
      "cell_type": "markdown",
      "metadata": {
        "id": "_RDLVZIk-qBH",
        "colab_type": "text"
      },
      "source": [
        "# Category\n",
        "\n",
        "- Utils\n",
        "- Correlation matrix construction"
      ]
    },
    {
      "cell_type": "markdown",
      "metadata": {
        "id": "wC0_-C7K_MJb",
        "colab_type": "text"
      },
      "source": [
        "## Utils"
      ]
    },
    {
      "cell_type": "markdown",
      "metadata": {
        "id": "fMRlM6jbBZ26",
        "colab_type": "text"
      },
      "source": [
        "### create_folder & read & freq"
      ]
    },
    {
      "cell_type": "code",
      "metadata": {
        "id": "HlMNyVKe_XmV",
        "colab_type": "code",
        "colab": {}
      },
      "source": [
        "def create_folder(dir):\n",
        "    try:\n",
        "        os.makedirs(dir)\n",
        "    except OSError:\n",
        "        pass\n",
        "\n",
        "def read_file_as_lines(file_path):\n",
        "    with open(file_path, \"r\") as f:\n",
        "        lines = [line.rstrip('\\n') for line in f]\n",
        "        return lines\n",
        "\n",
        "###  frequency \n",
        "def freq(item_list):\n",
        "    item_freq_dict - {}\n",
        "    for item_obs in item_list:\n",
        "        if item_obs not in item_freq_dict:\n",
        "            item_freq_dict[item_obs] = 1\n",
        "        else:\n",
        "            item_freq_dict[item_obs] += 1\n",
        "    item_probs = []\n",
        "    for item in items:\n",
        "        item_dict[item] = len(item_dict)\n",
        "        item_probs.append(item_freq_dict[item])\n",
        "\n",
        "    item_probs = np.asarray(item_probs, dtype=np.float32)\n",
        "    item_probs /= np.sum(item_probs)\n",
        "\n",
        "### reverse dict\n",
        "# reversed_item_dict = dict(zip(item_dict.values(), item_dict.keys()))"
      ],
      "execution_count": 4,
      "outputs": []
    },
    {
      "cell_type": "markdown",
      "metadata": {
        "id": "SAyKIBHpBj7o",
        "colab_type": "text"
      },
      "source": [
        "### itertools"
      ]
    },
    {
      "cell_type": "code",
      "metadata": {
        "id": "BXW-L2Cr_ZfE",
        "colab_type": "code",
        "colab": {
          "base_uri": "https://localhost:8080/",
          "height": 34
        },
        "outputId": "c966d8aa-4b4c-4b0d-8851-41549b4bf6d4"
      },
      "source": [
        "import itertools\n",
        "id_list = [3,5,7]\n",
        "x = itertools.product(id_list, id_list)\n",
        "print (list(x))"
      ],
      "execution_count": 6,
      "outputs": [
        {
          "output_type": "stream",
          "text": [
            "[(3, 3), (3, 5), (3, 7), (5, 3), (5, 5), (5, 7), (7, 3), (7, 5), (7, 7)]\n"
          ],
          "name": "stdout"
        }
      ]
    },
    {
      "cell_type": "markdown",
      "metadata": {
        "id": "py5L9B2RBtRn",
        "colab_type": "text"
      },
      "source": [
        "### create_sparse_matrix"
      ]
    },
    {
      "cell_type": "code",
      "metadata": {
        "id": "o-kHFus4BU2i",
        "colab_type": "code",
        "colab": {}
      },
      "source": [
        "def create_sparse_matrix(pairs, NB_ITEMS):\n",
        "    row = [p[0] for p in pairs]\n",
        "    col = [p[1] for p in pairs]\n",
        "    data = [pairs[p] for p in pairs]\n",
        "\n",
        "    adj_matrix = sp.csc_matrix((data, (row, col)), shape=(NB_ITEMS, NB_ITEMS), dtype=\"float32\")\n",
        "    nb_nonzero = len(pairs)\n",
        "    density = nb_nonzero * 1.0 / NB_ITEMS / NB_ITEMS\n",
        "    print(\"Density: {:.6f}\".format(density))\n",
        "\n",
        "    return sp.csc_matrix(adj_matrix, dtype=\"float32\")"
      ],
      "execution_count": 7,
      "outputs": []
    },
    {
      "cell_type": "markdown",
      "metadata": {
        "id": "4VhEA_JuIIK_",
        "colab_type": "text"
      },
      "source": [
        "### normalize_adj"
      ]
    },
    {
      "cell_type": "code",
      "metadata": {
        "id": "TsUOFTt7II_B",
        "colab_type": "code",
        "colab": {}
      },
      "source": [
        "def normalize_adj(adj_matrix):\n",
        "    \"\"\"Symmetrically normalize adjacency matrix.\"\"\"\n",
        "    row_sum = np.array(adj_matrix.sum(1))\n",
        "    d_inv_sqrt = np.power(row_sum, -0.5).flatten()\n",
        "    d_inv_sqrt[np.isinf(d_inv_sqrt)] = 0.\n",
        "    d_mat_inv_sqrt = sp.diags(d_inv_sqrt)\n",
        "\n",
        "    normalized_matrix = adj_matrix.dot(d_mat_inv_sqrt).transpose().dot(d_mat_inv_sqrt)\n",
        "\n",
        "    return normalized_matrix.tocsr()"
      ],
      "execution_count": 8,
      "outputs": []
    },
    {
      "cell_type": "markdown",
      "metadata": {
        "id": "tT_KOWTl-9zU",
        "colab_type": "text"
      },
      "source": [
        "## Correleation matrix construction"
      ]
    },
    {
      "cell_type": "code",
      "metadata": {
        "id": "L3EkF5HM88o4",
        "colab_type": "code",
        "colab": {
          "base_uri": "https://localhost:8080/",
          "height": 34
        },
        "outputId": "67c23f62-c27c-4d73-e5d6-7c575648ed9a"
      },
      "source": [
        "print (\"hellow\")"
      ],
      "execution_count": 1,
      "outputs": [
        {
          "output_type": "stream",
          "text": [
            "hellow\n"
          ],
          "name": "stdout"
        }
      ]
    },
    {
      "cell_type": "code",
      "metadata": {
        "id": "d07gJCV-9Ci9",
        "colab_type": "code",
        "colab": {}
      },
      "source": [
        ""
      ],
      "execution_count": null,
      "outputs": []
    }
  ]
}