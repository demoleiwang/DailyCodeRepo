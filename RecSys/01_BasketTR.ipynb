{
  "nbformat": 4,
  "nbformat_minor": 0,
  "metadata": {
    "colab": {
      "name": "01-BasketTR.ipynb",
      "provenance": [],
      "authorship_tag": "ABX9TyObSM2h6ieCSGiXcTzTsBQQ",
      "include_colab_link": true
    },
    "kernelspec": {
      "name": "python3",
      "display_name": "Python 3"
    }
  },
  "cells": [
    {
      "cell_type": "markdown",
      "metadata": {
        "id": "view-in-github",
        "colab_type": "text"
      },
      "source": [
        "<a href=\"https://colab.research.google.com/github/demoleiwang/DailyCodeRepo/blob/master/RecSys/01_BasketTR.ipynb\" target=\"_parent\"><img src=\"https://colab.research.google.com/assets/colab-badge.svg\" alt=\"Open In Colab\"/></a>"
      ]
    },
    {
      "cell_type": "markdown",
      "metadata": {
        "id": "sqBQucbtzLv2",
        "colab_type": "text"
      },
      "source": [
        "#Introduction\n",
        "\n",
        "\n",
        "\n",
        "*   Generic metrics\n",
        "*   BasketTR and Baselines for BasketTR\n",
        "\n"
      ]
    },
    {
      "cell_type": "markdown",
      "metadata": {
        "id": "NOMvOJb6zdOL",
        "colab_type": "text"
      },
      "source": [
        "## Metrics"
      ]
    },
    {
      "cell_type": "markdown",
      "metadata": {
        "id": "ef9IRjsEzgNo",
        "colab_type": "text"
      },
      "source": [
        "### Precision, Recall and F1"
      ]
    },
    {
      "cell_type": "code",
      "metadata": {
        "id": "F8wFGcw_zF4H",
        "colab_type": "code",
        "colab": {}
      },
      "source": [
        "def _compute_precision_recall(targets, predictions, k):\n",
        "    '''\n",
        "    predictions: list([40,10,2,4,5,...])\n",
        "    targets: list[[39,40,5,20,90,...]]\n",
        "    k: top_k\n",
        "    '''\n",
        "    pred = predictions[:k]\n",
        "    num_hit = len(set(pred).intersection(set(targets)))\n",
        "    precision = float(num_hit) / len(pred)\n",
        "    recall = float(num_hit) / len(targets)\n",
        "    if precision == 0 or recall == 0:\n",
        "        f1 = 0.\n",
        "    else:\n",
        "        f1 = 2 * ((precision * recall) / (precision + recall))\n",
        "    return precision, recall, f1"
      ],
      "execution_count": 1,
      "outputs": []
    },
    {
      "cell_type": "code",
      "metadata": {
        "id": "5YwlGE9y0GO7",
        "colab_type": "code",
        "colab": {}
      },
      "source": [
        "def normal_metric(x, y, kk_list):\n",
        "    '''\n",
        "    x: [9,8,7,6] numpy\n",
        "    y: [9,7,3] numpy\n",
        "    kk_list [1,3,5,7]\n",
        "    '''\n",
        "    result_ = {}\n",
        "\n",
        "    for ki, kk in enumerate(kk_list):\n",
        "        if kk not in result_:\n",
        "            result_[kk] = {'p':0., 'r':0., 'f1':0.}\n",
        "        # print ()\n",
        "        # print('------',np.intersect1d(x[:kk], y))\n",
        "        num_hit = len(np.intersect1d(x[:kk], y))\n",
        "        precision = float(num_hit) / kk\n",
        "        recall = float(num_hit) / len(y)\n",
        "        if precision==0 or recall==0:\n",
        "            f1 = 0.\n",
        "        else:\n",
        "            f1 = 2*((precision*recall)/(precision+recall))\n",
        "        result_[kk]['p'] = precision\n",
        "        result_[kk]['r'] = recall\n",
        "        result_[kk]['f1'] = f1\n",
        "    return result_"
      ],
      "execution_count": 2,
      "outputs": []
    },
    {
      "cell_type": "code",
      "metadata": {
        "id": "bexDQ0520atv",
        "colab_type": "code",
        "colab": {}
      },
      "source": [
        ""
      ],
      "execution_count": null,
      "outputs": []
    }
  ]
}